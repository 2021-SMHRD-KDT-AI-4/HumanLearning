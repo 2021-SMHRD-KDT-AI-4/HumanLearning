{
 "cells": [
  {
   "cell_type": "code",
   "execution_count": 1,
   "id": "1d96451c",
   "metadata": {
    "scrolled": true
   },
   "outputs": [
    {
     "name": "stdout",
     "output_type": "stream",
     "text": [
      "Collecting cx_Oracle\n",
      "  Downloading cx_Oracle-8.2.1-cp36-cp36m-win_amd64.whl (217 kB)\n",
      "Installing collected packages: cx-Oracle\n",
      "Successfully installed cx-Oracle-8.2.1\n"
     ]
    },
    {
     "name": "stderr",
     "output_type": "stream",
     "text": [
      "WARNING: Ignoring invalid distribution -5py (c:\\users\\smhrd\\anaconda3\\envs\\deep_gpu2021\\lib\\site-packages)\n",
      "WARNING: Ignoring invalid distribution -pype1 (c:\\users\\smhrd\\anaconda3\\envs\\deep_gpu2021\\lib\\site-packages)\n",
      "WARNING: Ignoring invalid distribution -5py (c:\\users\\smhrd\\anaconda3\\envs\\deep_gpu2021\\lib\\site-packages)\n",
      "WARNING: Ignoring invalid distribution -pype1 (c:\\users\\smhrd\\anaconda3\\envs\\deep_gpu2021\\lib\\site-packages)\n",
      "WARNING: Ignoring invalid distribution -5py (c:\\users\\smhrd\\anaconda3\\envs\\deep_gpu2021\\lib\\site-packages)\n",
      "WARNING: Ignoring invalid distribution -pype1 (c:\\users\\smhrd\\anaconda3\\envs\\deep_gpu2021\\lib\\site-packages)\n",
      "WARNING: Ignoring invalid distribution -5py (c:\\users\\smhrd\\anaconda3\\envs\\deep_gpu2021\\lib\\site-packages)\n",
      "WARNING: Ignoring invalid distribution -pype1 (c:\\users\\smhrd\\anaconda3\\envs\\deep_gpu2021\\lib\\site-packages)\n",
      "WARNING: Ignoring invalid distribution -5py (c:\\users\\smhrd\\anaconda3\\envs\\deep_gpu2021\\lib\\site-packages)\n",
      "WARNING: Ignoring invalid distribution -pype1 (c:\\users\\smhrd\\anaconda3\\envs\\deep_gpu2021\\lib\\site-packages)\n",
      "WARNING: Ignoring invalid distribution -5py (c:\\users\\smhrd\\anaconda3\\envs\\deep_gpu2021\\lib\\site-packages)\n",
      "WARNING: Ignoring invalid distribution -pype1 (c:\\users\\smhrd\\anaconda3\\envs\\deep_gpu2021\\lib\\site-packages)\n"
     ]
    }
   ],
   "source": [
    "!pip install cx_Oracle"
   ]
  },
  {
   "cell_type": "code",
   "execution_count": 5,
   "id": "e9c4e686",
   "metadata": {},
   "outputs": [
    {
     "name": "stdout",
     "output_type": "stream",
     "text": [
      "   NOTE_ID USER_ID NOTE_NAME\n",
      "0        1       a        국어\n",
      "1        2       a        수학\n"
     ]
    }
   ],
   "source": [
    "import cx_Oracle\n",
    "import pandas  as pd\n",
    "# dsn=cx_Oracle.makedsn('222.102.104.172',1521,'XE')\n",
    "# db=cx_Oracle.connect('hr','hr')\n",
    "db = cx_Oracle.connect(\"hr/hr@222.102.104.172:1521/XE\")\n",
    "cursor=db.cursor()\n",
    "cursor.execute(\"\"\"select * from NOTE_CATEGORIES\"\"\")\n",
    "\n",
    "row=cursor.fetchall()\n",
    "colname=cursor.description\n",
    "col=[]\n",
    "\n",
    "for i in colname :\n",
    "    col.append(i[0])\n",
    "    \n",
    "emp=pd.DataFrame(row,columns=col)\n",
    "print(emp)"
   ]
  },
  {
   "cell_type": "code",
   "execution_count": 8,
   "id": "32d5df2d",
   "metadata": {},
   "outputs": [],
   "source": [
    "#영상분석 insert\n",
    "def insert_videos(t):\n",
    "    conn = cx_Oracle.connect(\"hr/hr@222.102.104.172:1521/XE\")\n",
    "    cursor=conn.cursor()\n",
    "    sql = \"insert into videos values(videos_seq.nextval,:1,:2,:3,:4,default,null,:5)\"\n",
    "    cursor.execute(sql,t)\n",
    "    cursor.close()\n",
    "    conn.commit()\n",
    "    conn.close()"
   ]
  },
  {
   "cell_type": "code",
   "execution_count": 2,
   "id": "32a61ecb",
   "metadata": {},
   "outputs": [],
   "source": [
    "def insert_video_analyses(t):\n",
    "    conn = cx_Oracle.connect(\"hr/hr@222.102.104.172:1521/XE\")\n",
    "    cursor=conn.cursor()\n",
    "    sql = \"insert into video_analyses values(video_analyses_seq.nextval,:1,:2,:3,:4,:5,:6)\"\n",
    "    cursor.execute(sql,t)\n",
    "    cursor.close()\n",
    "    conn.commit()\n",
    "    conn.close()"
   ]
  },
  {
   "cell_type": "code",
   "execution_count": 3,
   "id": "4f7bca10",
   "metadata": {},
   "outputs": [],
   "source": [
    "def insert_keywords(t):\n",
    "    conn = cx_Oracle.connect(\"hr/hr@222.102.104.172:1521/XE\")\n",
    "    cursor=conn.cursor()\n",
    "    sql = \"insert into keywords values(keywords_seq.nextval,:1,:2,:3,:4)\"\n",
    "    cursor.execute(sql,t)\n",
    "    cursor.close()\n",
    "    conn.commit()\n",
    "    conn.close()"
   ]
  },
  {
   "cell_type": "code",
   "execution_count": 4,
   "id": "2b43da17",
   "metadata": {},
   "outputs": [],
   "source": [
    "def select_videos_seq() :\n",
    "    conn = cx_Oracle.connect(\"hr/hr@222.102.104.172:1521/XE\")\n",
    "    cursor=conn.cursor()\n",
    "    sql = \"SELECT LAST_NUMBER FROM USER_SEQUENCES WHERE SEQUENCE_NAME = 'VIDEOS_SEQ'\"\n",
    "    cursor.execute(sql,)\n",
    "    result=cursor.fetchall()[0][0]-20 \n",
    "    cursor.close()\n",
    "    conn.close()\n",
    "    return result\n",
    "    "
   ]
  },
  {
   "cell_type": "code",
   "execution_count": 93,
   "id": "b01ec666",
   "metadata": {},
   "outputs": [
    {
     "data": {
      "text/plain": [
       "1"
      ]
     },
     "execution_count": 93,
     "metadata": {},
     "output_type": "execute_result"
    }
   ],
   "source": []
  },
  {
   "cell_type": "code",
   "execution_count": 22,
   "id": "96b3ca47",
   "metadata": {},
   "outputs": [],
   "source": [
    "import pandas as pd "
   ]
  },
  {
   "cell_type": "code",
   "execution_count": 23,
   "id": "76e8e30b",
   "metadata": {},
   "outputs": [],
   "source": [
    "data = pd.read_csv(\"공무원_국어_구두점_konlpy.csv\", encoding = \"utf-8-sig\")"
   ]
  },
  {
   "cell_type": "code",
   "execution_count": 9,
   "id": "0b2003a6",
   "metadata": {},
   "outputs": [],
   "source": [
    "user_id = \"a\"\n",
    "summary_c = \"요약\"\n",
    "play_time = 3600\n",
    "insert_videos((user_id,1,\"공무원_국어.mp4\",play_time,summary_c))"
   ]
  },
  {
   "cell_type": "code",
   "execution_count": 46,
   "id": "0475016a",
   "metadata": {
    "scrolled": true
   },
   "outputs": [],
   "source": [
    "user_id = \"a\"\n",
    "video_id = select_videos_seq()\n",
    "for i in range(data.shape[0]) :    \n",
    "    insert_video_analyses((user_id,video_id,round(data.iloc[i,0],1),round(data.iloc[i,1],1),data.iloc[i,3],0))"
   ]
  },
  {
   "cell_type": "code",
   "execution_count": 61,
   "id": "a1501f96",
   "metadata": {
    "scrolled": true
   },
   "outputs": [],
   "source": [
    "user_id = \"a\"\n",
    "video_id = select_videos_seq()\n",
    "keyword_list = [\"가\",\"나\",\"다\",\"라\",\"마\"]\n",
    "count_list = [1,2,3,4,5]\n",
    "for i in range(len(keyword_list)) : \n",
    "    insert_keywords((user_id,video_id,keyword_list[i],count_list[i]))"
   ]
  },
  {
   "cell_type": "code",
   "execution_count": 60,
   "id": "b53e5298",
   "metadata": {},
   "outputs": [
    {
     "data": {
      "text/plain": [
       "1"
      ]
     },
     "execution_count": 60,
     "metadata": {},
     "output_type": "execute_result"
    }
   ],
   "source": [
    "count_list[0]"
   ]
  },
  {
   "cell_type": "code",
   "execution_count": 33,
   "id": "54bfc4a7",
   "metadata": {},
   "outputs": [
    {
     "data": {
      "text/plain": [
       "'안녕하세요 방문 가게에서 국어를 강의하고 있는 이유진입니다 오늘은 똑똑한 공무원이 문서를 가지고 문법 수업을 진행해 보려고 합니다 문법 수업에 첫 단어는 언어와 구 거예요 그러면 언어와 국어에서 어떤 문제들이 출제 됐는지 한번 기출문제 보도록 하겠습니다 자기 출근 제일 번이에요 다음 중 괄호 안에 들어갈 말로 가장 적절한 것은 이렇게 되어 있죠 자 여기에서 하나의 어떤 사례를 쭉 보여주고 있어요'"
      ]
     },
     "execution_count": 33,
     "metadata": {},
     "output_type": "execute_result"
    }
   ],
   "source": [
    "data.iloc[0,2]"
   ]
  },
  {
   "cell_type": "code",
   "execution_count": 34,
   "id": "bfdc6fdd",
   "metadata": {},
   "outputs": [],
   "source": [
    "# 분석아이디 ,유저아이디 ,분석아이디 ,시작, 끝 ,분석글 ,북마크\n",
    "insert(('a',1,10,20,'abc',0))"
   ]
  }
 ],
 "metadata": {
  "kernelspec": {
   "display_name": "Python 3",
   "language": "python",
   "name": "python3"
  },
  "language_info": {
   "codemirror_mode": {
    "name": "ipython",
    "version": 3
   },
   "file_extension": ".py",
   "mimetype": "text/x-python",
   "name": "python",
   "nbconvert_exporter": "python",
   "pygments_lexer": "ipython3",
   "version": "3.6.13"
  }
 },
 "nbformat": 4,
 "nbformat_minor": 5
}
