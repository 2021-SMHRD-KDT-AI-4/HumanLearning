{
 "cells": [
  {
   "cell_type": "code",
   "execution_count": 4,
   "id": "158a3ab6",
   "metadata": {},
   "outputs": [],
   "source": [
    "from konlpy.tag import Kkma\n",
    "import pandas as pd"
   ]
  },
  {
   "cell_type": "code",
   "execution_count": 3,
   "id": "360df6fb",
   "metadata": {},
   "outputs": [],
   "source": [
    "kkm=Kkma()"
   ]
  },
  {
   "cell_type": "code",
   "execution_count": 2,
   "id": "953f01a5",
   "metadata": {},
   "outputs": [],
   "source": [
    "data = pd.read_csv(\"./공무원_경제학.csv\", encoding=\"utf-8-sig\")"
   ]
  },
  {
   "cell_type": "code",
   "execution_count": 5,
   "id": "a3f681b0",
   "metadata": {},
   "outputs": [],
   "source": [
    "import seaborn as sns"
   ]
  },
  {
   "cell_type": "code",
   "execution_count": 6,
   "id": "af8f95d1",
   "metadata": {},
   "outputs": [
    {
     "data": {
      "text/plain": [
       "1.16"
      ]
     },
     "execution_count": 6,
     "metadata": {},
     "output_type": "execute_result"
    }
   ],
   "source": [
    "round(1.1611,2)"
   ]
  },
  {
   "cell_type": "code",
   "execution_count": 7,
   "id": "199a869c",
   "metadata": {
    "scrolled": true
   },
   "outputs": [
    {
     "name": "stderr",
     "output_type": "stream",
     "text": [
      "C:\\Users\\SMHRD\\Anaconda3\\envs\\Deep_GPU2021\\lib\\site-packages\\seaborn\\distributions.py:2557: FutureWarning: `distplot` is a deprecated function and will be removed in a future version. Please adapt your code to use either `displot` (a figure-level function with similar flexibility) or `histplot` (an axes-level function for histograms).\n",
      "  warnings.warn(msg, FutureWarning)\n",
      "C:\\Users\\SMHRD\\Anaconda3\\envs\\Deep_GPU2021\\lib\\site-packages\\seaborn\\distributions.py:2056: FutureWarning: The `axis` variable is no longer used and will be removed. Instead, assign variables directly to `x` or `y`.\n",
      "  warnings.warn(msg, FutureWarning)\n"
     ]
    },
    {
     "data": {
      "text/plain": [
       "<AxesSubplot:>"
      ]
     },
     "execution_count": 7,
     "metadata": {},
     "output_type": "execute_result"
    },
    {
     "data": {
      "image/png": "[encoded data removed]",
      "text/plain": [
       "<Figure size 432x288 with 1 Axes>"
      ]
     },
     "metadata": {
      "needs_background": "light"
     },
     "output_type": "display_data"
    }
   ],
   "source": [
    "sns.distplot(round((data[\"end_time\"]-data[\"start_time\"])/len(data[\"script\"]),2), kde=False, rug=True)"
   ]
  },
  {
   "cell_type": "code",
   "execution_count": 8,
   "id": "bc8aefe9",
   "metadata": {
    "scrolled": true
   },
   "outputs": [
    {
     "data": {
      "text/plain": [
       "0.39    13\n",
       "0.37     8\n",
       "0.38     8\n",
       "0.41     7\n",
       "0.36     5\n",
       "0.40     4\n",
       "0.54     3\n",
       "0.42     3\n",
       "0.45     3\n",
       "0.49     2\n",
       "0.44     2\n",
       "0.53     2\n",
       "0.43     1\n",
       "0.64     1\n",
       "0.48     1\n",
       "0.52     1\n",
       "0.51     1\n",
       "0.59     1\n",
       "0.27     1\n",
       "0.46     1\n",
       "0.47     1\n",
       "0.61     1\n",
       "Name: a, dtype: int64"
      ]
     },
     "execution_count": 8,
     "metadata": {},
     "output_type": "execute_result"
    }
   ],
   "source": [
    "b=pd.DataFrame(round((data[\"end_time\"]-data[\"start_time\"])/len(data[\"script\"]),2),columns=[\"a\"])\n",
    "b[\"a\"].value_counts()"
   ]
  },
  {
   "cell_type": "code",
   "execution_count": 376,
   "id": "9aa869e6",
   "metadata": {},
   "outputs": [
    {
     "data": {
      "text/plain": [
       "0.28500000000000003"
      ]
     },
     "execution_count": 376,
     "metadata": {},
     "output_type": "execute_result"
    }
   ],
   "source": [
    "np.median(round((data[\"end_time\"]-data[\"start_time\"])/len(data[\"script\"]),2))"
   ]
  },
  {
   "cell_type": "code",
   "execution_count": 5,
   "id": "085612a9",
   "metadata": {},
   "outputs": [],
   "source": [
    "import numpy as np"
   ]
  },
  {
   "cell_type": "code",
   "execution_count": 355,
   "id": "bc84f655",
   "metadata": {},
   "outputs": [],
   "source": [
    "a=np.array((data[\"end_time\"]-data[\"start_time\"])/len(data['script']))\n",
    "np.median(a) \n",
    "wps=np.min(a)"
   ]
  },
  {
   "cell_type": "code",
   "execution_count": 358,
   "id": "ca539236",
   "metadata": {},
   "outputs": [
    {
     "data": {
      "text/plain": [
       "0.1878934009051113"
      ]
     },
     "execution_count": 358,
     "metadata": {},
     "output_type": "execute_result"
    }
   ],
   "source": [
    "wps"
   ]
  },
  {
   "cell_type": "code",
   "execution_count": 359,
   "id": "02f8a559",
   "metadata": {
    "scrolled": true
   },
   "outputs": [
    {
     "data": {
      "text/plain": [
       "0.2913602124991644"
      ]
     },
     "execution_count": 359,
     "metadata": {},
     "output_type": "execute_result"
    }
   ],
   "source": [
    "np.mean(a) "
   ]
  },
  {
   "cell_type": "code",
   "execution_count": 360,
   "id": "4aa8c6ff",
   "metadata": {},
   "outputs": [
    {
     "data": {
      "text/plain": [
       "0.2829875000000004"
      ]
     },
     "execution_count": 360,
     "metadata": {},
     "output_type": "execute_result"
    }
   ],
   "source": [
    "np.median(a)"
   ]
  },
  {
   "cell_type": "code",
   "execution_count": 170,
   "id": "8102d0cd",
   "metadata": {},
   "outputs": [],
   "source": [
    "data.iloc[1,0]=10"
   ]
  },
  {
   "cell_type": "code",
   "execution_count": 160,
   "id": "26440a98",
   "metadata": {},
   "outputs": [
    {
     "data": {
      "text/plain": [
       "10.0"
      ]
     },
     "execution_count": 160,
     "metadata": {},
     "output_type": "execute_result"
    }
   ],
   "source": [
    "data.iloc[1,0]"
   ]
  },
  {
   "cell_type": "code",
   "execution_count": 326,
   "id": "28d4d437",
   "metadata": {},
   "outputs": [
    {
     "data": {
      "text/plain": [
       "0     0.2755\n",
       "1     0.2605\n",
       "2     0.2655\n",
       "3     0.5605\n",
       "4     0.2755\n",
       "       ...  \n",
       "95    0.4005\n",
       "96    0.2805\n",
       "97    0.2955\n",
       "98    0.3105\n",
       "99    0.2525\n",
       "Length: 100, dtype: float64"
      ]
     },
     "execution_count": 326,
     "metadata": {},
     "output_type": "execute_result"
    }
   ],
   "source": [
    "(data[\"end_time\"]-data[\"start_time\"])/len(data[\"script\"])"
   ]
  },
  {
   "cell_type": "code",
   "execution_count": 9,
   "id": "d277e770",
   "metadata": {},
   "outputs": [],
   "source": [
    "sentence_list = []\n",
    "for script in data[\"script\"]: \n",
    "    sentence_list.append(kkm.sentences(script))"
   ]
  },
  {
   "cell_type": "code",
   "execution_count": 32,
   "id": "a6a48d9c",
   "metadata": {},
   "outputs": [
    {
     "data": {
      "text/plain": [
       "54"
      ]
     },
     "execution_count": 32,
     "metadata": {},
     "output_type": "execute_result"
    }
   ],
   "source": [
    "len(sentence_list)"
   ]
  },
  {
   "cell_type": "code",
   "execution_count": 9,
   "id": "22a1bf2b",
   "metadata": {},
   "outputs": [
    {
     "data": {
      "text/plain": [
       "'12'"
      ]
     },
     "execution_count": 9,
     "metadata": {},
     "output_type": "execute_result"
    }
   ],
   "source": [
    "\"123\"[:2]"
   ]
  },
  {
   "cell_type": "code",
   "execution_count": 10,
   "id": "fce436dc",
   "metadata": {},
   "outputs": [],
   "source": [
    "script_list=[]\n",
    "script2_list=[]\n",
    "new_sentence_list = []\n",
    "noun_list = []\n",
    "for sentences in sentence_list :\n",
    "    script =[]\n",
    "    for st in sentences :\n",
    "        pos=kkm.pos(st)\n",
    "        if (pos[-1][1] =='EFN') | (pos[-1][1] =='EFA'):\n",
    "            script.append(st +\". \")\n",
    "            script2_list.append(st +\". \")\n",
    "        elif pos[-1][1] =='EFQ':  \n",
    "            script.append(st +\"? \")\n",
    "            script2_list.append(st +\"? \")\n",
    "        elif (pos[-1][1] =='EFI') | (pos[-1][1] =='EFO') :   \n",
    "            script.append(st +\"! \")\n",
    "            script2_list.append(st +\"! \")\n",
    "        else :\n",
    "            script.append(st +\" \")\n",
    "            script2_list.append(st +\" \")            \n",
    "        for ps in pos :\n",
    "            if ps[1][:2] == \"NN\" :\n",
    "                noun_list.append(ps[0])\n",
    "    script_list.append(script)"
   ]
  },
  {
   "cell_type": "code",
   "execution_count": 59,
   "id": "f7346ff3",
   "metadata": {
    "scrolled": true
   },
   "outputs": [],
   "source": [
    "text = \"\"\n",
    "for sc in script2_list:\n",
    "    text += sc.replace(\" \",\"\");"
   ]
  },
  {
   "cell_type": "code",
   "execution_count": 61,
   "id": "f44edecc",
   "metadata": {},
   "outputs": [
    {
     "data": {
      "text/plain": [
       "'안녕하세요반갑습니다.입니?다제가상당히힘차게문자드렸어요.그렇죠.제가지금처음으로내년에시간제가좋은기를팍팍풀어놓기위해서힘차게봤는데요저는여러분들만나서반갑고살리려면여름일자를만났기때문에부자가많이드시죠.그렇죠.이제본격적으로한국사공부해야되겠구나!생각하셨을것같은데요제가여러분들지금가지고있는뚜렷한목표가있어야그렇죠.그목표를이루기위한과정속에서단속에제가노래듣는거라서여러분저를좋아하는마음이단순히반갑다열심히공부하고있다.이런마음이아니라뭔가비장한각오가있을거라고오히려그런게좋습니다.편에게다보내준겁니다.여러분들귀한시간내가족이강해지는거잖아요그렇죠.여러분들그런열망이저에게도더긴장감도불러일으키고열심히들어주시는요강의를하는지입장에서도기운이나요제가일을많이믿고따르는만큼나도정말열심히강의분야좋은학생과좋은선생님이받으신좋겠다생각하게됩니다.지금몇시니알다시피한국사강의입니다.한국사가요공무원시험에서위상이조금많이높아졌어요.그쵸우리이제국어랑영어한국사계속필수과목이되면서여러분들에게점수1.2상당히중요한과목이됐습니다.여러분께서지금어떤공부를어떻게될까생각나는상황속에서이거아니야.너보셨을것같은데요일단우리가진행하기를강의능력한국서중에서도기본강좌됩니다.강의를보면기본강의가있고요.10만원갖고있다기본거아니라고해서그렇다고.해서기본대충만뉘우치고나머지정말어렵거나이런거다시말시킬거니아니요아니요모든걸후회하며기본이제일중요해요.여름을조금더어렸을때고등학교때따뜻할때보면뭐시켜먹자일단급하니까먼저간단하게공부하고나중에살을더푹자야지.그렇게950절대안돼소리뭐죠처음에정말제대로뼈도잡고살던정도부쳐나아지면나중에다시공부할때정말어쩌다나오는거지정말난이도있는문을열으면되지할수가있는거지처음에대충잡아주고나머지갔다가사료붙이면시간만남겨야겠다제가여러분들에게65강이라고하는강의를통해서지금한국사회의기본뼈대에다가오는20주년부쳐드릴거예요.여러분저지금1분2분1시간2시간뒤1시간이모있잖아요.그런시간이절대남기지않도록여러분에게뼈들을제대로잡아드릴거고그때되면여름잘찾아오신다면춤을잘해오신다면여러분들90점정말제가무난히받을거라고약속을드릴수가있어그리고여기다가나중에이제치마강좌를통해서일단역사같은요즘문제가자료같은것도많이나오고있어요.3일할거면예전에남겼던글같은거있잖아요.뭐가벼운게뭐가있을까?삼국사기에서일정한내용이나와서와관련된시기에답을찾는문제이름이나오는데그런것들을우리가기본강의해서제가말로일단먼저풀어드릴거고요있는것이아니라말로프로될거고그런것들직접읽어보면서이안에서보다구체적으로아니면정말5년이나10년에한번에얼마를주든있거든요.그런글을퍽아니겠지마감입니다.기본강의있으면날림으로대충그런강의아닙니다.여러분들사람들에게한국사람이랑것이라고확실하게그내용을전시켜드리면가방이라고보시면좋겠습니다.강자가65구성되어있다는건전달해드릴내용이많다는거없죠.그렇죠.그회사에서또현재까지다녀요불량자체가워낙방대합니다.많다보니까강좌구성좀많을수밖에없었고여러분이핫스타셔틀양주그만큼많다는거지그거문제는여러분들엄청난암기력을욕안자는거야일단이모한국사아니면공무원시험을보겠다라는생각을하실순간부터안개대한부담감을않고오셨을거같아요.근데유난히도한국사암기분양좀많이춥습니다.부정못해요그자체에서몇년에무슨일이누가뭐래문화재는어느시대있고안하셔야되겠죠.근데여러군데돼요.샘스암기하라고어제가요가지않아요.그렇게안됐거든요.우리가어렸을땐그럼되셨어요.10대정도때문에그때는뭐중간고사나기말고사범위하나만하면되잖아요.무슨뜻인지몰라도돼있다고요.버리고시험보고까먹으면금아니었는데이렇게저녁사가자우리지점에생짜로안되는게정말힘들고요.할수있는용량초과해버린다그때문에암기력을누구하는거막뛰어남기라고요구하는건사실이지만그거자체로만자꾸날거아니라는건말씀드릴게요.이제요즘에문제들을보면은요기본적으로정확하게여러분들이궁금해하는야이거상당히많이오는가?봐요.내가이제공무원시험을쓰는거많이필요로하는데수면같은경우는왜이렇게정확하니같이가게되면그래도자꾸하게되면길어져서조선이다.그러면조선의151617시대를끊어서접근하는그런문제들도많이추울차가있대요.그래서아이게지금15시관련된내용드리라고야근데나는입력요구되는데여기서진짜오늘문제자체가수능보다는학력고사쪽에조금더맞춰져있습니다.옛날스타일의그러다보니까그안에서세밀하게정확하게끊어주셔야돼요.그래서여러분들이고대에서공부하면맨처음에정치정치다어떻게했는지지도자의왕의입장에서바라보는할겁니다.그거끝나고나면사회경제문화라고해서일반민중의입장에서바라보기도하고요.다양한문화이제이런거자꾸하게될텐데들어가면되게많이나와요불교가그만큼발달에서비때문에그승려를아삼국통일아니면절대안돼요.그전에도진흥왕시대의화려했던소녀는누구누구누구정확하게끊어주셔야돼요.그러지않으면문자조금만먹고빨리가는거절대아니고요.일단기본적으로방대한분량의자가안밀어도요구하는데내가명확하게정말정확하게이해하고이런문제를많이물어본다는거여러분들이기왕에공부열심히해야되겠지라는생각을가지고50만큼아정말작정하고최소1년이상을정말따뜻하게입고나가는남자꾸시기바랍니다.최근문자해서요수면제스타일들자료던져주고그안에서답을찾기하나이런문제스타일들이늘어나고있다형식적으로늘어나고있는건맞는데요근데여러분들실전문제풀이할때는요그자료를보고아이거이런식으로답을찾아갖고오라고하는게아니고요.딱보면아이거광개토대왕릉비그렇다면이런내용나갈건데이렇게자꾸날씬거지보시면서풀어가는문숙이아니거든요그래서결국은정확하게이해하고있는의사가자료를플러스치킨문제라고보시면됩니다.교제를보시면요박스안에들어가있어옛날기록이런거말고문제를대비하기위한장치를다보시면됩니다.그렇다면여러분들에게강의를제가어떤일을할거냐?그랬더니여러분들저는요여러분들이누구인지그래서채소채소2년이상안되겠다라는전제를깔고접근을할게요.제가가르치는가입장에서운전하면고등학교졸업다닌지1년정도된학생아니면뭐그러고정도학생은일정넣어줘남아있다는것이가장좋을까요?물론그중에서도지문과출신입니다.추카추카아니고요.근데그쪽이거냐고자기졸업한지2년이넘었다.그러면요20대초반에차이가없어요.어디서들어본적은있는데모르는것도같습니다.저도그럴거같아요.저도요알긴아는데정확히는모르는상태가될거같아요.그만큼양자지도않고여러6월능력이많고인간의기억력이한계가있는거죠.망각곡선있기때문에어쩔수없는상황이겁니다.그래서그런여러분들상황을고려해서기초부터대답하셨습니다.다들졸업한지2년정도는저런전자에서차근차근아이거이렇게접근하시는거고요.이런거요라고차근차근하게제가설명을터이니조금은좀편한마음으로와주세요.대신에제가1시간동안전달시켜드리는거는여름통화를할수가있어요.그래야지만다음단계로넘어가지고있는거아닙니다.다음에다른내용으로풀어드릴거야이런데서4시간내용을잘통화를해야지.나는망가져서주시고요.두번째는가게보실때는이해가돼요감사가들어오셨나요?아닌거같고요.접근할수있을것같고요.때문에도라지꽃하면요분명히그앞에상당히했는데왜기억이안나지않습니다.근데그거는모든사람이다똑같아요.해서수업시간인데여러분다들바라보고는지금현재여러분들잘설득하고시키는것도제역할을있지만이소리끝내고난나비여러분혼자교재를보고복수를할때도떠오를수있도록제가도와드리고그래서내가말하면장치가두가지첫번째는수업중간중간에이야기많이해드릴까요풀어나가면서시간만물러가면서그건저도아는데요문열면전화번호좀줘영상으로보는거아니잖아.그치시험을위해서듣는강인만큼웬만하면50분정도50분되면더좋을거같고요.그안에서시험에나오는내용들딱딱전달해들면서도움이될만한이야기파전에준비해와서이야기2편우리학생들이구매하라고다나름대로기획부동산은겁니다.그래서여러분들이이야기전화드리면사람이정말중요한뭐이런잘안나는데아마그런게있었지라고하면또이렇게잘라거든요님께서시간을과하게잡아먹거나시험과정영상그런거아니고서야알아서해필요하다싶은얘기를적절히섞어드릴게요.되면요여러분들이가독성을고려한수업을진행합니다.오늘은이제첫번째수업이제이제어떻게알려드리지만본섭진행하면서판서를건데그판서를정처없이하는것이아니라1주제안에서한눈에볼수있도록정리를해드리고요.여러분들은보는것자체로도정리될수있게보낸것이학습이될수있게끔또여름속에서따라했어.금정역혼자박재도아이걸나중에이야기했던거있지가독성을높일수있는장소를정해서연락하겠습니다.그거보다짜임새의여러분에게접근해서효율성있는강의를내가제가전달해드리도록할게요.차제가지금이런이야기를드린게한10분조금넘을거같은데요한국사를어떻게해야될지한국사가무엇이든지감동잡수셨습니까?나머지이야기를제가수업중간중간에또언급할터이니일단여기서첫번째인사를마무리도하겠고요.이제시작해봅시다.일단시작은요모들어가서그저께들어가는게아니라요역식자역사가뭐라고생각하니지크이야기를나눕시다.좀되셨을까요?그쵸그여러분들이그동안또생각해본거같습니다.제가이런질문을드리면여름에많이대답하시면옛날이야기옛날사람들이살아왔던그이야기하려고합니다.몇년에무슨일을해무슨제도가있었대요.무슨문화재가만들어졌죠.그렇죠.그게바로근데그럼저거는요조금더깊이한번들어가보세요.1392년에이성계가조선을건국한했어요.그리고그때부터우리사회가시작되었네요.앞으로공부할때이런거공부하죠.훈민정음창제어때이거민족이지청장이기여하였다고.합니다.앞으로이런식으로공부해야이렇게공부를왔었죠.근데보면여러분들1392년이성계가조선의건국했다라고하는거는그누구도부정할수없는확실한객관적인사실을훈민정음의세종대왕시대독자적네가만든거죠.이것도그누구가부정할수없는사실인거줘아까여러분들이제가이제혼자대답했다고.있잖아요.그게무슨문화제가만들었어요.누가뭐했어요.여러분이생각하셨던?그러냐?거의대부분맞춰져있다혹시여러분중에서이런식의끝까지미친놈들이있습니까?이런것들은요지금얘기했더니다실거래조금다릅니다.누군가의생각이있는부분이에요.무슨말이냐?하고나와있는데우리가이제역사를공부할때보다중근데이렇게지저분하죠.엄마여러분께서도이거만져보셨을거같아요.현재로서는우리가살고네지금시점이지금시점에서그렇게멀지않은아니300년전의모습큰데진짜오래된시계제가이런게아니라실제로그렇게제품을한거지인간이죠.물론그안에서도공통적인특징드려요마르크스그쪽에서도522했습니다만우진거기까지일단제가지금말고요고대중세근대현대우리가흔히말하는거를한번해볼게요.우리고대역사해당하는소리어디냐?면요고조선에서출발해가지고삼국시대그리고통일신라와발해의있었던남북국시대가여기들어가중세들어가는게우리역사속에서고려가들어가고요.근데들어가는게조선에서도조선소그리고이제뭐하기라고해서요우리가이제강화도조약을체결한그다음시계있잖아요.일제강점기시대현대역사우리가이런역사들얘기를해줘그러면여기서보면여기서무가빠졌네.새끼가있어요.그새끼가언제요조선전기때가됐죠.조선전기는어떻게들어가야되냐?중3이아니라는거죠.고려해서양민일반편입있잖아요.그런데양민액자가늘어나는것도있고요.그다음에또과거지도가구를때보다훨씬더강화가될거예요.강화가돼서그들이죄인이었던집아니라고하는장소정해지면개인의능력에충족되는건사회가되기도하구요.또뭐이런것들이왕비가되면서여러가지중앙집권적인겉모습도나타나고분명히고려하는다른목소리나타내죠.그래서확진자중세시대는아닌거같다근데로들어가는길에아니다근데라고얘기했던?우리가유럽에서시민혁명과삼계탕이나있잖아요.시민혁명과산업혁명자본주의가딱지착하고민주시민발바닥도시작하는9월20일말았는데그렇다고.해서그런모습이조선전기에나타난건아니야.여전히농업과이면자급자족적생활을해요.거기내가하고있는강력한힘을되돌려무리하지말고여기서그러면서만들어내는개념이개념이에요.그냥자체는학자들이그다음에어떻게바라볼것인지그입장에따라서만들어준겁니다.이에가시겠어요.그러니그러하니이것은누군가의생각이반영된것이죠.생각이반영됐다라고하는건결국역사에대해서해석을해달라는거예요.이거자체가생각하고자꾸나신거있으면다시생각을여름예배오신거예요.민족의식통장에기여하였다훈민정음창제기분이안다음에그훈민정음을가지고책들만들어요.늦어서농사짓는것이도움이되는나오는데그농부없어도이제한글로만들어서일반백성들이읽을수있겠습니다.그렇지그러면서이제우리것에대한관심도없고싹터서자라는겁니다.이건또역사학자들보고훈민정음창제그이유는영향을주었고그나름대로분석하고누군가의되고있는거야계속역사를거는건다실로스역사와기록을우리가이런일이참많이합니다.사실로써역사와기록그랬어요.근데이것이좀전에말씀드렸던그두가지가이야기먼저이제사실그자체로서역사를강조좀사람이있는데요독일학자관찰하는사람이에요.사람이뭐라고해야될거예요.자꾸자기생각집어넣지말고과거에무슨일있었니?있지그거자체를발표내는거우리도가게물질이손님우리자냐?삭제를해가지고어그때그러니까그사실을밝혀내는거그것이역사가의임무인거고역사라면그려야돼이렇게얘기하는사람이여기는요누군가생각할지모르지만하려고얘기하죠.사실그자체를강조하는객관적인역사를간사람입니다.무슨일있어이런거되게강좌는거죠.그래서이제역사가해야되는것도생각좀해놓지말고차려역사시대를있잖아요.그거분석이다열심히해서사실그자체를찾아낸거어떻게보면과학책있으니까과학적인자꾸해달라고요구하는것도이런것도이제우리가바로못알아듣는싫증준다고해요증거를바탕으로해서실제객관적인증거가땅을분석하는겁니다.이건실증주의이야기를해줘되셨어요.반면에단면을코트코디모자같은사람들은뭐라고얘기하면아니그렇게몇년에뭐가있어그예전에어떤제도가시행될수없고무슨문제가나왔을때없고과거에그사실을중력을하시면그러다실질만나요라는게그거시기없어이거아니야.아니거든오늘사람들이오늘하루관점에서예전에역사를보고그렇게해석하는게중요한거야이런얘기를해요훈민정음창제그것으로끝나는것이아니라그훈민정음창제가민족문화가드리기로하였고누군가의생각이없어요.그런데속이편치않은역사는제대로된역사가아니다의미가없다.이렇게까지주지않는다.그래서우리가그들에게구원의역사를바라본입장을뭐라고하냐?주관적이없더라고요.그리고주관적이라고누군가가생각을하고있는거남겨둔거있잖아요.남겼다기록기록으로서의역사의이렇게얘기를유명한이야기가모든역사는현재내가아는게아니라현재입장입니다.과거를다짐한다비추어해서이렇게접근하시면됩니다.그래서여기서강조하고있는건아까재수정해석을안하는거야아까말씀좋죠.우리가역사를공부하는거1392년이성계가조선을건국한공부하는게아니라그렇게공급되는조선인근대사회의출발점이다다른것까지같이공부하자여러분이공부하시는거객관적인그사실누구도부정할수없는사실에다가역사가남겨준해서글이재구성한것까지동생집에오는겁니다.따르는게아니라그두개동시에된다.그래서역사를무엇입니까?그러면사실로서역사와기록을이게두가지가융합이다.그런역사를배우고있는거예요.또그렇게실제로해야된다고주장을사람이있어요.그사람이다른카라구하는영국약자가되겠습니다.그거했던말이있어요.하는데사실없는상태에서해석만부족하게되면그거는뿌리가없는상태이기때문에열매를맺지못한다역사가의생각이없다그런영혼이없는거같다그러니돼요.두개가다드셨죠.그래서지훈이나오는데요역사란과거와달리끊임없는대화이다.지금관점에서도바라봐되지만과거사실그자체에대해서같이주목해야된다라고얘기하는게카입장인데시험에서는객관적인역사와주관적인역사그것을융합했다.이렇게물어보는게아니라9시둘중에서9분하자면어느쪽에서가깝습니까라고한다면개인의생각이들어가는거신청한거있잖아요.그래서뒤로구슬역사의내가지원어떻게되는겁니다.여름빛랑케의생각이다르다입장만불린좀시켜주셔야돼요.이렇게해서이렇게역사가무엇인지간단히봤죠.이번에여러분에게뭘알려드리면역사가지고특성을알려드릴게요.여기보이는것처럼어디에요우리도가지고가령예를들어서동호회사역자를공개보다보면요불교이야기가나와요.공부할때정말도움이될겁니다.이불공부를하다보면우리많이가시는분몇층에있어요.바로뭐냐?불교라고해서불교가나라를구하는데만약장샀다알아보았는데종교적인영일만먹는것이아니라나라의무슨일이있으면많이차를했다는거야대표적인게임진왜란벌어보자마자승려들이군사를모습을해요.군대를해야되잖아요.누구죽이면안되잖아요.근데나를구하겠다고.스님도직접제조직을마련해서손질나가요이런것도바로이런것도우리역사에서또우리가역사를공부하다보면은요구석기신석기청동기철기얘기하죠.구석기신석기청동기철기밟았어요.이건아니에요.그안에서나타나는특수성이바로뭐가있냐?면역사적으로잤더니구석기에서또신석기시대까지는그치없이살아거기다가청동기시대가되면서글자가등장하면서직접뒤로그래요우리가제문자가등장한이시대를뭐라고하냐?면역사시대라고얘기를하거든요그이전에는역사가없었다앞선다는써가지고이렇게얘기하는데건데우리같은경우는어떤축산회사당뇨우리는언제부터가6시되면그때부터는이전까지는철기시대중국과겨울임에도들어오거든요.이런것들우리가가지는특성이라는겁니다.그래서오늘배운게되다보면어근데이게우리나라에서만나타나는모습이에요.이런설명회들어갈거같아되시겠죠.그러면앞으로우리역사가전세계적으로봤을때어떤공포공통분모로보이면서우리만의역사부산특산물보이는지같이배우싫을텐데그걸계속신경쓰는거아니에요.그냥삼국지등독특한못생겼고이것이다른나라에서드러나지않는먹을수도있네.그렇게기억하시면크게다특성이되는겁니다.제가여러분저이제전달됐고이제하나더전달해드릴거예요.이거누르면여러분들이역사공부를제대로따라오시기위해서요대한감각을좀지켜주시면좋습니다.집에대한감각일단첫번째는요강에위치좀확인해주세요.우리한번더관련해서는6개의감을드셔야되는데일단가장위쪽에는이강인그렇게이거는이제나도압록강이구글역사가여기서또시작이되는거죠.압록강부여우리쏙들어가는진짜미쳐요쪽으로흘러나는강의청천강청천강밑에서이렇게설정을빠져나가는대동강지금북한의평양대동강있는거야드셨어요.압록강대동강고구려같은경우는광주에서시장에서대동강언제쯤차지했다있는공간이될겁니다.위즈파크드시고요.앞으로약속때문에대동강역두개만등장해요.뭐일단고조선에서출발했어요.그래도나하고요.얘기는할거고요계속뭐통일했더니대동강에서더원3명까지들어대동강이어딘지모르면내려오시면요한반도가제가지방에있습니다.이게바로한강남한강과북한강이만나면서한강근처나가고요충청도전라도의경계가되는금강있어요.백제역사이야기때특히건강많이나올거고요대한민국에있는강중에서가장긴강입니다.이게바로낙동강확장시켜나갈때낙동강쪽에접근했습니다.낙동강저저년을이런일은할거야압록강청천강대동강한강금강낙동강드셨죠.위쪽을봤을때는요만주라는명신청많이들어보셨을거같아요.만주로학원은별도의행정구역은아니고요중국에있는동북3성저거만주라고합니다.흑룡성길뭐신림정뭐이런거있잖아요.이런거이게만주지역이라고요.이제만주라고불러주고요그다음에이만쪽에서여기백두산있잖아요.백두산에서사하구이제죽을때까지그렇게툭툭튀어나와인상있는데우리가이렇게툭튀어나와있는반두라.그래서우리가챙겨서유라시아다녀서태어났기때문에반도는왔는데한번누구와되는거고요같은경우는순간들입니다.되게많이생각할거예요.나와있는게여기저기저기되겠는데요요즘같은경우는요시작해주세요.이렇게흘러가는사천주유하라고있어요.유아기준동쪽있다서류도웃어라!가는데우리역사에서고조선고구려발해다여기같으면철도만나가지고고구려쪽에서여기차지하지는철광석편해가지고무기만들수있잖아요.그런면에서대단히중요하죠.그래나중에고조선고구려발해그이후로는우리역사에서우리가본격적으로이제집에서못한다아쉽다하지만그새시대역사공부할때는우리장녀다른거확실하게해주시고요같은경우는여러분문자필요할때는요동과대비시켜서고구려가어디차댈데가있구나!2호선은아니겠구나!이렇게자꾸내주시면나중에잠깐우리가찾았던?언제인지를갈때우리가용호도잠깐차잔적이있었어이렇게생각을해볼수가있겠죠.알아주시면크게무리가없을거라고생각을합니다.하는데요이하셨고급실하신거죠.그렇죠.일단여기까지마무리하고하겠고요.다음부터는이제본격적인가지러가겠습니다.구석기시대도착했어요.판사를소개시켜드릴거고요교재준비하시면서오시면되겠습니다.다음주부터본격적인수업진행하겠습니다.수고많으셨습니다.'"
      ]
     },
     "execution_count": 61,
     "metadata": {},
     "output_type": "execute_result"
    }
   ],
   "source": [
    "text"
   ]
  },
  {
   "cell_type": "code",
   "execution_count": 39,
   "id": "d2b4e9ab",
   "metadata": {},
   "outputs": [
    {
     "data": {
      "text/plain": [
       "['안녕',\n",
       " '방문',\n",
       " '국어',\n",
       " '강의',\n",
       " '안녕하세',\n",
       " '방문가게',\n",
       " '하세',\n",
       " '가게',\n",
       " '이유',\n",
       " '오늘',\n",
       " '문서',\n",
       " '문법',\n",
       " '공무원',\n",
       " '문법수업',\n",
       " '수업',\n",
       " '언어',\n",
       " '단어',\n",
       " '구거',\n",
       " '문제',\n",
       " '출제',\n",
       " '한번',\n",
       " '기출',\n",
       " '기출문제',\n",
       " '자기',\n",
       " '출근',\n",
       " '제일',\n",
       " '제일번',\n",
       " '번',\n",
       " '안',\n",
       " '다음',\n",
       " '중괄호',\n",
       " '말',\n",
       " '자여',\n",
       " '하나',\n",
       " '사례',\n",
       " '현',\n",
       " '뜻',\n",
       " '수',\n",
       " '아가',\n",
       " '현대',\n",
       " '사용',\n",
       " '물이',\n",
       " '화서',\n",
       " '문로',\n",
       " '어디',\n",
       " '로스',\n",
       " '예서',\n",
       " '특성',\n",
       " '무엇',\n",
       " '것등',\n",
       " '현대국어',\n",
       " '문로형태',\n",
       " '현대국어의',\n",
       " '등',\n",
       " '이상',\n",
       " '대국',\n",
       " '이상사용',\n",
       " '형태',\n",
       " '나이',\n",
       " '다이',\n",
       " '어의',\n",
       " '자료',\n",
       " '우리',\n",
       " '지식',\n",
       " '시간',\n",
       " '흐름',\n",
       " '개념어',\n",
       " '변화',\n",
       " '내용',\n",
       " '여기',\n",
       " '1',\n",
       " '1번',\n",
       " '번',\n",
       " '4',\n",
       " '4번',\n",
       " '뭐',\n",
       " '우리',\n",
       " '공부',\n",
       " '말중',\n",
       " '중',\n",
       " '예',\n",
       " '반영',\n",
       " '선진',\n",
       " '역사성',\n",
       " '역사성시간',\n",
       " '때',\n",
       " '저',\n",
       " '경우',\n",
       " '지금',\n",
       " '역사',\n",
       " '접근',\n",
       " '때시간',\n",
       " '접근가능',\n",
       " '가능',\n",
       " '이번',\n",
       " '문자',\n",
       " '중',\n",
       " '설명',\n",
       " '이때',\n",
       " '성분',\n",
       " '정의',\n",
       " '자의성',\n",
       " '중언어',\n",
       " '성분절',\n",
       " '자의성역사성사회',\n",
       " '절',\n",
       " '개념',\n",
       " '사회',\n",
       " '힌트',\n",
       " '때문',\n",
       " '나',\n",
       " '데시',\n",
       " '필요',\n",
       " '10',\n",
       " '10분타이머',\n",
       " '분',\n",
       " '이래',\n",
       " '기능',\n",
       " '타이머',\n",
       " '형식',\n",
       " '특성언어',\n",
       " '기호',\n",
       " '자',\n",
       " '거',\n",
       " '형',\n",
       " '바깥',\n",
       " '형씨',\n",
       " '그다음',\n",
       " '자기보',\n",
       " '씨',\n",
       " '기보',\n",
       " '의미',\n",
       " '라',\n",
       " '그릇',\n",
       " '관계',\n",
       " '첫째',\n",
       " '성해',\n",
       " '이것',\n",
       " '분리',\n",
       " '이야기',\n",
       " '필연적',\n",
       " '첫째자',\n",
       " '내용의미',\n",
       " '형식과속',\n",
       " '내용사이',\n",
       " '필연적관계',\n",
       " '쵸',\n",
       " '속',\n",
       " '이대',\n",
       " '과속',\n",
       " '사이',\n",
       " '근',\n",
       " '진이',\n",
       " '이혜',\n",
       " '교도',\n",
       " '근데이',\n",
       " '교도문제',\n",
       " '데이',\n",
       " '이름',\n",
       " '건',\n",
       " '태그',\n",
       " '사람',\n",
       " '페이지',\n",
       " '임의',\n",
       " '이것을',\n",
       " '교과서',\n",
       " '피터',\n",
       " '책상',\n",
       " '다라',\n",
       " '고등',\n",
       " '피터잭',\n",
       " '고등학교',\n",
       " '잭',\n",
       " '학교',\n",
       " '소설',\n",
       " '의',\n",
       " '집안',\n",
       " '사물',\n",
       " '시작',\n",
       " '시계',\n",
       " '카포트',\n",
       " '주전자',\n",
       " '이거',\n",
       " '자유',\n",
       " '처음',\n",
       " '벽',\n",
       " '꽃',\n",
       " '발악',\n",
       " '자신',\n",
       " '기억',\n",
       " '자기',\n",
       " '근데이사람',\n",
       " '재미',\n",
       " '3',\n",
       " '날',\n",
       " '소통',\n",
       " '미치광이',\n",
       " '미치광이취급',\n",
       " '취급',\n",
       " '교과',\n",
       " '활용',\n",
       " '사회성',\n",
       " '깨버린',\n",
       " '깨버린거',\n",
       " '약속',\n",
       " '된거죠',\n",
       " '아래',\n",
       " '자외선',\n",
       " '책',\n",
       " '혼자',\n",
       " '대화',\n",
       " '고요',\n",
       " '고요약속',\n",
       " '불가',\n",
       " '불가역성',\n",
       " '역성',\n",
       " '불가능',\n",
       " '가요',\n",
       " '얘기죠',\n",
       " '예시',\n",
       " '하늘',\n",
       " '공간',\n",
       " '영어',\n",
       " '가이',\n",
       " '중국',\n",
       " '천',\n",
       " '대상',\n",
       " '나라',\n",
       " '뿐',\n",
       " '하나',\n",
       " '서도',\n",
       " '당원',\n",
       " '참고',\n",
       " '상성',\n",
       " '배우',\n",
       " '동상',\n",
       " '일정',\n",
       " '유사성',\n",
       " '면',\n",
       " '딸',\n",
       " '순서',\n",
       " '관념',\n",
       " '우리',\n",
       " '아버지',\n",
       " '면거리',\n",
       " '우리나라',\n",
       " '때아버지',\n",
       " '거리',\n",
       " '그거',\n",
       " '거잖',\n",
       " '관념적',\n",
       " '잖',\n",
       " '영어2아버지',\n",
       " '2',\n",
       " '안마',\n",
       " '그랜드',\n",
       " '2상성',\n",
       " '도상',\n",
       " '도상성도',\n",
       " '성도',\n",
       " '일',\n",
       " '앞',\n",
       " '퇴',\n",
       " '퇴원',\n",
       " '때입',\n",
       " '퇴임원',\n",
       " '입',\n",
       " '임원',\n",
       " '등하교',\n",
       " '결과지',\n",
       " '바',\n",
       " '이제',\n",
       " '적자',\n",
       " '공통점',\n",
       " '구성원',\n",
       " '그다음사회성',\n",
       " '언어사회',\n",
       " '너',\n",
       " '맺어',\n",
       " '불',\n",
       " '다다',\n",
       " '유리창',\n",
       " '불역성',\n",
       " '말이정자',\n",
       " '이정자',\n",
       " '의자',\n",
       " '대로',\n",
       " '대로할거',\n",
       " '할거',\n",
       " '다이소설',\n",
       " '못',\n",
       " '미치광이치료',\n",
       " '치료',\n",
       " '전',\n",
       " '아까',\n",
       " '자역사성',\n",
       " '기출문제소리',\n",
       " '소리',\n",
       " '조건',\n",
       " '자언어',\n",
       " '소리형태',\n",
       " '무엇',\n",
       " '원',\n",
       " '새',\n",
       " '자연',\n",
       " '원중이',\n",
       " '중이',\n",
       " '가역성',\n",
       " '런',\n",
       " '런이모',\n",
       " '이모',\n",
       " '반대말',\n",
       " '반대',\n",
       " '역사성은',\n",
       " '성은',\n",
       " '신생',\n",
       " '사멸',\n",
       " '거그다음',\n",
       " '신생성장',\n",
       " '성장',\n",
       " '노트북',\n",
       " '그것',\n",
       " '외래어',\n",
       " '잠수함',\n",
       " '말내',\n",
       " '내',\n",
       " '이선',\n",
       " '이선생이',\n",
       " '생이',\n",
       " '도의',\n",
       " '도의미가확대',\n",
       " '미가',\n",
       " '확대',\n",
       " '축소',\n",
       " '과거',\n",
       " '산',\n",
       " '뇌',\n",
       " '고유어',\n",
       " '매화',\n",
       " '경쟁',\n",
       " '한자어',\n",
       " '한자어인산',\n",
       " '인산',\n",
       " '그',\n",
       " '소견',\n",
       " '예전',\n",
       " '세종',\n",
       " '훈민정음',\n",
       " '대왕',\n",
       " '면내',\n",
       " '백성',\n",
       " '28',\n",
       " '28자',\n",
       " '얘기',\n",
       " '어린이',\n",
       " '어린이라',\n",
       " '삐',\n",
       " '사성',\n",
       " '이역',\n",
       " '분절',\n",
       " '연속',\n",
       " '실체',\n",
       " '표현',\n",
       " '분절성은',\n",
       " '물리적',\n",
       " '분절적',\n",
       " '면불연속',\n",
       " '불연속',\n",
       " '개',\n",
       " '외부',\n",
       " '연속적',\n",
       " '외부세계',\n",
       " '세계',\n",
       " '쪼개쪼',\n",
       " '쪼개쪼개그쪽',\n",
       " '개그',\n",
       " '쪽',\n",
       " '색',\n",
       " '초',\n",
       " '보',\n",
       " '색깔',\n",
       " '진짜',\n",
       " '말로',\n",
       " '다양',\n",
       " '초파남',\n",
       " '스펙트럼',\n",
       " '보일곱가지색',\n",
       " '파',\n",
       " '일곱',\n",
       " '주',\n",
       " '남',\n",
       " '주노',\n",
       " '무지개',\n",
       " '노',\n",
       " '가지색',\n",
       " '부족',\n",
       " '세가지',\n",
       " '세가지색',\n",
       " '노파',\n",
       " '무지개색깔7가지',\n",
       " '7',\n",
       " '가지',\n",
       " '무지개색',\n",
       " '야',\n",
       " '성',\n",
       " '문장',\n",
       " '한정',\n",
       " '결합',\n",
       " '무한',\n",
       " '형태소',\n",
       " '단어형태소음운',\n",
       " '음운',\n",
       " '제분',\n",
       " '쪼개어',\n",
       " '내가',\n",
       " '외적',\n",
       " '외적분',\n",
       " '내가두개',\n",
       " '분',\n",
       " '두개',\n",
       " '둘',\n",
       " '세상',\n",
       " '해',\n",
       " '이기',\n",
       " '면내떡',\n",
       " '떡',\n",
       " '적도',\n",
       " '연결',\n",
       " '면내쪽',\n",
       " '분절성외',\n",
       " '성외',\n",
       " '성격',\n",
       " '하나하나',\n",
       " '퀴즈',\n",
       " '퀴즈한번',\n",
       " '얼굴',\n",
       " '이마',\n",
       " '얘',\n",
       " '턱',\n",
       " '2호저',\n",
       " '호저',\n",
       " '턱이해',\n",
       " '이해',\n",
       " '목',\n",
       " '예매',\n",
       " '니',\n",
       " '중간',\n",
       " '퀴즈답',\n",
       " '답',\n",
       " '외적분절',\n",
       " '내적',\n",
       " '왼쪽',\n",
       " '상',\n",
       " '추상성',\n",
       " '로',\n",
       " '구체',\n",
       " '속성',\n",
       " '추출',\n",
       " '추상화',\n",
       " '구체적인대상',\n",
       " '적인',\n",
       " '공통',\n",
       " '과정',\n",
       " '개념형성',\n",
       " '형성',\n",
       " '하위',\n",
       " '사과',\n",
       " '과일',\n",
       " '바나나',\n",
       " '사과감',\n",
       " '하위의대',\n",
       " '감',\n",
       " '의대',\n",
       " '상의원',\n",
       " '하라',\n",
       " '의공',\n",
       " '상여',\n",
       " '공통적',\n",
       " '의공통속성',\n",
       " '통속성',\n",
       " '가지',\n",
       " '여러분',\n",
       " '가지대상',\n",
       " '추상화과정',\n",
       " '고유',\n",
       " '고유명사',\n",
       " '명사',\n",
       " '나중',\n",
       " '품사',\n",
       " '농사',\n",
       " '유진',\n",
       " '서울',\n",
       " '증명',\n",
       " '지명',\n",
       " '지명상품명등',\n",
       " '하나만',\n",
       " '터',\n",
       " '상품명',\n",
       " '만',\n",
       " '인명',\n",
       " '2명지명상품명',\n",
       " '명',\n",
       " '만약',\n",
       " '시험',\n",
       " '중추',\n",
       " '예배',\n",
       " '시험문제',\n",
       " '중추상화',\n",
       " '중추상성',\n",
       " '상화',\n",
       " '개방',\n",
       " '개방성창조성',\n",
       " '성창',\n",
       " '조성',\n",
       " '끝',\n",
       " '인간',\n",
       " '생각',\n",
       " '양의',\n",
       " '물론',\n",
       " '사실',\n",
       " '본적',\n",
       " '거짓말',\n",
       " '양의정보',\n",
       " '상상',\n",
       " '정보',\n",
       " '지도',\n",
       " '지도말로',\n",
       " '개',\n",
       " '창',\n",
       " '창조성',\n",
       " '개가',\n",
       " '나름',\n",
       " '규칙성',\n",
       " '원시적',\n",
       " '문법책',\n",
       " '원시적인어',\n",
       " '그다음체계성책상',\n",
       " '인어',\n",
       " '체계성',\n",
       " '위',\n",
       " '복잡',\n",
       " '차치',\n",
       " '유지',\n",
       " '규칙',\n",
       " '질서',\n",
       " '언어기호',\n",
       " '하위체계',\n",
       " '체계',\n",
       " '구조',\n",
       " '뒤',\n",
       " '시재',\n",
       " '반면',\n",
       " '대부분',\n",
       " '어순',\n",
       " '데',\n",
       " '기라',\n",
       " '발달',\n",
       " '차이',\n",
       " '문법적',\n",
       " '규칙성체계성',\n",
       " '지금언어',\n",
       " '이론',\n",
       " '이론언어',\n",
       " '부분',\n",
       " '자언',\n",
       " '기능어',\n",
       " '건특정',\n",
       " '지시',\n",
       " '특정',\n",
       " '지시적인기능',\n",
       " '이있',\n",
       " '대표적',\n",
       " '예가이',\n",
       " '커피',\n",
       " '화자',\n",
       " '지시대',\n",
       " '지시대명사나지시관',\n",
       " '제이',\n",
       " '나지',\n",
       " '시관',\n",
       " '형사',\n",
       " '지칭',\n",
       " '2세',\n",
       " '세',\n",
       " '청자',\n",
       " '글',\n",
       " '정',\n",
       " '전달',\n",
       " '의사소통',\n",
       " '그다음정보',\n",
       " '정문아지식',\n",
       " '의사소통과정',\n",
       " '문아',\n",
       " '비',\n",
       " '설명문',\n",
       " '비문학적인',\n",
       " '문학',\n",
       " '역할',\n",
       " '정보전달자기능',\n",
       " '전달자',\n",
       " '사교',\n",
       " '친교',\n",
       " '그다음친구',\n",
       " '친구',\n",
       " '확인',\n",
       " '중요',\n",
       " '내',\n",
       " '이',\n",
       " '대답',\n",
       " '인사말',\n",
       " '인사말대표적인',\n",
       " '대표',\n",
       " '인사',\n",
       " '궁',\n",
       " '찬가',\n",
       " '기분',\n",
       " '그게',\n",
       " '가대',\n",
       " '일상',\n",
       " '소재',\n",
       " '오늘날씨',\n",
       " '찬가지야',\n",
       " '일상적인',\n",
       " '날씨',\n",
       " '지야',\n",
       " '서도마',\n",
       " '마',\n",
       " '이날',\n",
       " '이날씨',\n",
       " '길',\n",
       " '오랜만',\n",
       " '점심시간',\n",
       " '계속',\n",
       " '식사',\n",
       " '자료분이때',\n",
       " '반대방향',\n",
       " '방향',\n",
       " '나한',\n",
       " '진심',\n",
       " '임산부',\n",
       " '나한테',\n",
       " '테',\n",
       " '기능사',\n",
       " '기능사교적인',\n",
       " '교',\n",
       " '그날',\n",
       " '정서적',\n",
       " '정서적기능',\n",
       " '감정',\n",
       " '태도',\n",
       " '정보전달',\n",
       " '나지식이',\n",
       " '식이',\n",
       " '머',\n",
       " '9',\n",
       " '9깜짝이',\n",
       " '정서',\n",
       " '표출',\n",
       " '깜짝이',\n",
       " '서적',\n",
       " '가지',\n",
       " '누구',\n",
       " '기능요거',\n",
       " '가지이유',\n",
       " '요거',\n",
       " '으',\n",
       " '으라',\n",
       " '아무',\n",
       " '밤길',\n",
       " '허파',\n",
       " '짜증',\n",
       " '본능적',\n",
       " '의도',\n",
       " '부전',\n",
       " '내의',\n",
       " '명령적',\n",
       " '명령적기능',\n",
       " '대',\n",
       " '지령',\n",
       " '지령감',\n",
       " '말로명령',\n",
       " '명령',\n",
       " '화적',\n",
       " '화적기능',\n",
       " '내',\n",
       " '내명령',\n",
       " '마음',\n",
       " '산책',\n",
       " '의문',\n",
       " '제안',\n",
       " '의문이지만사실',\n",
       " '이지만',\n",
       " '겉',\n",
       " '절약',\n",
       " '설득',\n",
       " '에너지',\n",
       " '전화',\n",
       " '전화해',\n",
       " '거거',\n",
       " '지적',\n",
       " '정적',\n",
       " '지적전기',\n",
       " '정적기능',\n",
       " '전기',\n",
       " '2개년',\n",
       " '개년',\n",
       " '직접',\n",
       " '직영',\n",
       " '간접',\n",
       " '간접지렁이',\n",
       " '지렁이',\n",
       " '명령문',\n",
       " '문',\n",
       " '어형',\n",
       " '문장형자체',\n",
       " '지렁이의도',\n",
       " '장형',\n",
       " '자체',\n",
       " '목동',\n",
       " '명의',\n",
       " '평서문',\n",
       " '감탄문',\n",
       " '문장력',\n",
       " '의문문',\n",
       " '간접치료',\n",
       " '어창',\n",
       " '간접방법',\n",
       " '간접지령',\n",
       " '방법',\n",
       " '공기',\n",
       " '창가',\n",
       " '사람이내',\n",
       " '이내',\n",
       " '눈치',\n",
       " '오라',\n",
       " '요청',\n",
       " '질문',\n",
       " '화법',\n",
       " '아이거',\n",
       " '화법의도',\n",
       " '간접지정',\n",
       " '지정',\n",
       " '대응',\n",
       " '미학적',\n",
       " '미학적기능',\n",
       " '시',\n",
       " '미적',\n",
       " '미적기능',\n",
       " '게시',\n",
       " '한문',\n",
       " '직접기능',\n",
       " '신우',\n",
       " '신우문',\n",
       " '운율',\n",
       " '자원',\n",
       " '이용',\n",
       " '리듬',\n",
       " '리',\n",
       " '위쪽',\n",
       " '자로',\n",
       " '추구',\n",
       " '가면',\n",
       " '노래',\n",
       " '주제',\n",
       " '리리',\n",
       " '엉덩이',\n",
       " '위쪽효과',\n",
       " '사과사과',\n",
       " '주제의식',\n",
       " '해서리리리',\n",
       " '리',\n",
       " '서리',\n",
       " '원숭이',\n",
       " '효과',\n",
       " '의식',\n",
       " '기능미학적기능',\n",
       " '이바',\n",
       " '나기',\n",
       " '문제1번',\n",
       " '때사용',\n",
       " '곤란',\n",
       " '자연은',\n",
       " '다가',\n",
       " '다가역성',\n",
       " '약',\n",
       " '마라이거고역사성은',\n",
       " '라이거',\n",
       " '고역사',\n",
       " '반대개념',\n",
       " '어머니',\n",
       " '일본',\n",
       " '고정',\n",
       " '필연',\n",
       " '필연성',\n",
       " '필연적인',\n",
       " '일본언어형식',\n",
       " '이번언어',\n",
       " '역사성언어',\n",
       " '사회성은',\n",
       " '불백성',\n",
       " '4번군대',\n",
       " '송',\n",
       " '값',\n",
       " '단위',\n",
       " '존재',\n",
       " '송음',\n",
       " '문장담',\n",
       " '값단위',\n",
       " '단위사이',\n",
       " '특정규칙',\n",
       " '음',\n",
       " '군대',\n",
       " '장담',\n",
       " '예정',\n",
       " '어이',\n",
       " '규칙성책',\n",
       " '내적분절',\n",
       " '성책',\n",
       " '사건',\n",
       " '기능부분',\n",
       " '조금',\n",
       " '추가']"
      ]
     },
     "execution_count": 39,
     "metadata": {},
     "output_type": "execute_result"
    }
   ],
   "source": [
    "kkm.nouns(text)"
   ]
  },
  {
   "cell_type": "code",
   "execution_count": 48,
   "id": "f94b0691",
   "metadata": {},
   "outputs": [],
   "source": [
    "import pandas as pd"
   ]
  },
  {
   "cell_type": "code",
   "execution_count": 54,
   "id": "dab9b41b",
   "metadata": {},
   "outputs": [
    {
     "data": {
      "text/plain": [
       "['흥', '대원군', '강화', '강화도', '강화도조약', '도', '조약', '가쓰라', '가쓰라태프트조약', '태프트']"
      ]
     },
     "execution_count": 54,
     "metadata": {},
     "output_type": "execute_result"
    }
   ],
   "source": [
    "kkm.nouns(\"흥선대원군이 강화도조약을 가쓰라태프트조약을\")"
   ]
  },
  {
   "cell_type": "code",
   "execution_count": 60,
   "id": "69de6246",
   "metadata": {},
   "outputs": [
    {
     "data": {
      "text/plain": [
       "거       78\n",
       "것       65\n",
       "역사      42\n",
       "때       23\n",
       "생각      23\n",
       "공부      21\n",
       "수       20\n",
       "제가      18\n",
       "시대      16\n",
       "이야기     15\n",
       "사람      14\n",
       "얘기      14\n",
       "년       14\n",
       "사실      13\n",
       "자체      12\n",
       "시간      12\n",
       "문제      12\n",
       "강의      12\n",
       "일       11\n",
       "지금      10\n",
       "때문       9\n",
       "고요       9\n",
       "조선       9\n",
       "입장       9\n",
       "이제       8\n",
       "내용       8\n",
       "안        8\n",
       "기본       8\n",
       "시험       8\n",
       "대동강      8\n",
       "중        7\n",
       "분        7\n",
       "다음       7\n",
       "훈민정음     7\n",
       "여름       7\n",
       "접근       7\n",
       "전        6\n",
       "과거       6\n",
       "수업       6\n",
       "나중       6\n",
       "Name: noun, dtype: int64"
      ]
     },
     "execution_count": 60,
     "metadata": {},
     "output_type": "execute_result"
    }
   ],
   "source": [
    "pd.DataFrame(np.array(noun_list),columns=[\"noun\"])[\"noun\"].value_counts()[:40]"
   ]
  },
  {
   "cell_type": "code",
   "execution_count": 46,
   "id": "b439f2cb",
   "metadata": {},
   "outputs": [
    {
     "data": {
      "text/plain": [
       "분        3\n",
       "가지       3\n",
       "군        3\n",
       "우리       3\n",
       "때문       2\n",
       "        ..\n",
       "1868년    1\n",
       "치욕       1\n",
       "태프트      1\n",
       "대부분      1\n",
       "강점       1\n",
       "Name: noun, Length: 1505, dtype: int64"
      ]
     },
     "execution_count": 46,
     "metadata": {},
     "output_type": "execute_result"
    }
   ],
   "source": [
    "pd.DataFrame(np.array(kkm.nouns(text)),columns=[\"noun\"])[\"noun\"].value_counts()"
   ]
  },
  {
   "cell_type": "code",
   "execution_count": 11,
   "id": "5d5bb753",
   "metadata": {},
   "outputs": [
    {
     "name": "stdout",
     "output_type": "stream",
     "text": [
      "4\n",
      "1번 : 다음에 두 번째로 빵을 만들 제빵 사 사람이죠. \n",
      "16\n",
      "0.4221428571428573\n",
      "0.4935714285714287\n",
      "5\n",
      "1번 : 이랬을 때 어떤 빵 공장에 엘과 케이의 결합 비율을 결정해야 되는데 만약에 애를 많이 쓰는 경우에는 우리가 노동 집약적으로 자를 한다고 합니다. \n",
      "69\n",
      "0.41681034985422755\n",
      "0.39357142857142874\n",
      "6\n",
      "2번 : 그럼 이렇게 많아 찐빵을 누군가에게 분배를 해야 되는데 누가 이 빵을 몇 개 가져 갈 것인가 소득 분배 문제가 발생하게 됩니다. \n",
      "10\n",
      "0.3098691052537634\n",
      "0.5364285714285716\n",
      "9\n",
      "2번 : 시 장 음료수 재활을 소비하는 수요자와 이재 활 공급하는 공급자로 이루어져 있습니다. \n",
      "8\n",
      "0.4507142857142859\n",
      "0.37928571428571445\n",
      "10\n",
      "1번 : 밑에 사과를 많이 팔아야 지라고 함 사과의 공급을 늘립니다. \n",
      "20\n",
      "0.42490903790087486\n",
      "0.36500000000000016\n",
      "14\n",
      "2번 : 사과 시장에서 사 부족함이나 사과의 아마도 너무 힘이 존재하지 않는다는 거예요. \n",
      "10\n",
      "0.37928571428571445\n",
      "0.39357142857142874\n",
      "19\n",
      "1번 : 취 저 그러면 이사회는 사과가 50개 만큼 부족한 사회가 되는 것입니다. \n",
      "28\n",
      "0.4007142857142851\n",
      "0.3721428571428565\n",
      "21\n",
      "2번 : 그것은 경제학자들의 이거 그것에 대한 여러 가지 생명들이 저 뒤쪽 거시경제 나와 있으니까 그때 가서 다시 한번 말씀을 드리겠습니다. \n",
      "11\n",
      "0.4007142857142851\n",
      "0.3649999999999993\n",
      "23\n",
      "1번 : 예를 들어서 어떤 나라에 경우에는 요렇게 자본주의 절반 사회주의 절 반반 섞을 수 있겠죠. \n",
      "38\n",
      "0.3721428571428565\n",
      "0.4007142857142851\n",
      "24\n",
      "1번 : 또 어떤 사회는 요렇게 해서 사회주의는 요만큼 자본주의는 요만큼 각각의 사회마다 자본주의사회의 결합 비율은 당할 수가 있겠지만 기본적으로는 어느 정도 성능 형태를 취하고 있다 왜냐하면 자본주의가 효율적이다 좋긴 좋은데 자본주의의 문제점이 있죠. \n",
      "122\n",
      "0.3187669096209902\n",
      "0.41499999999999937\n",
      "26\n",
      "1번 : 그런데 이렇게 시장자유 대만 맡겨 놓으면 자 독점기업이 나 집에서 기업에 대한 갑질이 발생할 수 있기 때문에 이런 독과점에 횡포를 방지하기 위해서 공정거래위원회 난 것이 존재하고 어느 정도 시장에 자유로운 거래질서에 개 주제를 하게 되죠. \n",
      "123\n",
      "0.4078571428571422\n",
      "0.5292857142857136\n",
      "28\n",
      "1번 : 차 소비를 하니 기업이 물건을 만들었겠죠. \n",
      "9\n",
      "0.3649999999999993\n",
      "0.3935714285714279\n",
      "30\n",
      "2번 : 어느 가정이나 어느 집이나 뭐 돈을 벌어 와서 그 벌어 오는 돈으로 물건을 사서 생활을 영위하고 따라서 그냥 이해하실 때는 그냥 가정으로 이해하셔도 큰 무리가 없습니다. \n",
      "15\n",
      "0.3864285714285708\n",
      "0.3792857142857136\n",
      "31\n",
      "2번 : 우리는 회사에 출근 안 회사에 고용되어 있다라고 편하지만 경제학에서는 이것을 노동을 공급한 다라고 표현할 수가 있습니다. \n",
      "13\n",
      "0.4443476676384827\n",
      "0.3864285714285708\n",
      "34\n",
      "1번 : 내가 돈을 맡겨 놓으면 거기에 대해서 뭐가 나온다 이자가 나온다 얘기야 이자가 따라서 자본은 이자 소득이 발생하게 되고 우리 이제 아를 쓰게 됩니다. \n",
      "73\n",
      "0.5364285714285708\n",
      "0.3649999999999993\n",
      "41\n",
      "1번 : 핸드폰 살 돈을 생산요소시장에서 과태료 공급해서 돈을 벌고 여 2L 밭에는 누가 사나요 바로 기업이 삽 니다 기업 EL 과제를 수요 해요 그런데 왜 그러면 생산요소가 뭐예요. \n",
      "83\n",
      "0.3864285714285708\n",
      "0.3935714285714279\n",
      "43\n",
      "2번 : 실 물 실물에 흐름이라고 해 작은 반대로 실물이 흘러가면요 반대 방향으로 돈 화폐가 흘러가게 되는데 제가 모실게요. \n",
      "16\n",
      "0.5078571428571422\n",
      "0.3935714285714279\n",
      "45\n",
      "2번 : 핸드폰을 팔아서 번 돈으로 다시 앨범 테 이를 구입하고 구입한 돈은 다시 가게 소득이 재고 그럼 다시 또 핸드폰을 사고 그러면 또 돈을 벌고 이런 식으로 영원히 땡땡 땡땡 돈 다 얘기해 역시 순환과정이 이루어지죠. \n",
      "15\n",
      "0.3649999999999993\n",
      "0.3792857142857136\n",
      "46\n",
      "1번 : 이렇게 이렇게 바깥쪽으로 돈 흐름은 제가 실물이 흐름이 습니다. \n",
      "31\n",
      "0.44073979591836565\n",
      "0.4364285714285708\n",
      "47\n",
      "1번 : 자 이제 세 번째로 정부라고 하는 경제 주체를 추가 할 건데요 자전거는 어떤 역할을 하니 민간으로부터 조세를 징수합니다. \n",
      "50\n",
      "0.4026984850062458\n",
      "0.3721428571428565\n",
      "48\n",
      "2번 : 우리 공공서비스를 요번 주에 주의를 궁 동 서비스는 어떤 것이 그냥 가장 대표적으로 국방 서비스가 있구요. \n",
      "20\n",
      "0.24196440811226694\n",
      "0.593571428571428\n",
      "49\n",
      "2번 : 자 대한민국을 제외한 나머지 모드 다른 나라들을 해외라고 청할 수가 있구요. \n",
      "19\n",
      "0.6429519200229119\n",
      "0.3935714285714279\n",
      "50\n",
      "1번 : 순 수출 만약에 어떤 나라가 수출이 수입보다 안타면 수출은 양이 되겠죠. \n",
      "25\n",
      "0.5207184511228986\n",
      "0.3721428571428565\n",
      "54\n",
      "2번 : 하지만 이런 것 들은 우리가 살아가는데 굉장히 필요한 서류 쓰기 때문에 정부가 조세를 재원으로 해서 그런 공공서비스를 공급해 줌으로써 우리 사회 전체의 행복을 높여 주는 역할을 하고 있는 거예요. \n",
      "4\n",
      "0.4078571428571422\n",
      "0.4578571428571422\n",
      "57\n",
      "1번 : 이랬을 때 유형 형태가 있는 생산물을 재화라고 해 우리 주변에 흔히 열려 있죠. \n",
      "28\n",
      "0.4078571428571422\n",
      "0.47928571428571365\n",
      "59\n",
      "1번 : 그러면 예를 들어서 햇빛 또는 공기 물 이런 것 들은 무한이 많이 존재한 다라고 봅니다. \n",
      "30\n",
      "0.4221428571428565\n",
      "0.3792857142857136\n",
      "60\n",
      "2번 : 자유 자는 언제 하게 분석 대상이 아니다 왜 경제에 약이라고 하는 것은 기본적으로 문제를 해결하고자 하는 학문인데 문제가 생기지 않는 말입니다. \n",
      "6\n",
      "0.22421282798833805\n",
      "0.45071428571428507\n",
      "65\n",
      "2번 : 따라서 소비자와 생산되는 동일한 할지라도 어디에 사용되었는 가에 따라서 최종소비 되었는가? \n",
      "18\n",
      "0.4364285714285708\n",
      "0.45071428571428507\n",
      "68\n",
      "1번 : 어디에 투입 예정 지역 기업이라고 하는 경제 주체에게 이것이 알고 야채가 투입되면 기업은 이것을 집어넣으면 뭐가 이따 바로 생산물이 나옵니다. \n",
      "63\n",
      "0.41499999999999937\n",
      "0.2682857142857139\n"
     ]
    }
   ],
   "source": [
    "for i in range(len(script_list)-1) :\n",
    "    if (script_list[i][-1][-2:] != '. ') & (script_list[i][-1][-2:] != '? ') & (script_list[i][-1][-2:] != '! ') :\n",
    "        # 앞으로 밀착\n",
    "        if len(script_list[i+1][0]) <=20 :\n",
    "            print(i)\n",
    "            print(\"1번 : \"+script_list[i][-1] + script_list[i+1][0])\n",
    "            print(len(script_list[i][-1]))\n",
    "            print(((data[\"end_time\"]-data[\"start_time\"])/len(data[\"script\"]))[i])\n",
    "            print(((data[\"end_time\"]-data[\"start_time\"])/len(data[\"script\"]))[i+1])\n",
    "#             data.iloc[i,1] = data.iloc[i,1] + wps*len(script_list[i+1][0])\n",
    "#             data.iloc[i+1,0] =data.iloc[i+1,0] + wps*len(script_list[i+1][0])\n",
    "            data.iloc[i,1] = data.iloc[i,1] + ((data[\"end_time\"]-data[\"start_time\"])/len(data[\"script\"]))[i]*len(script_list[i+1][0])\n",
    "            data.iloc[i+1,0] =data.iloc[i+1,0] + ((data[\"end_time\"]-data[\"start_time\"])/len(data[\"script\"]))[i]*len(script_list[i+1][0])\n",
    "            script_list[i][-1]=script_list[i][-1] + script_list[i+1][0]\n",
    "            script_list[i+1][0]=[] \n",
    "        # 뒤로 밀착\n",
    "        elif len(script_list[i][-1]) <= 20:\n",
    "            print(i)\n",
    "            print(\"2번 : \"+script_list[i][-1] +script_list[i+1][0])\n",
    "            print(len(script_list[i][-1]))\n",
    "            print(((data[\"end_time\"]-data[\"start_time\"])/len(data[\"script\"]))[i])\n",
    "            print(((data[\"end_time\"]-data[\"start_time\"])/len(data[\"script\"]))[i+1])\n",
    "#             data.iloc[i,1] = data.iloc[i,1] - wps*len(script_list[i][-1])\n",
    "#             data.iloc[i+1,0] =data.iloc[i+1,0] - wps*len(script_list[i][-1])\n",
    "            data.iloc[i,1] = data.iloc[i,1] - ((data[\"end_time\"]-data[\"start_time\"])/len(data[\"script\"]))[i]*len(script_list[i][-1])\n",
    "            data.iloc[i+1,0] =data.iloc[i+1,0] - ((data[\"end_time\"]-data[\"start_time\"])/len(data[\"script\"]))[i]*len(script_list[i][-1])\n",
    "            script_list[i+1][0]=script_list[i][-1] + script_list[i+1][0]\n",
    "            script_list[i][-1]=[]\n",
    "            "
   ]
  },
  {
   "cell_type": "code",
   "execution_count": 347,
   "id": "40b1dfee",
   "metadata": {},
   "outputs": [
    {
     "data": {
      "text/plain": [
       "74.74"
      ]
     },
     "execution_count": 347,
     "metadata": {},
     "output_type": "execute_result"
    }
   ],
   "source": [
    "data[\"end_time\"][2]"
   ]
  },
  {
   "cell_type": "code",
   "execution_count": 255,
   "id": "c30b48f3",
   "metadata": {
    "scrolled": true
   },
   "outputs": [
    {
     "data": {
      "text/plain": [
       "1.7754785478547865"
      ]
     },
     "execution_count": 255,
     "metadata": {},
     "output_type": "execute_result"
    }
   ],
   "source": [
    "0.26898500000000014/wps"
   ]
  },
  {
   "cell_type": "code",
   "execution_count": 245,
   "id": "c5f32264",
   "metadata": {},
   "outputs": [
    {
     "data": {
      "text/plain": [
       "1.8514851485148485"
      ]
     },
     "execution_count": 245,
     "metadata": {},
     "output_type": "execute_result"
    }
   ],
   "source": [
    "np.median(a)/0.1515"
   ]
  },
  {
   "cell_type": "code",
   "execution_count": 241,
   "id": "007fc076",
   "metadata": {},
   "outputs": [
    {
     "data": {
      "text/plain": [
       "0.1944760563380275"
      ]
     },
     "execution_count": 241,
     "metadata": {},
     "output_type": "execute_result"
    }
   ],
   "source": [
    "0.3451949999999988/1.775"
   ]
  },
  {
   "cell_type": "code",
   "execution_count": 12,
   "id": "25d6eb9b",
   "metadata": {},
   "outputs": [],
   "source": [
    "for i in range(len(script_list)-1) :\n",
    "    if (script_list[i][-1][-2:] != '. ') & (script_list[i][-1][-2:] != '? ') & (script_list[i][-1][-2:] != '! ') :\n",
    "        if len(script_list[i+1][0]) <=20 :\n",
    "            print(script_list[i][-1] + script_list[i+1][0])\n",
    "            script_list[i][-1]=script_list[i][-1] + script_list[i+1][0]\n",
    "            script_list[i+1][0]=[]\n",
    "            \n",
    "            "
   ]
  },
  {
   "cell_type": "code",
   "execution_count": 14,
   "id": "928a0039",
   "metadata": {},
   "outputs": [],
   "source": [
    "final_script_list = []\n",
    "for script in script_list :\n",
    "    sc_temp = \"\"\n",
    "    for sc in script :\n",
    "        if sc !=[] :\n",
    "            sc_temp = sc_temp+ str(sc)\n",
    "    final_script_list.append(sc_temp)"
   ]
  },
  {
   "cell_type": "code",
   "execution_count": 15,
   "id": "3b8f1a9f",
   "metadata": {
    "collapsed": true
   },
   "outputs": [
    {
     "name": "stdout",
     "output_type": "stream",
     "text": [
      "제 1 장 경제기 초 시작하겠습니다. 제 일당은 독립적으로 시험에 출제 된다 기보다는 경제공부를 함에 있어서 반드시 필요한 기초개념과 용어들이 나와 있기 때문에 이런 내용들이 있구나! 가볍게 이해하시고 넘어 가시면 되겠습니다. 첫 번째 논점 정지하게 기본적 개념입니다. 만약에 우리한테 밀가루가 한 포대 있다고. 칩시다. 밀가루로 맛있는 빵을 만들려고 하는데요 사람들이 빵을 좋아하기 때문에 만약에 우리가 땅을 무한히 많이 만들 수 있다. \n",
      "\n",
      "많은 사람들이 아주 행복하게 빵을 소비할 수 있을 것입니다. 하지만 현실적으로 빵을 무한히 많이 만드는 것은 불가능한데요 왜냐하면 빵을 만드는 재료 밀가루의 양이 제한되어 있기 때문입니다. 이처럼 자원의 부족한 자원의 희소성으로 인해서 인간의 욕망을 충분히 충족시키지 못하는 문제가 발생하게 되는데 우리 이러한 문제를 경제 문제라고 합니다. \n",
      "\n",
      "이러한 경제문제가 심각할 수록 인간은 물질적으로 충분히 행복하지 못한 문제가 발생하게 되기 때문에 이러한 경제 문제를 해결하기 위한 학문이 바로 경제학이 다라고 정할 수가 있습니다. 경제 하거든요 인간의 욕망을 최대한 충족시키기 위해서 완벽하게 충족시킬 순 없겠죠. 왜냐면 자원에 유한하게 때문에 하지만 최대한 충족시키기 위해서 부족한 자원 희소한 자원을 합리적으로 가자 \n",
      "\n",
      "효율적으로 가장 경제적으로 활용하는 방법을 연구하는 학문을 경제학이라고 할 수가 있겠습니다. 즉 경제학은 경제 문제를 해결하기 위한 학문이다 주어진 자원을 최대한 합리적 효율적 경제적으로 활용해서 각종 경제 문제를 해결하는 방법을 연구하는 모색하는 학문 분야이다라고 정리할 수가 있겠습니다. 경제문제는 크게 세가지 문제로 대별 됩니다. \n",
      "\n",
      "첫 번째 어떤 재활을 얼마나 생산할 것인가 우리가 밀가루로 빵을 생산한다 없을 때 빵 두 종류가 다양하게 식빵도 있고요. 소보로빵도 있고 단팥빵 적 있습니다. 이런 식으로 주어진 밀가루의 양은 1 4 0 제한되어 있는 데이 한 포대 밀가루로 소보로빵은 몇 개를 만들고 식빵은 몇 개를 만들고 각 방에 종류마다 몇 개씩 만들 것인지 생산물의 종류 수량결정 문제가 첫 번째로 있고요. 다음에 두 번째로 빵을 만들 제빵 사 사람이죠. \n",
      "\n",
      "사람이 제빵 사 no 활동에 의해 석방을 생산 할 수도 있고 또는 공장을 자동화 시켜서 5분 이라든가. 어떤 제빵기계를 이용해서 빵을 생산 할 수도 있습니다. 사람의 노동력을 활용해서 빵을 생산 하는 것을 애들이라고 쓰고요. 기계와 같은 자본설비를 이용해서 빵을 만드는 것을 K라고 하죠. 이랬을 때 어떤 빵 공장에 엘과 케이의 결합 비율을 결정해야 되는데 만약에 애를 많이 쓰는 경우에는 우리가 노동 집약적으로 자를 한다고 합니다. \n",
      "\n",
      "반대로 케이가 많이 투입되고 엘리 조금만 투입된다면 우리 그러한 공장은 자본 집약적인 생산방법을 취하고 있다라고 얘기 합니다. 이런 식으로 빵을 생산 할 때에는 엘과의 무수히 많은 결합비율 중에서 하나의 결합비율 선택해야 되는데 우리 그것을 생산방법에 결정 문제라고 합니다. 이해하시겠죠. 자 이렇게 해서 빵이 이제 만들어 졌습니다. \n",
      "\n",
      "그럼 이렇게 많아 찐빵을 누군가에게 분배를 해야 되는데 누가 이 빵을 몇 개 가져 갈 것인가 소득 분배 문제가 발생하게 됩니다. 빵을 만드는 과정에서 참여 했냐? 면 먼저 제빵 사가 참여 했겠죠. 그리고요 또 자본과 어떠니 빵공장에 대한 기계를 빌려 준 사람이나 어떤 빵 공장에서 있는 토지를 빌려 준 사람이나 지주 또는 이 빵 공장을 경영에서 이윤을 창출하는 기업과 등등이 있겠죠. 여러 가지 경영활동과 생산요소가 투입되서 빵을 만들어 냈을 텐데 그럼이 빵 을이 생산 과정 \n",
      "\n",
      "화면 열어 정제 주체들에게 나눠 줘야 될 것입니다. 그랬을 때 과연 누가 몇 개나 가져가는 것이 맞는 가 올바른가 정당한 가에 대한 소득 분배 문제가 생겨요. 우리 이 세 가지 문제를 세 가지 기본 적인 경제 문제라고 하고요. 여기에 + 1 언 제 생산 할 것인가 하는 10.3 세계 문제가 최근에 추가되기도 합니다. 이 문제가 제기된 이유는 화석 연료가 1.5 서교 가든 석탄 이런 것 들은 한 번 사용해 버리면 한번 소비에 버리면 다시는 사용할 수가 없게 되어 따라서 이렇게 한 번밖에 사용할 수 없는 자원의 경우에는 언제 그 자원을 사용할 것 인가에 대한 시점 선택 문제가 제기된다. \n",
      "\n",
      "가볍게 보시면 되겠습니다. 제가 이런 경제 문제를 해결하기 위해서 각각의 사회들은 나름대로의 사회 시스템을 갖추고 있습니다. 이렇게 경제 문제를 해결하기 위한 사회시스템을 경제체제라고 하는데 가장 대표적으로 자본주의와 사회주의의 두 가지 경제체제를 얘기할 수가 있습니다. 자본주의는 기본적으로 경제문제가 시장에서 자동으로 또는 자율적으로 해결되도록 하는 경제 최저입니다. 한번 예를 들어 볼게요. \n",
      "\n",
      "시 장 음료수 재활을 소비하는 수요자와 이재 활 공급하는 공급자로 이루어져 있습니다. 한번 사과 시장을 예를 들어 볼게요. 제가 만약에 현재 사과의 가격이 매우 높다라고 해보죠. 자 여기에서 사과의 달리기 매우 높다 나면 오겠습니다. 차 상화 너무 비싸게 때문에 수요자는요 너무 비싸니까 조금만 사려고 합니다. 근데 반대로 공급자는 요 사고가 비싸네. 밑에 사과를 많이 팔아야 지라고 함 사과의 공급을 늘립니다. \n",
      "\n",
      "따라서 사과의 가격이 적정 가격보다 지나치게 높은 수준 일 때에는 사람들은 별로 안 살려고 하는데 사과의 생산자들은 사과를 매우 많이 공부하려고 하겠죠. 따라서 이 때는 초과 공급 서 플라이 초과 공급이 발생하게 됩니다. 무슨 얘기 다 사다가 남아돈다 얘기입니다. 차 다른 데로 사고가 매우 가격이 낮게 형성되었다라고 해 보겠습니다. \n",
      "\n",
      "수요자 다녀 오 사과 산에 많이 사야지라고 합니다. 그런데 반대로 공급자 전혀 상관없는 싸 네 팔아 봤자. 별로 남는 것도 없어 하면서 사과의 공급을 뿌립니다. 잃어버리면요 사과의 생산량을 줄어드는데 사과의 소비량은 증가하기 때문에 사과가 부족한 상태가 됩니다. 우리 있대. 초가 수요가 존재한다라고 얘기합니다. xsd 멘트가 존재한다라고 합니다. 따라서 초과 공급이 존재할 때는 사과의 가격이 내려가면 왜 사과가 남아돌고 사과가 안 팔리고 있으니까 저녁에 내려 가겠죠. \n",
      "\n",
      "반대로 초과 수요 상태에서는요 사과가 부족하니까 사과의 가격이 올라가겠죠. 결국 시장 가격 가격 적정 가격에서 시장 준영이 달성 재개됩니다. 이처럼 시장에서는 요 수요자와 공급자가 서로 자신의 이익을 추구 합니다. 수요자는 자신의 이익을 주고 하 고요 공급자는 역시 자신의 이익을 주고 합니다. 이렇게 서로 이기적인 수요자와 공급자가 자신의 이익을 최대한 추구하는 가운데 시작 \n",
      "\n",
      "준영 딱 여기 결정되게 되는데 이 준 혁 가게에서는 사과가 부족하지도 않고 넘치지도 않습니다. 딱 알맞은 양 만큼의 사고가 생산되고 그만큼이 딱 소비되는 사과가 모자르지도 않고 넘치지도 않는 아주 효율적인 상태가 달성됩니다. 따라서 시장경제의 가장 큰 장점은 자원 배분의 효율적으로 이루어진다는 거죠. 이해하시겠죠. \n",
      "\n",
      "사과 시장에서 사 부족함이나 사과의 아마도 너무 힘이 존재하지 않는다는 거예요. 하지만 이러한 수요 자가 공급자 중에서 현실적으로는 시장 지배적 있는 수요자와 공급자가 존재할 수가 있습니다. 한 가지 예를 들어보면 예를 들어서 어떤 사과 공급자가 있는데 사과의 독점기업이라고 합시다. 우리 이사 과의 독점기업 많이 유일하게 사과를 공급한다고 쳐 버려 그러면 독점기업은 어차피 이 나라는 \n",
      "\n",
      "자기가 아니면 사과를 공급할 기업이 없기 때문에 자기 마음대로 가격이나 또는 생산량을 결정할 수가 있겠죠. 그거 의해서 소비자의 권익 2 침해되고 소비자의 어떤 이익이 감소 할 수가 있습니다. 따라서 시장경제에서는 자원 배분의 효율적이지만 소득 분배의 불공평하게 이루어질 수가 있구요. 또 자본주의 특유의 현상인데 자본주의 사회에서는 \n",
      "\n",
      "불황이 반복되는 경기변동이 발생하게 된 다라는 특성이 있습니다. 그런데 반대로 사회주의 체제 또는 공산주의 체제 저는요 이러한 경제 문제 해결을 중앙정부에 통장 학회에서 해결을 하려고 합니다. 요번 그런데요 우리 사이에 존재하는 재화와 서비스의 종류가 수만 가지에서 수십만 가지까지 도 될 것인데 그 수많은 재화와 서비스에 대해서 중앙정부가 일일이 다 계획과 통제를 한다는 것이 불가 \n",
      "\n",
      "그러면 예를 들어서 우리 사회의 신발이 있으니까 그죠. 또 어떤 게 있죠. 신발도 사시는 다양하죠. 유아용 신발 성인용 신발 스포츠 신발 다양하게 있겠죠. 신발이라 하고요. 또 뭐가 있을까? 옷도 있겠고요. 치약도 있겠죠. 뭐 이런 식으로 수많은 죄 받을 수만 가지에서 수십만 가지의 대화가 필요한 데 여기 사과도 있겠죠. 사과 아까 우리가 자본주의 시장에서는 \n",
      "\n",
      "각각의 시장에서 각각의 시장에서 수요자와 공급자가 알아서 거래를 하면서 균형 가격이 결정되고 그 기념 작 역사에서는 교재와의 부족함도 없고 남아 돈도 없습니다. 하지만 예를 들어서 어떤 사회가 사과가 500개가 필요한 사회인데 중앙정부가 계획을 세워 어떠니 사과가 450개 이상 사면 되겠다라고 해서 450개를 생산했다고. 취 저 그러면 이사회는 사과가 50개 만큼 부족한 사회가 되는 것입니다. \n",
      "\n",
      "자원 배분이 효율적이지 안 쳐 이사회가 필요로 하는 만큼 사과가 공급되고 있지 못하다. 이런 식이에요 차 이런 식으로 중앙정부가 각각의 시장 각각의 제 거에 대해서 균형 거래량을 결정한다는 것이 불가능하기 때문에 자원 배분이 비효율적으로 이루어집니다. 사회주의는 비효율적인 자원 배분이 이루어진다 왜냐하면 중앙정부가 \n",
      "\n",
      "갑자기 시장 가다가 교제하다 올바른 거래량을 구할 수가 없기 때문이다 나는 거의 부여하지만 반면에 소득 분배가 공평하게 이루어진다는 장점은 있겠죠. 기본적으로 공평성을 지향하는 사회 이니까요 그리고 자본주의 사회의 고유한 특성을 경기변동이 발생하지 않는다는 특성을 갖고 있습니다. 경기변동은 왜 자본주의 사회에서 만 발생하나요? \n",
      "\n",
      "그것은 경제학자들의 이거 그것에 대한 여러 가지 생명들이 저 뒤쪽 거시경제 나와 있으니까 그때 가서 다시 한번 말씀을 드리겠습니다. 제가 지금까지 자본주의와 사회주의 경제체제 각각의 특징과 장단점을 살펴보았습니다. 내용을 보니까 자본주의 사회의 장단점과 사회주의 사회의 장단점이 서로 정반대로 바뀌어 있다는 걸 알 수가 있겠죠. 자 그렇다면 어느 것이 정 다 민 야 야 정답은 있을 수가 없는 \n",
      "\n",
      "오늘 날 대부분의 국가에서는 혼합 경제체제를 유지합니다. 혼합형 자란 자본주의 체제 와 사회주의 체제가 어느 정도 비율로 결합된 것을 의미하는데 대부분의 국가들은 자본주의를 베이스로 하고 거기에 일부 사회주의 적인 요소를 가미해 아는 체를 이루고 있습니다. 예를 들어서 어떤 나라에 경우에는 요렇게 자본주의 절반 사회주의 절 반반 섞을 수 있겠죠. \n",
      "\n",
      "그런데 저 또 어떤 나라에 경우에는 뭐 이런 식으로 자본주의 이만큼 사회주의 그만큼 적게 할 수가 있겠죠. 또 어떤 사회는 요렇게 해서 사회주의는 요만큼 자본주의는 요만큼 각각의 사회마다 자본주의사회의 결합 비율은 당할 수가 있겠지만 기본적으로는 어느 정도 성능 형태를 취하고 있다 왜냐하면 자본주의가 효율적이다 좋긴 좋은데 자본주의의 문제점이 있죠. \n",
      "\n",
      "어떤 문제가 있죠. 여러 가지 소득 분배 불공평성 또는 고속 부하 점 빈부 격차 외부효과 등등에 자본주의 고유의 문제가 발생하기 때문에 그 문제점을 자본주의의 단점을 사회주의의 장점으로 커버 보완하기 위해서 사회주의적 요소를 일부 강의한다 이게요. 한번 예를 들어 보면 은 우리나라에는 공정위 일하고 있는데요 한 가지 예를 들어 볼게요. \n",
      "\n",
      "공정거래위원회인데 원래 우리나라는 자본주의 사회라고 때문에 수요자와 공급자 간의 또는 공급 자가 공급자 간의 자율적으로 알아서 거래하고 알아서 경쟁하는 시장 구조입니다. 그런데 이렇게 시장자유 대만 맡겨 놓으면 자 독점기업이 나 집에서 기업에 대한 갑질이 발생할 수 있기 때문에 이런 독과점에 횡포를 방지하기 위해서 공정거래위원회 난 것이 존재하고 어느 정도 시장에 자유로운 거래질서에 개 주제를 하게 되죠. \n",
      "\n",
      "우리 이러한 것을 사회주의 적인 요소 가라고 설명 드릴 수가 있습니다. 이렇게 오늘 나의 대부분의 국가들은 자본주의 사회를 베이스로 하면서 일부 사회주의적 요소를 가미해 하고 있다라고 이해하시면 되겠어요. 이어서 경제주체에 대해서 알아보겠습니다. 경제주체라고 하는 것은 경제행위를 수행하는 시장 참여자들이 얘기하는데요 운동경기를 친다면 운동경기에 참여하는 선수라고 표현할 수가 있겠습니다. 우리 경제의 사회가 존재할 텐데 그 경제 사회 내에서 여러 가지 경제활동 뭐 재 화를 소비야 기도하고 재활을 생산하기로 하고 여러 가지 경제 \n",
      "\n",
      "하는 각각의 존재를 있을 텐데 그 존재들을 경제 주체라고 한다라고 예 하시면 되겠습니다. 첫 번째로 가장 중요한 경기 주체가 개가 있어요. 가게는 대문자 신호등 표를 많이 하는데 가게는 어떠한 역할을 하는 가 자각에는 기본적으로 소비를 합니다. 우리 시장 내에서 만들어 진 생산물을 소비하는 주체의 소멸 주체입니다. 소비를 해요. 차 소비를 하니 기업이 물건을 만들었겠죠. \n",
      "\n",
      "기업이 만든 생산물을 소비하는 일을 하고요. 근데 이것을 소비하려면 소비할 돈이 있어야 겠죠 돈을 벌어서 번 돈으로 소비를 합니다. 가게는 어떻게 돈을 벌까요 바로 자신이 보유하고 있는 생산요소인 노동과 자본을 제공해서 돈을 벌게 됩니다. 노동은 여인이라고 표를 합니다. 네이버에 이니셜 애를 따 고요 노동은 애 니라고 하고요. \n",
      "\n",
      "잠 오는 이니셜 케이크이라고 합니다. 독일어 캐피탈의 케이가 이니셜로 옵니다. 찾아보는 회의라고 표현해요. 자 여러분 가게를 가정이라고 오해하시면 안 돼요. 우리가 뭐 결혼해서 애를 낳고 사는 그런 가정 있죠. 홈 그럼 다 정의 민 아닙니다. 아시겠죠. 따라서 결혼을 했다 안 했다 중요하지 않아요. 가게는 소비주체 가정의 뜻은 아닙니다. 하지만 이해할 때는 그냥 편하게 얘기하시면 돼요. \n",
      "\n",
      "어느 가정이나 어느 집이나 뭐 돈을 벌어 와서 그 벌어 오는 돈으로 물건을 사서 생활을 영위하고 따라서 그냥 이해하실 때는 그냥 가정으로 이해하셔도 큰 무리가 없습니다. 작은데 어떻게 돈을 버는 야 가장 대표적으로 회사에 나가서 일을 할 수가 있겠죠. 회사에 나가서 일을 한다는 것은 내 몸이 가서 일을 하는 것입니까? 사람이 일을 하는 거니까 노동을 공급한 다라고 표현할 수가 있습니다. \n",
      "\n",
      "우리는 회사에 출근 안 회사에 고용되어 있다라고 편하지만 경제학에서는 이것을 노동을 공급한 다라고 표현할 수가 있습니다. 이해하시겠죠. 노동을 공급하면요 노동을 팔았을 때 닦는 댓가가 있겠죠. 우리 그것은 임금이라고 합니다. 노동은 임금 임금을 받게 되어 임금은 왜 이제 더블유로 쓰게 됩니다. 몸을 제공하면 임금을 받게 돼 월급이 결정 월급 소득 \n",
      "\n",
      "한편으로 자본을 공급할 수 있는데 자본을 공급한다고 하는 것은요 이렇게 하시면 돼요. 어떤 사람이 물론 회사에서 일도 하지만 은행 예금으로 5천만 원의 예금이 있다고. 칩시다. 은행은 돈을 어떻게 운영과정이 돈을 대출자 진료 베개 또는 돈이 필요한 사람에게 돈을 빌려 줍니다. 대출 이자를 받겠죠. 대출 이자에서 1분 은행이 자신의 수입을 \n",
      "\n",
      "그중에 일부는 또 예금자에게 예금 이자를 돌려줍니다. 그런 구조 이해하시죠. 따라서 어떤 사람이 은행에 돈을 맡겼다 놓으면 이것은 곧 우리 경제사회에 대출에 근원이 됩니다. 예금자들의 예금이 우리 경제의 사회에서 대출의 근원이 되어 대출이 발생되면 대출 이자가 들어오고 그 이자 수익의 일부를 예금 이자 고향의 하는 것입니다. 무슨 얘기냐? 내가 돈을 맡겨 놓으면 거기에 대해서 뭐가 나온다 이자가 나온다 얘기야 이자가 따라서 자본은 이자 소득이 발생하게 되고 우리 이제 아를 쓰게 됩니다. \n",
      "\n",
      "레이트라고 해서 아를 쓰게 돼 어 그래서 자본에 대해서 이자가 붙을 텐데 우리 그 이자를 자본에 대한 소득 댓 가라고 이해하시면 되겠습니다. 이렇게 가게는 회사에 나가서 일을 하거나 또는 자신이 모아 놓은 돈을 누군가에게 빌려줌으로써 이자수익을 향유 하니까 오봉을 제공하고 임금을 받고 자본을 제공해서 이자 르 \n",
      "\n",
      "이 임금 소득 이자 소득에 합의 못 가게 소득이 되고 그 소득으로서 기업이 맞는 물건을 구입하고 소비한다 라 고이 하시면 되겠습니다. 이해하시겠죠. 자 그럼 반대로 물건을 만드는 경제주체들의 있겠죠. 바로 기업이 물건을 만들어 내는 역 활을 합니다. 기업은 소비자에게 생산물을 만들어서 판매 해서 수입을 없구요. 이렇게 해서 얻어 지는 수입을 어디에서 \n",
      "\n",
      "바로 자신이 제품을 만들 때 재화를 생산할 때 들어간 생산요소에 대해서 그 요소 대가를 지급하는 데이 판매수익을 쓰게 됩니다. 가게와 기업은 정반대 역할을 하겠죠. 가게는 돈을 벌어서 물건을 사저 근데 기업은요 물건을 팔고 급한 돈으로 생산요소에 대한 대가를 지급합니다. \n",
      "\n",
      "제가 드린 말씀을 가장 단순한 경제 순환 모형으로 설명 드릴 수가 있어요. 왜 보시면요 진짜 여기다 개와 진료비 존재하구요. 아까 말씀드렸지만 가게는 씨라고 표를 하고요. 기업은 아이라고 표현을 하겠습니다. 시장은 두 가지가 있네요. 재화시장 여기는 요 생산요소시장 있습니다. 그러면 재화시장 그냥 말 그대로 물건을 거래하는 시장 이에요 컴퓨터 오디오 파일 이런 것 들을 사고 파는 시장을 재화시장이라고 합니다. 그런데 생산요소시장은요 아까 말씀드렸던 생산요소 \n",
      "\n",
      "검사를 하는데 필요한 요소인 부분과 잡아낼 과 klk5 대한 수요가 공급을 이루어지는 시장을 생산요소시장이라고 합니다. 한번 보시죠. 맨 처음에 기업이요 재화시장 게다가 물건을 만들어 팝니다. 이해하시겠죠. 기업이 재화나 서비스를 만들어서 공급 판매를 해요 그럼 이렇게 공급된 재화나 서비스를 가게가 수요 하게 \n",
      "\n",
      "쉽게 얘기하면 삼성전자가 핸드폰을 만들어 팔면 그 핸드폰을 가게가 수용한다 이야기 죠 이! 해하셨습니까? 수요 하고요. 그런데 이 가게는요 핸드폰을 수용하려면 핸드폰을 살 돈이 있어야 겠죠 이 돈을 어떻게 본다 바로 생산요소시장에 자신의 생산요소인 엘과 케일을 공급해서 일을 해서 돈을 번다 얘기를 생산요소를 공급한다. \n",
      "\n",
      "일을 한다 이야기입니다. 애를 공급한다 이야기는 회사에 나가서 일을 한다 이야기 고요 공급한다 이야기는요 내 돈을 남한테 빌려 준다이 얘기야 빌려줘서 이자수익을 얻는다 얘기입니다. 아시겠죠. 핸드폰 살 돈을 생산요소시장에서 과태료 공급해서 돈을 벌고 여 2L 밭에는 누가 사나요 바로 기업이 삽 니다 기업 EL 과제를 수요 해요 그런데 왜 그러면 생산요소가 뭐예요. \n",
      "\n",
      "어떤 재화나 서비스를 생산하는데 필요한 요소 필요한 자원을 얘기합니다. 기업이 핸드폰을 만들려면 핸드폰을 만들 인력도 필요하고요. 핸드폰을 만들 기계와 자본설비 더 필요하겠죠. 따라서 삼성전자는 핸드폰을 만들어 팔기 위해서 핸드폰을 만들 사람과 핸드폰을 많은 만들 장비나 설비를 구입해야 되는 겁니다. \n",
      "\n",
      "이해하셨습니까? 자 이렇게 해서 삼성 전 자가 엘 가 케이를 구입해서 핸드폰을 만들어 팔면이 핸드폰을 가게 가 수유하고 이 핸드폰 핸드폰 산 돈을 벌기 위해서 가게는 다시 자신의 앨범 케이를 판단이 얘기입니다. 보니까 요렇게 요렇게 미움 자가 땡땡 땡땡 돌게 되는데 이게 언제까지 땡땡 돈 다 영원히 그래서 경제 순환인 거예요. 그래서 이게 경제 아닌 겁니다. 이렇게 땡땡 땡땡 동은 이 흐름을 실물에 흐름이라고 합니다. \n",
      "\n",
      "실 물 실물에 흐름이라고 해 작은 반대로 실물이 흘러가면요 반대 방향으로 돈 화폐가 흘러가게 되는데 제가 모실게요. 기업이 엘과 케일을 수용할 때는 뭘 지급한다 고요에 대해서 인건비 임금을 지급하고요. 대해서는 이자를 지급합니다. 그죠. 임금이나 이자를 지급하는데 이것은 당연히 돈으로 집을 하겠죠. 화 폐로 지불하게 있죠. 하면서 거기 된대. \n",
      "\n",
      "이자를 지급하면요 임금과 이자가 어디로 흘러 가요 가게 소득이 됩니다. 그렇죠. 임금과 이자가 가게에 소득이 돼요. 그러면 이렇게 번 돈으로 가게는요 핸드폰을 사러 갑니다. 핸드폰 값을 내겠죠. 가게가 내 핸드폰 값은 삼성전자에 뭐가 됩니까? 판매수입이 됩니다. 이해하셨습니까? \n",
      "\n",
      "핸드폰을 팔아서 번 돈으로 다시 앨범 테 이를 구입하고 구입한 돈은 다시 가게 소득이 재고 그럼 다시 또 핸드폰을 사고 그러면 또 돈을 벌고 이런 식으로 영원히 땡땡 땡땡 돈 다 얘기해 역시 순환과정이 이루어지죠. 그런 대로 번 중요한 건 아닙니다. 시험이 나 오진 않아요. 근데 그냥 말씀드리는 겁니다. 이렇게 이렇게 바깥쪽으로 돈 흐름은 제가 실물이 흐름이 습니다. \n",
      "\n",
      "근데 이 안쪽으로 보는 것은 상당히 반 대죠. 순한 양이 반대입니다. 그리고 노란색 잊어 우리 이것을 화폐의 흐름이라고 합니다. 이해하시겠죠. 화 폐의 흐름 따라서 실물의 흐름과 화폐 흐름은 흐름방향 2 단계 다르다는 것을 기억하시면 되겠습니다. 시험에 나오지는 않지만 이해를 위해서 말씀드립니다. 자 이제 세 번째로 정부라고 하는 경제 주체를 추가 할 건데요 자전거는 어떤 역할을 하니 민간으로부터 조세를 징수합니다. \n",
      "\n",
      "이러면 민간이라고 하는 것은요 가게와 기업을 민간이라고 합니다. 씨 플러스 아이를 민간이라고 해요 가게나 기업으로부터 조세를 증산 다음에 그냥 뺏기면 하는 게 아니라 이렇게 징수한 조세를 재원으로 해서 여러 가지 공공서비스를 만들어서 다시 우리 사회의 등급을 합니다. \n",
      "\n",
      "우리 공공서비스를 요번 주에 주의를 궁 동 서비스는 어떤 것이 그냥 가장 대표적으로 국방 서비스가 있구요. 또는 경찰 서비스가 있고요. 또는요 입법 서비스가 있겠죠. 여러 가지 법률을 만들고요. 목회도 도로공원 공항 이러한 여러 가지 어떤 공공시설 등등에 대한 설치나 운영관리가 있겠죠. 여러 가지 궁동 서비스를 만든다 따서 정부는 기본적으로 민간으로부터 조세를 증수 해서 그 조세를 재원으로 해서 다시 우리 사회의 여러 가지 공공 서비스를 제공하는 역할을 한다는 것입니다. 네 번째는 해외 선물 줄 수가 있어요. \n",
      "\n",
      "자 대한민국을 제외한 나머지 모드 다른 나라들을 해외라고 청할 수가 있구요. 사회는 x 100 m이라고 하는데 여기서 x는 엑스 포트 수출액 스포트 엑스 일단 거 고요 얘는 수출이 보여 주기에 수입에 임 포트의 애물 단 겁니다. 뒤에 수입을 의미 해요 따라서 x - 수출 수입인데 우리 이것을 순 수출이라고 합니다. 순 수출 만약에 어떤 나라가 수출이 수입보다 안타면 수출은 양이 되겠죠. \n",
      "\n",
      "오늘은 반대라면 은희 되겠죠. 그런 관계 이해하시고 순수 출 다른 말로 경상수지라고 도 합니다. 경상수지가 흑자 다라고 하는 것은 순 수출이 양이다 낙원 가든 아니고 그 많은 곳 수출의 수보다 많다 이야기입니다. 해외시장이 왜 우리나라 경제 시장에 참여하는 가 하면은 외국 사람이라 하더라도 우리나라 \n",
      "\n",
      "생산한 제품을 사 갈 때가 있습니다. 이것은 우리 입장에서 수출이고 되 네 입장에선 수입인가요 반대로 한국 사람이라 하더라도 외국 걸 살 때가 있습니다. 예를 들어서 한국 사람이 애플 핸드폰을 쓴다 아이 폰 산다라고 한다면 미국 걸 사 오기 때문에 우리의 수입이고 미국의 수출이 됩니다. 이런 식으로 각 국가는 서로 조여 무역을 하기 때문에 다른 나라가 하더라도 한 나라의 경제가 \n",
      "\n",
      "참여하고 있다라고 말씀 드릴 수가 있어요. 지금까지 말씀드린 경제 주체를 좀 정리해 보겠습니다. 자각에는 기본적으로 뭘 한다 요소들을 번 다음에 그 소득으로 물건을 사고 소비한다 말씀드렸고 가게는 그런 과정에서 자신의 효용 행복을 극대화하고자 하는 행동 길을 가고 있습니다. 기업은요 자 생산요소를 수용해서 생산물을 만들어 판매하는 역할을 하는데 기업은 그 과정에서 이용을 극대화하고자 합니다. 기업은 이윤을 극대화한다 자전거 눈요 차이가 개와 기업 민간으로 \n",
      "\n",
      "조사를 증수에서 여러 가지 공공서비스를 공급해 주지 근데 이런 일을 왜 하는 겁니까? 바로 사회 전체의 행복을 높이기 위해서 인데 우리 이것을 경제학에서는 사회 후생 극대화라고 표를 합니다. 정부가 우리 사회의 다리 못된 국방 경찰 이러한 서비스는 민간에서 자동으로 만지지 않아요. 민간이나 민간 기업들이 알아서 자동으로 그러한 공공서비스를 생산하지 않습니다. \n",
      "\n",
      "하지만 이런 것 들은 우리가 살아가는데 굉장히 필요한 서류 쓰기 때문에 정부가 조세를 재원으로 해서 그런 공공서비스를 공급해 줌으로써 우리 사회 전체의 행복을 높여 주는 역할을 하고 있는 거예요. 이것을 사회 후생 극대화라고 합니다. 또 외국에 존재하겠죠. 가게와 기업을 묶어서 가장 좁은 범위의 민간 경제라고 합 니다 정부는 요 정도는 공공경제 부문이 다라고 합니다. 이러한 민간 경제 합쳐서 한 나라의 국민경제가 되는데 \n",
      "\n",
      "아직 까지는 외국과의 교육을 고려하고 있지 않기 때문에 국경이 다친 상태에서의 경기도 안 하고 해서 폐쇄경제라고 합니다. 이해하시겠죠. 이제 여기에 다가 한 국가의 경 제 에 다가 외국과의 교육까지 고려하는 이제서야 재 방 경제가 되는 것입니다. 따라서 경제주체의 범인은 좁게 정리할 수도 있고 점점 넓게 정리할 수도 있는데 객관식 문제에서도 \n",
      "\n",
      "이 경제주체 범위를 좁게 주소록 문제가 쉬워 지고 넓게 줄수록 점점 문제가 어려워지고 복잡 해진다 나는 거 기억하시면 되겠습니다. 다음으로 인제 몇 가지 용에 대해서 좀 살펴 볼 건데요 먼저 재워 봐 서비스입니다. 기업이 만들어 내는 것을 생산물이라고 하는데 e 생산물이 유형 적 형태가 있을 때가 있고 유형적 형태가 없을 때가 있습니다. 이랬을 때 유형 형태가 있는 생산물을 재화라고 해 우리 주변에 흔히 열려 있죠. \n",
      "\n",
      "공 책 연필 의자 다 재화 해요 그런데 의사의 진료행위 연주자의 악기 연주 행위 또는 배우의 연기가 교수의 강의 이런 것 들은 눈에 보이는 유형적 형태가 있는 어떤 생산물이 아닙니다. 우리는 것 들을 서비스라고 합니다. 재화와 서비스 서비스를 한자로 하면 용역이라고 합니다. 그래서 어떤 책을 재화와 용역의 이라고도 표현을 합니다. 서비스는 용역과 동의어 다라고 이해하신 되겠어요. \n",
      "\n",
      "기업의 생산물이 유형적 형태가 있냐? 없냐? 했다는 후문이다라고 기억하시면 되겠고 다음에 두 번째 자유재와 경제가 있는데 이것은 대화의 부존량에 따라서 9분 됩니다. 부존량이란 우리 사이에 존재하는 재화의 양의 얘기하는 데 자체와의 부존량 존 재량이 무한히 많은 대화를 자유 자라고 해요. 그러면 예를 들어서 햇빛 또는 공기 물 이런 것 들은 무한이 많이 존재한 다라고 봅니다. \n",
      "\n",
      "이해하시겠죠. 엄밀한 의미에서 정말 물 언제까지 는 아니지만 그 정도로 충분히 끝도 없이 많이 있다 정도로 이해하시면 되겠어요. 그래서 자유 이제는 그 부존량이 무한하게 때문에 취소해 여기서 잖 아요 시소 하지 않아 희소 성에 문제를 이야기 하지 않는 단말입니다. 따라서 자유 이제는 경제학의 분석대상이 아니에요. \n",
      "\n",
      "자유 자는 언제 하게 분석 대상이 아니다 왜 경제에 약이라고 하는 것은 기본적으로 문제를 해결하고자 하는 학문인데 문제가 생기지 않는 말입니다. 따라서 자요 저는 경제학의 분석하지 않아요. 따라서 경제학의 분석하는 대상은 경제재입니다. 차 붐 줘 냥이 유한 한정되어 있는 재활을 경제라고 하고 두 손 양이 한정되어 있기 때문에 이 재화를 얻고 싶으면 소비 하고 싶으면 거기에 대한 대가를 지불해야 하지만 소비하고 \n",
      "\n",
      "얻을 수 있는 재활을 경제제라고 합니다. 이해하시겠죠. 다음으로 소비자 가자 문제가 있는데 이것은 이제 화가 어떤 재환 야 따라서 9분 하는 게 아니라 똑같은 3월 할지라도 이제 와의 사용 용도에 따라서 분류가 달라지게 됩니다. 한번 예를 들어 볼게요. 어떤 페인트 회사가 페인트를 한 통 만들어 냈습니다. 그런 데이 페인트를 어떤 개인 이사 가서 자기 집 담장을 칠하는데 사용했다고. 한다. \n",
      "\n",
      "이 집주인의 욕망 욕구를 충족시키는 데이 페인트가 사용 됐습니까? 네 사용 됐어요. 우리 이렇게 인간의 욕망을 최종적으로 만족시키는데 사용된 재발을 소비자라고 합니다. 이해하시겠죠. 최종단계에서 아 나는 인간의 욕망을 이루어서 승급 시켜 줬어 하고 소비된 세월을 소비자라고 해요. 그런데 이게 똑같은 페이트 똑같은데 있는데 이것을 어떤 건설회사가 샀다 고 칩 시다 건설회사 건설회사가 이벤트를 사서 자신이 짓고 있던 아파트 외벽을 칠하는데 페인트를 썼습니다. 하느뇨? 이 페인트는 요 아파트라고 하는 재화를 생산하는데 중간에 투입된 죄와 입니다. \n",
      "\n",
      "이해하시죠. 그 자체로서 인간의 최종적인 욕구 욕망을 게 아니라 아파트라는 재화를 생산 하고 있는데 그 생산과정에 투입된 재활 분이죠. 이렇게 페인트가 소비 되었을 때는 생산재 또는 자본재로서 투입되었다라고 합니다. 이해하셨습니까? 제가 또 한 가지 여쭤 볼게요. 어떤 유리가 있는데 이유를 어떤 개인 이사 가서 자기 집 창문에 꼈다라고 한다면 소비자가 되는 겁니다. 왜 인간의 최종적인 욕망을 표준 곳이니까요 그런데 똑같은 일인데 자동차 회사 가서 자신이 만들고 있는 자동차 압류 뺏겼다. \n",
      "\n",
      "자동차라는 재화를 만드는데 투입된 재화이기 때문에 우리 그때 이유리는 생산자가 되는 것입니다. 자 이렇게 해서 유리가 깨져서 자동차가 만들어 지면 그 자동차가 개인에게 인간에게 소비자가 되는 거져 이해하셨습니까? 최종적으로 인간의 욕망을 충족시켜 주는 건 자동차 지그 자동차를 만드는데 들어가는 하나하나에 부품이 아니란 말입니다. 이해하셨습니까? \n",
      "\n",
      "따라서 소비자와 생산되는 동일한 할지라도 어디에 사용되었는 가에 따라서 최종소비 되었는가? 아니면 다른 재활 생산의 중간 투입 되었는 가에 따라서 소비재와 생산자로 분류가 됩니다. 이해하시겠죠. 마지막 네 번째 생산요소에 노동가 잡았는데 이것은 아까 제가 말씀을 드렸습니다. 인간의 육체적 정신적 모든 활동 인간이 한 거 사람이 한 모든 활동을 다 노동이라고 합니다. 이니셜 애를 쓰고요. 천호동에 대해서는 제가 임금 더블유가 지급된다고 아까 말씀드렸던? \n",
      "\n",
      "임금 W 지급되구요. 찾아 보는 사람의 활동이 아니 나머지를 전부 다 사본으로 분류 하시면 됩니다. 사람의 활동이 아닌 건 다 잡은 이에요 찾아보는 요 아까 말씀드렸습니다만 이자가 지급된다고 했습니다. 자본에 대한 요소들은 이자가 지급되어 한번 예를 들어 보자 어떤 빵을 만드는데 제빵 사가 있을 것입니다. 제 빵 사의 활동을 다 뭡 니 까 무예 5동에 일입니다. 그런데 제가 빵을 만드는데 제빵 사 이외에 5분 이라든가. 밀가루 라든 가 계란 버터 이런 것 들은 전부 다 어디에 포함된다. \n",
      "\n",
      "자본의 포함됩니다. 이렇게 해서 이 엘케이 두 가지 생산요소가 결합되어서 투입되면 뭐가 만들어 진다 바로 생산물이 만들어 진다라고 정리 할 수가 있고 이것을 달력 하기도 싫고 하면 이렇게 할 수가 있겠죠. 케이가 결합되어서 결합되어서 투입됩니다. 어디에 투입 예정 지역 기업이라고 하는 경제 주체에게 이것이 알고 야채가 투입되면 기업은 이것을 집어넣으면 뭐가 이따 바로 생산물이 나옵니다. \n",
      "\n",
      "생산 물이 나와요. 사이 생산물은 아까 말씀드렸습니다만 유형적 형체가 있냐? 없냐에 따라서 재화와 서비스의 재화와 서비스를 이렇게 분류 갈 수가 있다 그렇게 이해하시면 될 \n",
      "\n"
     ]
    }
   ],
   "source": [
    "for fianal_script in final_script_list :\n",
    "    print(fianal_script)\n",
    "    print()"
   ]
  },
  {
   "cell_type": "code",
   "execution_count": 17,
   "id": "4f2d182a",
   "metadata": {},
   "outputs": [
    {
     "data": {
      "text/plain": [
       "'생산 물이 나와요. 사이 생산물은 아까 말씀드렸습니다만 유형적 형체가 있냐? 없냐에 따라서 재화와 서비스의 재화와 서비스를 이렇게 분류 갈 수가 있다 그렇게 이해하시면 될 '"
      ]
     },
     "execution_count": 17,
     "metadata": {},
     "output_type": "execute_result"
    }
   ],
   "source": []
  },
  {
   "cell_type": "code",
   "execution_count": 18,
   "id": "c4989218",
   "metadata": {},
   "outputs": [],
   "source": [
    "sentence_list = []\n",
    "for script in final_script_list: \n",
    "    sentence_list.append(kkm.sentences(script))"
   ]
  },
  {
   "cell_type": "code",
   "execution_count": 23,
   "id": "7cf183c6",
   "metadata": {},
   "outputs": [],
   "source": [
    "script_list=[]\n",
    "script2_list=[]\n",
    "new_sentence_list = []\n",
    "noun_list = []\n",
    "pos_last_list = []\n",
    "for sentences in sentence_list :\n",
    "    script =[]\n",
    "    for st in sentences[-1:] :\n",
    "        pos=kkm.pos(st)\n",
    "        if (pos[-1][1] =='EFN') | (pos[-1][1] =='EFA'):\n",
    "            script.append(st +\". \")\n",
    "            script2_list.append(st +\". \")\n",
    "        elif pos[-1][1] =='EFQ':  \n",
    "            script.append(st +\"? \")\n",
    "            script2_list.append(st +\"? \")\n",
    "        elif (pos[-1][1] =='EFI') | (pos[-1][1] =='EFO') :   \n",
    "            script.append(st +\"! \")\n",
    "            script2_list.append(st +\"! \")\n",
    "        else :\n",
    "            script.append(st +\" \")\n",
    "            script2_list.append(st +\" \")            \n",
    "        for ps in pos :\n",
    "            if ps[1][:2] == \"NN\" :\n",
    "                noun_list.append(ps[0])\n",
    "        pos_last_list.append(pos[-2][1])\n",
    "    script_list.append(script)"
   ]
  },
  {
   "cell_type": "code",
   "execution_count": 24,
   "id": "35f43e47",
   "metadata": {},
   "outputs": [],
   "source": [
    "data = pd.DataFrame(pos_last_list,columns=[\"pos\"])"
   ]
  },
  {
   "cell_type": "code",
   "execution_count": 25,
   "id": "8df6bb19",
   "metadata": {},
   "outputs": [
    {
     "data": {
      "text/html": [
       "<div>\n",
       "<style scoped>\n",
       "    .dataframe tbody tr th:only-of-type {\n",
       "        vertical-align: middle;\n",
       "    }\n",
       "\n",
       "    .dataframe tbody tr th {\n",
       "        vertical-align: top;\n",
       "    }\n",
       "\n",
       "    .dataframe thead th {\n",
       "        text-align: right;\n",
       "    }\n",
       "</style>\n",
       "<table border=\"1\" class=\"dataframe\">\n",
       "  <thead>\n",
       "    <tr style=\"text-align: right;\">\n",
       "      <th></th>\n",
       "      <th>pos</th>\n",
       "    </tr>\n",
       "  </thead>\n",
       "  <tbody>\n",
       "    <tr>\n",
       "      <th>0</th>\n",
       "      <td>EFN</td>\n",
       "    </tr>\n",
       "    <tr>\n",
       "      <th>1</th>\n",
       "      <td>EFN</td>\n",
       "    </tr>\n",
       "    <tr>\n",
       "      <th>2</th>\n",
       "      <td>JKM</td>\n",
       "    </tr>\n",
       "    <tr>\n",
       "      <th>3</th>\n",
       "      <td>EFN</td>\n",
       "    </tr>\n",
       "    <tr>\n",
       "      <th>4</th>\n",
       "      <td>EFN</td>\n",
       "    </tr>\n",
       "    <tr>\n",
       "      <th>...</th>\n",
       "      <td>...</td>\n",
       "    </tr>\n",
       "    <tr>\n",
       "      <th>65</th>\n",
       "      <td>EFQ</td>\n",
       "    </tr>\n",
       "    <tr>\n",
       "      <th>66</th>\n",
       "      <td>EFQ</td>\n",
       "    </tr>\n",
       "    <tr>\n",
       "      <th>67</th>\n",
       "      <td>EFN</td>\n",
       "    </tr>\n",
       "    <tr>\n",
       "      <th>68</th>\n",
       "      <td>EFN</td>\n",
       "    </tr>\n",
       "    <tr>\n",
       "      <th>69</th>\n",
       "      <td>VA</td>\n",
       "    </tr>\n",
       "  </tbody>\n",
       "</table>\n",
       "<p>70 rows × 1 columns</p>\n",
       "</div>"
      ],
      "text/plain": [
       "    pos\n",
       "0   EFN\n",
       "1   EFN\n",
       "2   JKM\n",
       "3   EFN\n",
       "4   EFN\n",
       "..  ...\n",
       "65  EFQ\n",
       "66  EFQ\n",
       "67  EFN\n",
       "68  EFN\n",
       "69   VA\n",
       "\n",
       "[70 rows x 1 columns]"
      ]
     },
     "execution_count": 25,
     "metadata": {},
     "output_type": "execute_result"
    }
   ],
   "source": [
    "data"
   ]
  },
  {
   "cell_type": "code",
   "execution_count": 26,
   "id": "9154fa64",
   "metadata": {},
   "outputs": [
    {
     "name": "stdout",
     "output_type": "stream",
     "text": [
      "종결어미 : 0.6714285714285714 종결어미 X: 0.32857142857142857 \n"
     ]
    }
   ],
   "source": [
    "end_word_cnt = 0;\n",
    "not_end_word_cnt = 0;\n",
    "size=data[\"pos\"].size\n",
    "for i in data[\"pos\"] :\n",
    "    if i[0:2]=='EF' :\n",
    "        end_word_cnt += 1;\n",
    "    else : \n",
    "        not_end_word_cnt += 1;\n",
    "print(f\"종결어미 : {end_word_cnt/size} 종결어미 X: {not_end_word_cnt/size} \")"
   ]
  },
  {
   "cell_type": "code",
   "execution_count": 378,
   "id": "716ced91",
   "metadata": {},
   "outputs": [],
   "source": [
    "data['new_word']=final_script_list"
   ]
  },
  {
   "cell_type": "code",
   "execution_count": 379,
   "id": "7fe0256a",
   "metadata": {},
   "outputs": [
    {
     "data": {
      "text/plain": [
       "0     나 이번 시간에는 여러 분하고 입문 강의 여섯 번째 시간인데요 근대사회 그래서 근대...\n",
       "1     자 일단 이 시기부터 우리는 근 현대사로 들어가게 되는데요 자 여기 보시면 근 현대...\n",
       "2     얘기할 수 있는 게 고종이 왕으로 즐 기 하면서 그때 고종이 또 12살이 어린아이 ...\n",
       "3     그런데 2조 대비가 권력을 흥 선군 왕의 아버지는 흥선 대원군에게 넘겨주면서 흥선 ...\n",
       "4     까지를 우리가 이제 근데 지금 우리가 배우게 돼 근데 사회라고 그래요 근데 사회 같...\n",
       "                            ...                        \n",
       "95    한일 신협약이라는 조약을 파견 조약을 체결한 에서 일본인 차관을 임명 할 수 있게 ...\n",
       "96    전국의 의병들이 경기도 양주에 집결해서 13도 창의 군 일하는 거 만들고 서울로 진...\n",
       "97    18 결국에는 1910년 8월 29일에 발표를 했어요. 그래서 8월 29일은 아마 ...\n",
       "98    그래서 8월 29일 이고요. 여러 분 교제나 여러 가지 사진을 교가 예전 교과서나 ...\n",
       "99    10년 정도 이렇게 나눠서 전반적인 개관을 살펴 같고요. 그리고 근 현대사를 여러분...\n",
       "Name: new_word, Length: 100, dtype: object"
      ]
     },
     "execution_count": 379,
     "metadata": {},
     "output_type": "execute_result"
    }
   ],
   "source": [
    "data['new_word']"
   ]
  },
  {
   "cell_type": "code",
   "execution_count": 380,
   "id": "a58efe57",
   "metadata": {},
   "outputs": [],
   "source": [
    "data.to_csv(\"ebs한국사_구두점_konlpy.csv\",encoding=\"utf-8-sig\",index=False)"
   ]
  },
  {
   "cell_type": "code",
   "execution_count": 186,
   "id": "66485a07",
   "metadata": {},
   "outputs": [
    {
     "data": {
      "text/plain": [
       "0     27.5500\n",
       "1     26.0500\n",
       "2     21.5000\n",
       "3     61.1000\n",
       "4     27.5500\n",
       "       ...   \n",
       "95    40.0500\n",
       "96    28.0500\n",
       "97    32.3275\n",
       "98    28.2725\n",
       "99    25.2500\n",
       "Length: 100, dtype: float64"
      ]
     },
     "execution_count": 186,
     "metadata": {},
     "output_type": "execute_result"
    }
   ],
   "source": [
    "data[\"end_time\"] - data[\"start_time\"]"
   ]
  },
  {
   "cell_type": "code",
   "execution_count": 30,
   "id": "b217f035",
   "metadata": {
    "scrolled": true
   },
   "outputs": [
    {
     "data": {
      "text/plain": [
       "NNG    31\n",
       "ECD     9\n",
       "ECE     8\n",
       "JKM     7\n",
       "MAC     6\n",
       "JX      4\n",
       "VV      4\n",
       "MAG     3\n",
       "ECS     2\n",
       "ETD     2\n",
       "JKS     2\n",
       "JKG     1\n",
       "UN      1\n",
       "MDT     1\n",
       "VCP     1\n",
       "JKI     1\n",
       "NNM     1\n",
       "JC      1\n",
       "NNP     1\n",
       "Name: word, dtype: int64"
      ]
     },
     "execution_count": 30,
     "metadata": {},
     "output_type": "execute_result"
    }
   ],
   "source": [
    "a=pd.DataFrame(pos_list,columns=[\"word\"])\n",
    "a['word'].value_counts()"
   ]
  },
  {
   "cell_type": "code",
   "execution_count": null,
   "id": "ceef3c01",
   "metadata": {},
   "outputs": [],
   "source": []
  },
  {
   "cell_type": "code",
   "execution_count": 36,
   "id": "d8881cb7",
   "metadata": {},
   "outputs": [
    {
     "data": {
      "text/plain": [
       "True"
      ]
     },
     "execution_count": 36,
     "metadata": {},
     "output_type": "execute_result"
    }
   ],
   "source": []
  }
 ],
 "metadata": {
  "kernelspec": {
   "display_name": "Python 3",
   "language": "python",
   "name": "python3"
  },
  "language_info": {
   "codemirror_mode": {
    "name": "ipython",
    "version": 3
   },
   "file_extension": ".py",
   "mimetype": "text/x-python",
   "name": "python",
   "nbconvert_exporter": "python",
   "pygments_lexer": "ipython3",
   "version": "3.6.13"
  }
 },
 "nbformat": 4,
 "nbformat_minor": 5
}
