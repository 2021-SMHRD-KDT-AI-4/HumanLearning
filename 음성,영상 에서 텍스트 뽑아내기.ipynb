{
 "cells": [
  {
   "cell_type": "code",
   "execution_count": 1,
   "id": "de0ecf34",
   "metadata": {},
   "outputs": [
    {
     "name": "stdout",
     "output_type": "stream",
     "text": [
      "Collecting SpeechRecognition\n",
      "  Downloading SpeechRecognition-3.8.1-py2.py3-none-any.whl (32.8 MB)\n",
      "Installing collected packages: SpeechRecognition\n",
      "Successfully installed SpeechRecognition-3.8.1\n"
     ]
    },
    {
     "name": "stderr",
     "output_type": "stream",
     "text": [
      "WARNING: Ignoring invalid distribution -5py (c:\\users\\smhrd\\anaconda3\\envs\\deep_gpu2021\\lib\\site-packages)\n",
      "WARNING: Ignoring invalid distribution -5py (c:\\users\\smhrd\\anaconda3\\envs\\deep_gpu2021\\lib\\site-packages)\n",
      "WARNING: Ignoring invalid distribution -5py (c:\\users\\smhrd\\anaconda3\\envs\\deep_gpu2021\\lib\\site-packages)\n",
      "WARNING: Ignoring invalid distribution -5py (c:\\users\\smhrd\\anaconda3\\envs\\deep_gpu2021\\lib\\site-packages)\n",
      "WARNING: Ignoring invalid distribution -5py (c:\\users\\smhrd\\anaconda3\\envs\\deep_gpu2021\\lib\\site-packages)\n",
      "WARNING: Ignoring invalid distribution -5py (c:\\users\\smhrd\\anaconda3\\envs\\deep_gpu2021\\lib\\site-packages)\n",
      "WARNING: Ignoring invalid distribution -5py (c:\\users\\smhrd\\anaconda3\\envs\\deep_gpu2021\\lib\\site-packages)\n"
     ]
    },
    {
     "name": "stdout",
     "output_type": "stream",
     "text": [
      "Collecting pyaudio\n",
      "  Downloading PyAudio-0.2.11-cp36-cp36m-win_amd64.whl (52 kB)\n",
      "Installing collected packages: pyaudio\n",
      "Successfully installed pyaudio-0.2.11\n"
     ]
    },
    {
     "name": "stderr",
     "output_type": "stream",
     "text": [
      "WARNING: Ignoring invalid distribution -5py (c:\\users\\smhrd\\anaconda3\\envs\\deep_gpu2021\\lib\\site-packages)\n",
      "WARNING: Ignoring invalid distribution -5py (c:\\users\\smhrd\\anaconda3\\envs\\deep_gpu2021\\lib\\site-packages)\n",
      "WARNING: Ignoring invalid distribution -5py (c:\\users\\smhrd\\anaconda3\\envs\\deep_gpu2021\\lib\\site-packages)\n",
      "WARNING: Ignoring invalid distribution -5py (c:\\users\\smhrd\\anaconda3\\envs\\deep_gpu2021\\lib\\site-packages)\n",
      "WARNING: Ignoring invalid distribution -5py (c:\\users\\smhrd\\anaconda3\\envs\\deep_gpu2021\\lib\\site-packages)\n",
      "WARNING: Ignoring invalid distribution -5py (c:\\users\\smhrd\\anaconda3\\envs\\deep_gpu2021\\lib\\site-packages)\n",
      "WARNING: Ignoring invalid distribution -5py (c:\\users\\smhrd\\anaconda3\\envs\\deep_gpu2021\\lib\\site-packages)\n"
     ]
    },
    {
     "name": "stdout",
     "output_type": "stream",
     "text": [
      "Requirement already satisfied: pyaudio in c:\\users\\smhrd\\anaconda3\\envs\\deep_gpu2021\\lib\\site-packages (0.2.11)\n"
     ]
    },
    {
     "name": "stderr",
     "output_type": "stream",
     "text": [
      "WARNING: Ignoring invalid distribution -5py (c:\\users\\smhrd\\anaconda3\\envs\\deep_gpu2021\\lib\\site-packages)\n",
      "WARNING: Ignoring invalid distribution -5py (c:\\users\\smhrd\\anaconda3\\envs\\deep_gpu2021\\lib\\site-packages)\n",
      "WARNING: Ignoring invalid distribution -5py (c:\\users\\smhrd\\anaconda3\\envs\\deep_gpu2021\\lib\\site-packages)\n",
      "WARNING: Ignoring invalid distribution -5py (c:\\users\\smhrd\\anaconda3\\envs\\deep_gpu2021\\lib\\site-packages)\n",
      "WARNING: Ignoring invalid distribution -5py (c:\\users\\smhrd\\anaconda3\\envs\\deep_gpu2021\\lib\\site-packages)\n",
      "WARNING: Ignoring invalid distribution -5py (c:\\users\\smhrd\\anaconda3\\envs\\deep_gpu2021\\lib\\site-packages)\n"
     ]
    },
    {
     "name": "stdout",
     "output_type": "stream",
     "text": [
      "Requirement already satisfied: wheel in c:\\users\\smhrd\\anaconda3\\envs\\deep_gpu2021\\lib\\site-packages (0.36.2)\n"
     ]
    },
    {
     "name": "stderr",
     "output_type": "stream",
     "text": [
      "WARNING: Ignoring invalid distribution -5py (c:\\users\\smhrd\\anaconda3\\envs\\deep_gpu2021\\lib\\site-packages)\n",
      "WARNING: Ignoring invalid distribution -5py (c:\\users\\smhrd\\anaconda3\\envs\\deep_gpu2021\\lib\\site-packages)\n",
      "WARNING: Ignoring invalid distribution -5py (c:\\users\\smhrd\\anaconda3\\envs\\deep_gpu2021\\lib\\site-packages)\n",
      "WARNING: Ignoring invalid distribution -5py (c:\\users\\smhrd\\anaconda3\\envs\\deep_gpu2021\\lib\\site-packages)\n",
      "WARNING: Ignoring invalid distribution -5py (c:\\users\\smhrd\\anaconda3\\envs\\deep_gpu2021\\lib\\site-packages)\n",
      "WARNING: Ignoring invalid distribution -5py (c:\\users\\smhrd\\anaconda3\\envs\\deep_gpu2021\\lib\\site-packages)\n"
     ]
    },
    {
     "name": "stdout",
     "output_type": "stream",
     "text": [
      "Collecting google-api-python-client\n",
      "  Downloading google_api_python_client-2.15.0-py2.py3-none-any.whl (7.2 MB)\n",
      "Collecting uritemplate<4dev,>=3.0.0\n",
      "  Downloading uritemplate-3.0.1-py2.py3-none-any.whl (15 kB)\n",
      "Requirement already satisfied: google-auth<3.0.0dev,>=1.16.0 in c:\\users\\smhrd\\anaconda3\\envs\\deep_gpu2021\\lib\\site-packages (from google-api-python-client) (1.32.0)\n",
      "Collecting google-api-core<3.0.0dev,>=1.21.0\n",
      "  Downloading google_api_core-1.31.1-py2.py3-none-any.whl (93 kB)\n",
      "Collecting google-auth-httplib2>=0.1.0\n",
      "  Downloading google_auth_httplib2-0.1.0-py2.py3-none-any.whl (9.3 kB)\n",
      "Collecting httplib2<1dev,>=0.15.0\n",
      "  Downloading httplib2-0.19.1-py3-none-any.whl (95 kB)\n",
      "Collecting googleapis-common-protos<2.0dev,>=1.6.0\n",
      "  Downloading googleapis_common_protos-1.53.0-py2.py3-none-any.whl (198 kB)\n",
      "Requirement already satisfied: setuptools>=40.3.0 in c:\\users\\smhrd\\anaconda3\\envs\\deep_gpu2021\\lib\\site-packages (from google-api-core<3.0.0dev,>=1.21.0->google-api-python-client) (52.0.0.post20210125)\n",
      "Requirement already satisfied: protobuf>=3.12.0 in c:\\users\\smhrd\\anaconda3\\envs\\deep_gpu2021\\lib\\site-packages (from google-api-core<3.0.0dev,>=1.21.0->google-api-python-client) (3.14.0)\n",
      "Requirement already satisfied: requests<3.0.0dev,>=2.18.0 in c:\\users\\smhrd\\anaconda3\\envs\\deep_gpu2021\\lib\\site-packages (from google-api-core<3.0.0dev,>=1.21.0->google-api-python-client) (2.25.1)\n",
      "Requirement already satisfied: six>=1.13.0 in c:\\users\\smhrd\\anaconda3\\envs\\deep_gpu2021\\lib\\site-packages (from google-api-core<3.0.0dev,>=1.21.0->google-api-python-client) (1.15.0)\n",
      "Requirement already satisfied: packaging>=14.3 in c:\\users\\smhrd\\anaconda3\\envs\\deep_gpu2021\\lib\\site-packages (from google-api-core<3.0.0dev,>=1.21.0->google-api-python-client) (20.9)\n",
      "Requirement already satisfied: pytz in c:\\users\\smhrd\\anaconda3\\envs\\deep_gpu2021\\lib\\site-packages (from google-api-core<3.0.0dev,>=1.21.0->google-api-python-client) (2021.1)\n",
      "Requirement already satisfied: rsa<5,>=3.1.4 in c:\\users\\smhrd\\anaconda3\\envs\\deep_gpu2021\\lib\\site-packages (from google-auth<3.0.0dev,>=1.16.0->google-api-python-client) (4.7.2)\n",
      "Requirement already satisfied: cachetools<5.0,>=2.0.0 in c:\\users\\smhrd\\anaconda3\\envs\\deep_gpu2021\\lib\\site-packages (from google-auth<3.0.0dev,>=1.16.0->google-api-python-client) (4.2.2)\n",
      "Requirement already satisfied: pyasn1-modules>=0.2.1 in c:\\users\\smhrd\\anaconda3\\envs\\deep_gpu2021\\lib\\site-packages (from google-auth<3.0.0dev,>=1.16.0->google-api-python-client) (0.2.8)\n",
      "Requirement already satisfied: pyparsing<3,>=2.4.2 in c:\\users\\smhrd\\anaconda3\\envs\\deep_gpu2021\\lib\\site-packages (from httplib2<1dev,>=0.15.0->google-api-python-client) (2.4.7)\n",
      "Requirement already satisfied: pyasn1<0.5.0,>=0.4.6 in c:\\users\\smhrd\\anaconda3\\envs\\deep_gpu2021\\lib\\site-packages (from pyasn1-modules>=0.2.1->google-auth<3.0.0dev,>=1.16.0->google-api-python-client) (0.4.8)\n",
      "Requirement already satisfied: chardet<5,>=3.0.2 in c:\\users\\smhrd\\anaconda3\\envs\\deep_gpu2021\\lib\\site-packages (from requests<3.0.0dev,>=2.18.0->google-api-core<3.0.0dev,>=1.21.0->google-api-python-client) (3.0.4)\n",
      "Requirement already satisfied: certifi>=2017.4.17 in c:\\users\\smhrd\\anaconda3\\envs\\deep_gpu2021\\lib\\site-packages (from requests<3.0.0dev,>=2.18.0->google-api-core<3.0.0dev,>=1.21.0->google-api-python-client) (2021.5.30)\n",
      "Requirement already satisfied: idna<3,>=2.5 in c:\\users\\smhrd\\anaconda3\\envs\\deep_gpu2021\\lib\\site-packages (from requests<3.0.0dev,>=2.18.0->google-api-core<3.0.0dev,>=1.21.0->google-api-python-client) (2.10)\n",
      "Requirement already satisfied: urllib3<1.27,>=1.21.1 in c:\\users\\smhrd\\anaconda3\\envs\\deep_gpu2021\\lib\\site-packages (from requests<3.0.0dev,>=2.18.0->google-api-core<3.0.0dev,>=1.21.0->google-api-python-client) (1.26.4)\n",
      "Installing collected packages: httplib2, googleapis-common-protos, uritemplate, google-auth-httplib2, google-api-core, google-api-python-client\n",
      "Successfully installed google-api-core-1.31.1 google-api-python-client-2.15.0 google-auth-httplib2-0.1.0 googleapis-common-protos-1.53.0 httplib2-0.19.1 uritemplate-3.0.1\n"
     ]
    },
    {
     "name": "stderr",
     "output_type": "stream",
     "text": [
      "WARNING: Ignoring invalid distribution -5py (c:\\users\\smhrd\\anaconda3\\envs\\deep_gpu2021\\lib\\site-packages)\n",
      "WARNING: Ignoring invalid distribution -5py (c:\\users\\smhrd\\anaconda3\\envs\\deep_gpu2021\\lib\\site-packages)\n",
      "WARNING: Ignoring invalid distribution -5py (c:\\users\\smhrd\\anaconda3\\envs\\deep_gpu2021\\lib\\site-packages)\n",
      "WARNING: Ignoring invalid distribution -5py (c:\\users\\smhrd\\anaconda3\\envs\\deep_gpu2021\\lib\\site-packages)\n",
      "WARNING: Ignoring invalid distribution -5py (c:\\users\\smhrd\\anaconda3\\envs\\deep_gpu2021\\lib\\site-packages)\n",
      "WARNING: Ignoring invalid distribution -5py (c:\\users\\smhrd\\anaconda3\\envs\\deep_gpu2021\\lib\\site-packages)\n",
      "WARNING: Ignoring invalid distribution -5py (c:\\users\\smhrd\\anaconda3\\envs\\deep_gpu2021\\lib\\site-packages)\n",
      "WARNING: Ignoring invalid distribution -5py (c:\\users\\smhrd\\anaconda3\\envs\\deep_gpu2021\\lib\\site-packages)\n",
      "WARNING: Ignoring invalid distribution -5py (c:\\users\\smhrd\\anaconda3\\envs\\deep_gpu2021\\lib\\site-packages)\n",
      "WARNING: Ignoring invalid distribution -5py (c:\\users\\smhrd\\anaconda3\\envs\\deep_gpu2021\\lib\\site-packages)\n",
      "WARNING: Ignoring invalid distribution -5py (c:\\users\\smhrd\\anaconda3\\envs\\deep_gpu2021\\lib\\site-packages)\n",
      "WARNING: Ignoring invalid distribution -5py (c:\\users\\smhrd\\anaconda3\\envs\\deep_gpu2021\\lib\\site-packages)\n"
     ]
    },
    {
     "name": "stdout",
     "output_type": "stream",
     "text": [
      "Collecting monotonic\n",
      "  Downloading monotonic-1.6-py2.py3-none-any.whl (8.2 kB)\n",
      "Installing collected packages: monotonic\n",
      "Successfully installed monotonic-1.6\n"
     ]
    },
    {
     "name": "stderr",
     "output_type": "stream",
     "text": [
      "WARNING: Ignoring invalid distribution -5py (c:\\users\\smhrd\\anaconda3\\envs\\deep_gpu2021\\lib\\site-packages)\n",
      "WARNING: Ignoring invalid distribution -5py (c:\\users\\smhrd\\anaconda3\\envs\\deep_gpu2021\\lib\\site-packages)\n",
      "WARNING: Ignoring invalid distribution -5py (c:\\users\\smhrd\\anaconda3\\envs\\deep_gpu2021\\lib\\site-packages)\n",
      "WARNING: Ignoring invalid distribution -5py (c:\\users\\smhrd\\anaconda3\\envs\\deep_gpu2021\\lib\\site-packages)\n",
      "WARNING: Ignoring invalid distribution -5py (c:\\users\\smhrd\\anaconda3\\envs\\deep_gpu2021\\lib\\site-packages)\n",
      "WARNING: Ignoring invalid distribution -5py (c:\\users\\smhrd\\anaconda3\\envs\\deep_gpu2021\\lib\\site-packages)\n",
      "WARNING: Ignoring invalid distribution -5py (c:\\users\\smhrd\\anaconda3\\envs\\deep_gpu2021\\lib\\site-packages)\n"
     ]
    }
   ],
   "source": [
    "! pip install SpeechRecognition\n",
    "! pip install pyaudio\n",
    "! pip install --upgrade pyaudio\n",
    "! pip install wheel\n",
    "! pip install google-api-python-client\n",
    "! pip install monotonic"
   ]
  },
  {
   "cell_type": "code",
   "execution_count": 2,
   "id": "0fdd19fb",
   "metadata": {},
   "outputs": [
    {
     "name": "stdout",
     "output_type": "stream",
     "text": [
      "Collecting pydub\n",
      "  Downloading pydub-0.25.1-py2.py3-none-any.whl (32 kB)\n",
      "Installing collected packages: pydub\n",
      "Successfully installed pydub-0.25.1\n"
     ]
    },
    {
     "name": "stderr",
     "output_type": "stream",
     "text": [
      "WARNING: Ignoring invalid distribution -5py (c:\\users\\smhrd\\anaconda3\\envs\\deep_gpu2021\\lib\\site-packages)\n",
      "WARNING: Ignoring invalid distribution -5py (c:\\users\\smhrd\\anaconda3\\envs\\deep_gpu2021\\lib\\site-packages)\n",
      "WARNING: Ignoring invalid distribution -5py (c:\\users\\smhrd\\anaconda3\\envs\\deep_gpu2021\\lib\\site-packages)\n",
      "WARNING: Ignoring invalid distribution -5py (c:\\users\\smhrd\\anaconda3\\envs\\deep_gpu2021\\lib\\site-packages)\n",
      "WARNING: Ignoring invalid distribution -5py (c:\\users\\smhrd\\anaconda3\\envs\\deep_gpu2021\\lib\\site-packages)\n",
      "WARNING: Ignoring invalid distribution -5py (c:\\users\\smhrd\\anaconda3\\envs\\deep_gpu2021\\lib\\site-packages)\n",
      "WARNING: Ignoring invalid distribution -5py (c:\\users\\smhrd\\anaconda3\\envs\\deep_gpu2021\\lib\\site-packages)\n"
     ]
    }
   ],
   "source": [
    "!pip install pydub"
   ]
  },
  {
   "cell_type": "code",
   "execution_count": 3,
   "id": "c23e00ee",
   "metadata": {},
   "outputs": [],
   "source": [
    "import IPython\n",
    "import speech_recognition as sr\n",
    "from pydub import AudioSegment\n",
    "import subprocess\n",
    "import os\n",
    "import csv\n",
    "import numpy as np\n",
    "import pandas as pd\n",
    "from tqdm import tqdm"
   ]
  },
  {
   "cell_type": "markdown",
   "id": "dcd29980",
   "metadata": {},
   "source": [
    "### "
   ]
  },
  {
   "cell_type": "markdown",
   "id": "5ebdcbf7",
   "metadata": {},
   "source": [
    "# 텍스트 추출 (STT)"
   ]
  },
  {
   "cell_type": "markdown",
   "id": "7ea4e1f3",
   "metadata": {},
   "source": [
    "#### 데이터 경로만 바꿔 주시면 됩니다"
   ]
  },
  {
   "cell_type": "code",
   "execution_count": 8,
   "id": "8bfd9fbb",
   "metadata": {},
   "outputs": [],
   "source": [
    "recognizer = sr.Recognizer()\n",
    "recognizer.energy_threshold = 300\n",
    "\n",
    "youtube_audio = sr.AudioFile(\"data/000129.wav\")\n",
    "\n",
    "import pydub\n",
    "audio_seg= AudioSegment.from_wav('./data/000129.wav')\n",
    "total_in_ms= len(audio_seg)\n",
    "\n",
    "Text_list = []\n",
    "with youtube_audio as source:\n",
    "    s_audio = recognizer.record(source)\n",
    "    Text_list.append(recognizer.recognize_google(audio_data=s_audio, language=\"ko-KR\",show_all=True))\n",
    "# for i in tqdm(range (1,int(total_in_ms/1000/30)+1)) :\n",
    "#     with youtube_audio as source:\n",
    "#         s_audio = recognizer.record(source,offset = i*30,duration=30)\n",
    "#     Text_list.append(recognizer.recognize_google(audio_data=s_audio, language=\"ko-KR\",show_all=True))"
   ]
  },
  {
   "cell_type": "code",
   "execution_count": 9,
   "id": "a44f95a2",
   "metadata": {},
   "outputs": [
    {
     "data": {
      "text/plain": [
       "[{'alternative': [{'transcript': '네 이렇게 해서 여행에 지금 과정이 나와 있습니다 저 여정이 나타내는 것으로 보았을 때 기행문임을 알 수 있겠죠 자기가 문제 풀어 볼게요',\n",
       "    'confidence': 0.77757269},\n",
       "   {'transcript': '네 이렇게 해서 여행에 지금 과정이 나와 있습니다 저 여정이 나타내는 것으로 보았을 때 기행문임을 알 수 있겠죠 자기가 문제 풀어볼게요'},\n",
       "   {'transcript': '네 이렇게 해서 여행의 지금 과정이 나왔습니다 여정이 나타내는 것으로 보았을 때 기행문임을 알 수 있겠죠 그럼 문제 풀어 볼게요'},\n",
       "   {'transcript': '네 이렇게 해서 여행의 지금 과정이 나와 있습니다 저 여정이 나타내는 것으로 보았을 때 기행문임을 알 수 있겠죠 그럼 문제 풀어 볼게요'},\n",
       "   {'transcript': '네 이렇게 해서 여행의 지금 과정이 나왔습니다 여정이 나타내는 것으로 보았을 때 기행문임을 알 수 있겠죠 자 그럼 문제 풀어 볼게요'}],\n",
       "  'final': True}]"
      ]
     },
     "execution_count": 9,
     "metadata": {},
     "output_type": "execute_result"
    }
   ],
   "source": [
    "Text_list"
   ]
  },
  {
   "cell_type": "code",
   "execution_count": 6,
   "id": "aca7cb81",
   "metadata": {},
   "outputs": [
    {
     "ename": "IndexError",
     "evalue": "list index out of range",
     "output_type": "error",
     "traceback": [
      "\u001b[1;31m---------------------------------------------------------------------------\u001b[0m",
      "\u001b[1;31mIndexError\u001b[0m                                Traceback (most recent call last)",
      "\u001b[1;32m<ipython-input-6-23b54900965d>\u001b[0m in \u001b[0;36m<module>\u001b[1;34m\u001b[0m\n\u001b[1;32m----> 1\u001b[1;33m \u001b[0mText_list\u001b[0m\u001b[1;33m[\u001b[0m\u001b[1;36m3\u001b[0m\u001b[1;33m]\u001b[0m\u001b[1;33m[\u001b[0m\u001b[1;34m'alternative'\u001b[0m\u001b[1;33m]\u001b[0m\u001b[1;33m[\u001b[0m\u001b[1;36m0\u001b[0m\u001b[1;33m]\u001b[0m\u001b[1;33m[\u001b[0m\u001b[1;34m'transcript'\u001b[0m\u001b[1;33m]\u001b[0m\u001b[1;33m\u001b[0m\u001b[1;33m\u001b[0m\u001b[0m\n\u001b[0m",
      "\u001b[1;31mIndexError\u001b[0m: list index out of range"
     ]
    }
   ],
   "source": [
    "Text_list[3]['alternative'][0]['transcript']"
   ]
  },
  {
   "cell_type": "code",
   "execution_count": 25,
   "id": "6e2c01ef",
   "metadata": {},
   "outputs": [],
   "source": [
    "last_list = []\n",
    "\n",
    "for i in Text_list :\n",
    "    last_list.append(i['alternative'][0]['transcript'])"
   ]
  },
  {
   "cell_type": "code",
   "execution_count": 26,
   "id": "aad99caf",
   "metadata": {},
   "outputs": [],
   "source": [
    "Text_Data = last_list"
   ]
  },
  {
   "cell_type": "code",
   "execution_count": 27,
   "id": "5dbb462c",
   "metadata": {
    "scrolled": true
   },
   "outputs": [
    {
     "data": {
      "text/plain": [
       "['이것은 불가능하다는 입장이다 양자설부터 시작된 양자역학은 아인슈타인 도어 하이젠베르크 슈레딩거 논쟁과 이어졌다 천재 물리학자 리처드 파인만이 양자역학을 완벽히 아는 사람은 아무도 없다고 할 정도로 쉽게 접근하기 어려운 하지만 우리 생활',\n",
       " '양자역학이 영향을 미치고 있다 핵심적인 질문은 바로 본다는 것이 뭘까 결론은 간다네요 보는 행위가 대상이 영향을 준다는 건데요 오해하시면 안 되는 것이 제가 아침에 지하철 타고 가는데 지하철 타고서 있다 그러면은 아빠 안전 사람 있겠죠 안전 사람에게 노래 보면 그냥 다 될 겁니다 한 10분 정도 들어 보면은 몰라요',\n",
       " '이런 얘기 하는 건 아니에요 이런 일이 사는게 아니라 원리적으로 여러분이 상대방을 물리량을 측정을 할 때 거기에 영향을 주지 않고 측정할 수 있는 방법은 절대로 존재하지 않는다 합니다 설명하고 양자역학에서 아름다움을 과학자 김창옥 교수 그가 말하는 양자역학과 자연의 예측가능성 주위에',\n",
       " '들어보시면 아마 지금 방에서 TV를 보고 있을 테니까요 옆에 소파도 보이고 텔레비전도 보이고 손도 보이고요 위에는 전등도 보일 겁니다이 모든 것들은 다 원자로 되어 있습니다 놀라운 일이네요이 모든 것들은 원자로 되어 있습니다 따라서 원자를 아니면 모든 것을 알 수 있다는 뜻이다 양자역학은 원자의 운동을 기술하는 학문입니다 굉장히',\n",
       " '모든 것을 설명하는 학문입니다 우선 1 잘한 것이 왜 우리가 그걸 못 느끼냐 원자로서 있다고는 하지만 내 눈에 보이는 거는 손이고 내려보이는 계속 탑니다 왜 이렇게 우리가 원자를 느낄 수 없는 하면은 원자는 너무나 자기 때문에 그렇습니다 지난회 김범주 교수님께서 원자를 이루는 기본 물질인 전자의 경우는 크기 자체가 없다고 하셨는데요 원자는 크기가 있다고 하셨죠 원자의 크기를',\n",
       " '저희가 사용하는 건조한 수학적표현으로 바람에는 10의 마이너스 3승 m 아우디 많으실겁니다 그렇죠 이거는이라고 영을 10개를 쓴 다음에 짝다리 짚고 분의 1 m 이렇게 하실 거예요 100억분의 미터입니다 어떤 뜻일까요 자 여기 동전이 하나 있다고 생각해 보세요 동전도 원자로 되어 있습니다',\n",
       " '길을 비교해보면 만약에 원자를 여러분이 동전만 하게 뻥 튀겨 가지고 확대했다고 살펴보세요 그림 같은 스케일로 동전도 커질 텐데 그때 동전의 크기는 지구만 하게 됩니다 원자가 얼마나 작은 건지를 상상을 못하시겠지만 짐작을 하실 수 있을 겁니다 그것이 우리의 대상 이고요 따라서이 원자의 본질을 알게 까지에는 굉장히 어려움이 있었습니다 너무 자기 때문에 볼 수가 없는 거지요',\n",
       " '어떻게 보는지 생각하다 보면 오늘 시간을 다칠 거기 때문에 물리학자들이 걸 볼 수 있는 아주 기가 막힌 방법을 찾다가 말씀드릴게요 그래서 1차에 대한 여러가지 정보를 어떻게 됐는데 그 다음에 할 일은 원자를 일을 하는 거겠죠 근데 원자를이 하려다 보니 아주 괴상한 결론에 도달하게 됩니다 제가 중간과정을 말씀드릴 순 없을 것 같고요 그래서 완전 어떻게 생겼냐 하면 물론 안 보이니까 크게 확대해서 봐야 돼요 크게 확대를 아까 같이',\n",
       " '동전을 지구 정도로 확대하는 식으로 1절 확대해보면 이제원 작아보입니다 원자는 가운데 원자핵이라는 부분이 있고 원자핵은 양전하를 뛰고 있습니다 그 주위에는 전자라고 부르는 크기를 그렇지 없는 그런 작은 입자들이 돌고 있고요 된다는 말이 이상한 편히 수 있습니다 그것은 음전기를 뛰고 있습니다 여러분이 아시겠지만 양전하와 음전하는 서로 사이에 당기는',\n",
       " '작용하고 있습니다 그래서 양전하 주위에 전자가 양전하가 전자를 당기면서 돈은 이런 식의 모형 일일텐데 이거는 우리가 살고 있는이 지구 태양계의 모양과 굉장히 의사 합니다 따라서 원자핵을 여기 놓고 전자가 이원자 일주일을 어떻게 보는지 만 설명할 수 있다면 원자를 이해할 수 있다는 거죠 그러면 느끼기에는 케플러의법칙 같은게 있지 않을까 이렇게 생각할 수 있을 것 같아요',\n",
       " '하지만 놀랍게도이 양성자 또는 원자핵 주위를 도는 전자회의 원자 시스템은 우리가 알고 있던 없던 고전역학으로 설명할 수 없는 식으로 작동한다는 걸 알게 됩니다 그래서 우선 첫 번째 예를 들어 볼게요 전자는 음전하를 뛰고 있는게 전자가 원자핵 주위를 돕니다 이럴 때 제가 지금 설명을 다시 없는 시간이 관계로',\n",
       " '법칙에 따라서 일반적인 상황이라면 이전 장은 전자기파 너는 왜 제가 PC라고 부르는 것을 외부로 방출하게 합니다 사실 이것이 여러분이 핸드폰을 작동시키는 원리예요 핸드폰을 가지고 여러분이 그 어떤 신호를 보내거나 음성을 보낼 때 핸드폰 안에서는 전자가 가속운동을 합니다 가족이라는 영어의 스카시 절제는 가속운동을 합니다 진동운동을 하게 되죠 그럴 때 전자기파 전파를 발생시키기 때문에 여러분',\n",
       " '분위기 작동을 합니다 지금 원자핵 주위를 도는 전자는 핸드폰에서 움직이는 진동 운동하는 전자파 똑같은 상태이기 때문에 외부로 전자기파 전파를 발생시켜야 되고요 그러면 물리법칙에 따라서 에너지를 일은 전자가 점점 점점 하게 가까워져서 충돌을 하게 됩니다 따라서 기존의 물 이야기 맞다면 원자는 빠른 시간 내에 소멸되어야 되고요 여러분 몸은 다 언제로 돼 있으니까 여러분의 집값',\n",
       " '바로 볼 수 있으면 해결하기 위해서 새로운 법칙이 필요할 텐데이 어려움을 극복하는 사람이 첫 번째 중요한 물 약자인데요 리스 보라는 물 약점이다 리스본은 아마 물량 역사상 가장 어처구니 없는 그런 이런 얘기 됩니다 그 사람의 이런 일하는 것이 어떻게 되어 있냐면 원자의 경우 원자핵 주위를 도는 전자는 우리가 알고 있는',\n",
       " '법칙으로 세 명 되지도 않기 때문에이 녀석은 전자기파를 내지 않는다 사람들이 왜 냈지 아니 걔는 그러면 몰라 이런 일을 만듭니다 이거에 대해서 많은 평들이 있었는데 뭐 없다 어처구니없다 이런 표현들이 있더라고요 그다음에 보험을 한 발짝 더 나갑니다 그러면은 이제는 듣도 보도 못한 상태가 만들어진 건데 전자기파를 발생하지 않는 전자',\n",
       " '자 이렇게 처음 보는 상태가 만들어지거나 처음 보는 일이 벌어지면 물약 자들도 상당히 이제 머리 아프기 때문에 이럴 때는 보통 저희가 그냥 이름을 하나 주고 해야 합니다 사람들이 이름을 급해서 그러는데 하는 거죠 이런 교회도 이런 상태에다가 보어는 정상상태라는 이름을 중이다 이유는 모르지만 정상상태 있는 전차는 빛을 방출 하지 않는다 끝 여기까지도 마음이 아프지만 이제 더',\n",
       " '아픈데 두 번째 원리가 나오는데요 두 번째 올리는 실제 원자는 기사입니다 여러분이 지금 저를 보는 것도 제 몸을 이루는 원자들이내는 빛을 보는 거예요 그러면 저는 어떻게 빗을 내릴까 그럼 보호가 설명을 해야 되겠죠 보호의 설명하였습니다 전자가 양이 원자핵 주의 일을 도울 수 있는데 놀랍게도 볼 수 있는 괴도는 쉽게 생각해서 1개도 같은 거 들겠죠 여러분',\n",
       " '괴도는 어떤 특정한 반지름을 갖는 원 괴도는 가능하지만 예를 들어 1미터 떨어진 곳에서 돈은 전자는 있을 수 있고 2미터 떨어진 곳에 전자가 될 수 있습니다 하지만 1.5 m에는 돌 수가 없어요 즉 정상 상태는 띄엄띄엄 한 위치에만 존재한다는 겁니다 이렇게 위치가 띄엄띄엄 할 때 두부 위치는 서로 다른',\n",
       " '없습니다 물리적으로 그렇다면 당연히 한 쪽에 있던 전자가 다른 위치로 옮겨 갔을때 에너지 차이가 생기니까 그 에너지보존법칙이 맞다면 에너지는 어둠 걸어가거나 들어와야 됩니다 보는 얘기하죠 그때 들어오나 나가는 PC 원자흡수 방출하는 것이다 말도 안 되는 이런 같지만 이것으로 당시까지 알려진 원작 아내는 모든 빛의 성질 어려운말로 스펙트럼이다 불러요 스펙트럼',\n",
       " '생각하게 됩니다 이렇게 말도 안되는 이론이 시험을 설명하니까 사람들이 좀 박 않았겠죠 그렇죠 이걸 자기가 보어의 원자모형이라고 부를게 되고요 이와 같이 정상상태가 띄엄띄엄 하게 되어 있는 것을 교회도 전자궤도의 양자화라고 부릅니다 자 여기서 양자라는 이름이 나옵니다 그렇죠 이렇게 띄엄띄엄 하게 되어 있는 것을 저희가 양자라고 그러는 거죠 자 이렇게 해도 괜찮을까요',\n",
       " '걔도 물량이 괜찮을까요 선물 잘 설명 한다고 했지만 누구도 전자가 왜 그렇게 행동하는지를 모릅니다 더군다나 이런 질문을 하면 전자가 2미터 반지름으로 돌다가 2미터로 이동을 했어요 그러려면은 빗을 외부에서 받아야 됩니다 자 그러면은 2미터 2미터로 갈 때 전자는 어떻게 갔을까 중간에 어딘가를 이렇게 지나가겠죠 제가 여기 있다가 이쪽으로 옮겨',\n",
       " '다른 얘기는 들어 보니 중간과정을 보지 못했다 할지라도 제가이 사이를 지났다는 거를 여러분이 출근하실 수 있고요 중간 어느 시점에 인간은 제가 중간에 있었을겁니다 하지만 보험을 이렇게 답을 하지요 1.5 m 1.32 중간 지점 어디에도 있을 수 없어요 정상상태가 아니니까 따라서 전자는 반지름 1미터 개조해서 사라져서 2미터 개조에 나타났다',\n",
       " '라고 얘기하고 지금 표정이 안 좋으신데요 이럴 때 문 약자들 어떻게 한다고요 이름을 있습니다 양자도약이라는 이름을 주게됩니다 다음과 같은 모양으로 설명했다 한가운데 원자핵이 이거 전자는 특정한 반지름을 갖는게 두 개만 존재한다 다른 교회로 이동할 수 있는데 제대로 이동할 때는 강조한다',\n",
       " '바깥 교대로 이동할 때는 흡수한다 이때 괴도 이동은 한의서 사라져서 다른 교회로에 나타난다 두 개를 미끄러지듯 이동하는 것이 아니라 사라졌다가 나타난다 이러한 현상을 양자도약이라 한다 그래서 보호가 만든 원자를 설명하는 이론은 정상상태와 양자도약 일하는 두 개의 중요한 개념으로',\n",
       " '하지만 그 이유를 모릅니다 이것이 1910년대 초반에 상황이었습니다 그렇다면 누군가 나타나서이 상황을 빨리 설명을 하거나 최소한 이것을 휴식으로 뜨거운 물 약자의 어 너는 수학 이니까요 후식으로 쓰거나 어떤 시각적인 국민 카드 만들어서 체계를 좀 줘야 되겠죠 그런 사람이 나타나는데요 그 사람은 바로 오후에 이번에 나온지 12년이 지난 후 하이젠',\n",
       " '가는 사람이 그 일을 하게 됩니다 하이젠베르크가 만들어낸 양자역학을 저희는 오늘날 행렬역학이라고 부르면 돼 사실 얘기가 더 이어지기 때문에 잠깐 8 1 자네는 하이젠베르크라는 사람은 그 우리 말로 하면은 엄청납니다 못 하는게 없는 공무원 공부 음악이면 음악 운동이면 운동해서 하이젠베르크의 고향인 유엔에서는이 친구를 피아니스트로 할 정도로 음악을 합니다 그러니까 절대',\n",
       " '친구예요 그런 친구한테 양자역학이 딱 걸린 거야 그래서 양자역학의 수학적표현을 만들어내게 되고요 물론 도와 굉장히 긴밀한 관계 속에서 만들기 되는데 오늘 상당히 다른 캐릭터인데요 보는 그 이야기를 하면은 다른 사람들이 되게 이해하기 힘든 인식으로 이야기한다 그래요 되게 철학적이기까지 보셨지만 그냥 이거 다 저거 다 이유는 몰라 이런 스타일 있잖아요 그래서 누가 하는지 모르는데 엄청난 에너지가 열정으로',\n",
       " '다 할 때까지 한답니다 그래서 시키는 사람이죠 이캐릭터가게 중요한 거는 이제 곧 제가 말씀드릴 양자역학의 기본 개념들이 너무나 비직관적이어서 사람들이 반대를 할 때 보호가 아니었으면 선택할 수 없었을 겁니다 저희 준비되셨죠 자기 양자역학의 핵심원리를 가겠습니다 크는 아까 보호에 이론을 생각해 봤어요 사람들이 그 이유는 싫어하는데 싫어하지만 너무나 잘 맞아요 누군가',\n",
       " '첫 번째 질문은 몇 시로 할까 사람들이 왜 싫어하냐 하면은 1 m 괴도 반지름의 교회에 있던 전자가 사라져서 2미터의 나타난다는 거는 정말 말이 안 되잖아요 왜 중간 과정에 이렇게 전자가 이동하는 괴도를 설명할 수 없는 걸까 여기서 하이젠베르크가 인류 역사상 가장 놀라운 도약을 하게 됩니다 1925년 7월',\n",
       " '양자역학을 설명하는 너 이런 문의입니다 그때 그 친구 나이가 24살인데 없고요 24살에 나 이거 단독 저자로 너무 늦습니다 그렇게 쓰지 않았으면 나오지 않았으면 문일 거예요 어떤 기성 과학자도 2일 오후 24시 없었을겁니다 처음에는 뭐라고 물어 보면은 왜 우리는 전자가 1미터 개조해서 2미터 계좌로 갈 때 괴도를 우리가 알 수 있을 거라고 생각을 할까',\n",
       " '전자를 본 적이 없어요 근데 우리는 왜 보지 못한 전자에 대해서 우리가 보아서 알고 있는 우리 이것이 세계의 운동이 똑같이 적용이 될 거라고 가정 하는 걸까 이상 하셔 따라서 쩜쩜쩜 양자역학에 대해서 우리가 직접 측정으로 알아낼 수 있는 것만 가지고 이론을 구성해 보자 이게 돼야 됩니다 저 혼자 있습니다',\n",
       " '문제가 안 보여 줘도 안 보여요 여러분이 보험은 언제 하는 저같이 엄청나게 많은 수의 원자가 모임 그런 것들은 보이죠 먼저를 보고 있는 거예요 엄밀하게 여러분이 보는 건 원작을 자체니까 여러분이 보는 것은 원자가 내놓는 핏입니다 그렇죠 원자가 빛을내는 이유는 보호가 얘기한 정상상태를 전자가 넘나들기 때문에 양자 대학을 통해서 거기 때문에 보는 거죠',\n",
       " '위에 얻을 수 있는게 많지 않습니다 됐죠 그런 생각이 일해요 따라서 전자에 대해서 우리가 위치가 어딘지 속도가 얼마인지를 더 이상 묻지 말라 해 본 적도 없고 본 적도 없는데 왜 물어보는 거야 오늘 지원자는 원자가 내면 되는 이유는 정상상태와 정상상태를 사이를 넘나드는 관계 일본 상태 에너지 이번 상태 에너지',\n",
       " '1번과 2번을 넘나드는 어떤 비율 확률 1번과 3번 상태 에너지 1번과 3번 4일 넘나드는 이런 식으로 나오는 숫자들 이것들이 집합만 위원장 하는 겁니다 정말 귀하게 이를데없는 피타고라스가 얘기했듯이 우주는 만물은 수달아 그랬는데요 이런 숫자에 집합이 1절 하는 거예요 그래서 이렇게 숫자를 배열 하게 되면 여러분들이 바둑판을 보시면 따뜻하네 눈금이 이렇게 보이고 네모칸이 있잖아요 근데 모카',\n",
       " '차를 나오신 됩니다 그러면 그 십자들로 돼 있는 바둑판에 숫자 집합이 바로 행렬이라고 부르는 건데 수학에서는 이것이 원자 다 남겨 하이젠베르크의 답이죠 하이젠베르크는 당시 전자 가계도를 돌고 있다는 개념을 과감히 버린다 오로지 측정가능한 물량만 가지고 양자역학을 구성해야 한다고 생각했다 원자로부터 얻을 수 있는 정보는 원자흡수 방출하는 기분이다',\n",
       " '에너지 그리고 전자가 흡수 방출하는 빛의 진동수로 구성된 수들의 열 바로 하이젠베르크의 행렬역학이다 행렬이란 과열로 이루어진 수들의 배열이다 하이젠베르크는 행렬역학을 통해 보어원자모형의 수학적 기반을 제공했다']"
      ]
     },
     "execution_count": 27,
     "metadata": {},
     "output_type": "execute_result"
    }
   ],
   "source": [
    "last_list"
   ]
  },
  {
   "cell_type": "markdown",
   "id": "16d70fa7",
   "metadata": {},
   "source": [
    "### "
   ]
  },
  {
   "cell_type": "code",
   "execution_count": 94,
   "id": "f982cda8",
   "metadata": {
    "collapsed": true
   },
   "outputs": [
    {
     "ename": "AttributeError",
     "evalue": "'AudioFile' object has no attribute 'info'",
     "output_type": "error",
     "traceback": [
      "\u001b[1;31m---------------------------------------------------------------------------\u001b[0m",
      "\u001b[1;31mAttributeError\u001b[0m                            Traceback (most recent call last)",
      "\u001b[1;32m<ipython-input-94-52a86a88b599>\u001b[0m in \u001b[0;36m<module>\u001b[1;34m\u001b[0m\n\u001b[0;32m      1\u001b[0m \u001b[0mstudy_audio\u001b[0m \u001b[1;33m=\u001b[0m \u001b[0msr\u001b[0m\u001b[1;33m.\u001b[0m\u001b[0mAudioFile\u001b[0m\u001b[1;33m(\u001b[0m\u001b[1;34m\"data/talk.wav\"\u001b[0m\u001b[1;33m)\u001b[0m\u001b[1;33m\u001b[0m\u001b[1;33m\u001b[0m\u001b[0m\n\u001b[1;32m----> 2\u001b[1;33m \u001b[0mstudy_audio\u001b[0m\u001b[1;33m.\u001b[0m\u001b[0minfo\u001b[0m\u001b[1;33m.\u001b[0m\u001b[0mlength\u001b[0m\u001b[1;33m\u001b[0m\u001b[1;33m\u001b[0m\u001b[0m\n\u001b[0m",
      "\u001b[1;31mAttributeError\u001b[0m: 'AudioFile' object has no attribute 'info'"
     ]
    }
   ],
   "source": [
    "study_audio = sr.AudioFile(\"data/talk.wav\")\n",
    "study_audio.info.length"
   ]
  },
  {
   "cell_type": "code",
   "execution_count": 99,
   "id": "a28aff37",
   "metadata": {
    "scrolled": true
   },
   "outputs": [
    {
     "data": {
      "text/plain": [
       "680.647"
      ]
     },
     "execution_count": 99,
     "metadata": {},
     "output_type": "execute_result"
    }
   ],
   "source": [
    "import pydub\n",
    "audio_seg= AudioSegment.from_wav('./data/talk.wav')\n",
    "total_in_ms= len(audio_seg)\n",
    "total_in_ms/1000"
   ]
  },
  {
   "cell_type": "markdown",
   "id": "0568e7f4",
   "metadata": {},
   "source": [
    "## 문장 분리"
   ]
  },
  {
   "cell_type": "code",
   "execution_count": 28,
   "id": "469c370e",
   "metadata": {},
   "outputs": [
    {
     "name": "stdout",
     "output_type": "stream",
     "text": [
      "Collecting kss\n",
      "  Downloading kss-2.5.1-py3-none-any.whl (65 kB)\n",
      "Installing collected packages: kss\n",
      "Successfully installed kss-2.5.1\n"
     ]
    }
   ],
   "source": [
    "!pip install kss"
   ]
  },
  {
   "cell_type": "code",
   "execution_count": 30,
   "id": "023d4546",
   "metadata": {},
   "outputs": [],
   "source": [
    "import kss"
   ]
  },
  {
   "cell_type": "code",
   "execution_count": 29,
   "id": "83d533ab",
   "metadata": {},
   "outputs": [
    {
     "ename": "AttributeError",
     "evalue": "'list' object has no attribute 'replace'",
     "output_type": "error",
     "traceback": [
      "\u001b[1;31m---------------------------------------------------------------------------\u001b[0m",
      "\u001b[1;31mAttributeError\u001b[0m                            Traceback (most recent call last)",
      "\u001b[1;32m<ipython-input-29-dd502290a197>\u001b[0m in \u001b[0;36m<module>\u001b[1;34m\u001b[0m\n\u001b[0;32m      1\u001b[0m \u001b[1;32mimport\u001b[0m \u001b[0mkss\u001b[0m\u001b[1;33m\u001b[0m\u001b[1;33m\u001b[0m\u001b[0m\n\u001b[0;32m      2\u001b[0m \u001b[1;33m\u001b[0m\u001b[0m\n\u001b[1;32m----> 3\u001b[1;33m \u001b[1;32mfor\u001b[0m \u001b[0msent\u001b[0m \u001b[1;32min\u001b[0m \u001b[0mkss\u001b[0m\u001b[1;33m.\u001b[0m\u001b[0msplit_sentences\u001b[0m\u001b[1;33m(\u001b[0m\u001b[0mlast_list\u001b[0m\u001b[1;33m)\u001b[0m\u001b[1;33m:\u001b[0m\u001b[1;33m\u001b[0m\u001b[1;33m\u001b[0m\u001b[0m\n\u001b[0m\u001b[0;32m      4\u001b[0m     \u001b[0mprint\u001b[0m\u001b[1;33m(\u001b[0m\u001b[0msent\u001b[0m\u001b[1;33m)\u001b[0m\u001b[1;33m\u001b[0m\u001b[1;33m\u001b[0m\u001b[0m\n",
      "\u001b[1;32m~\\anaconda3\\lib\\site-packages\\kss\\kss.py\u001b[0m in \u001b[0;36msplit_sentences\u001b[1;34m(text, safe, max_recover_step, max_recover_length, recover_step)\u001b[0m\n\u001b[0;32m    141\u001b[0m         \u001b[0mmax_recover_step\u001b[0m \u001b[1;33m=\u001b[0m \u001b[1;36m0\u001b[0m\u001b[1;33m\u001b[0m\u001b[1;33m\u001b[0m\u001b[0m\n\u001b[0;32m    142\u001b[0m \u001b[1;33m\u001b[0m\u001b[0m\n\u001b[1;32m--> 143\u001b[1;33m     \u001b[0mtext\u001b[0m \u001b[1;33m=\u001b[0m \u001b[0mtext\u001b[0m\u001b[1;33m.\u001b[0m\u001b[0mreplace\u001b[0m\u001b[1;33m(\u001b[0m\u001b[1;34m\"\\u200b\"\u001b[0m\u001b[1;33m,\u001b[0m \u001b[1;34m\"\"\u001b[0m\u001b[1;33m)\u001b[0m\u001b[1;33m\u001b[0m\u001b[1;33m\u001b[0m\u001b[0m\n\u001b[0m\u001b[0;32m    144\u001b[0m     \u001b[0mbackup_manager\u001b[0m \u001b[1;33m=\u001b[0m \u001b[0mBackupManager\u001b[0m\u001b[1;33m(\u001b[0m\u001b[1;33m)\u001b[0m\u001b[1;33m\u001b[0m\u001b[1;33m\u001b[0m\u001b[0m\n\u001b[0;32m    145\u001b[0m \u001b[1;33m\u001b[0m\u001b[0m\n",
      "\u001b[1;31mAttributeError\u001b[0m: 'list' object has no attribute 'replace'"
     ]
    }
   ],
   "source": [
    "for sent in kss.split_sentences(last_list):\n",
    "    print(sent)"
   ]
  },
  {
   "cell_type": "code",
   "execution_count": 32,
   "id": "83a7a38c",
   "metadata": {
    "scrolled": true
   },
   "outputs": [
    {
     "name": "stdout",
     "output_type": "stream",
     "text": [
      "이것은 불가능하다는 입장이다 양자설부터 시작된 양자역학은 아인슈타인 도어 하이젠베르크 슈레딩거 논쟁과 이어졌다 천재 물리학자 리처드 파인만이 양자역학을 완벽히 아는 사람은 아무도 없다고 할 정도로 쉽게 접근하기 어려운 하지만 우리 생활\n",
      "양자역학이 영향을 미치고 있다 핵심적인 질문은 바로 본다는 것이 뭘까 결론은 간다네요 보는 행위가 대상이 영향을 준다는 건데요 오해하시면 안 되는 것이 제가 아침에 지하철 타고 가는데 지하철 타고서 있다 그러면은 아빠 안전 사람 있겠죠 안전 사람에게 노래 보면 그냥 다 될 겁니다 한 10분 정도 들어 보면은 몰라요\n",
      "이런 얘기 하는 건 아니에요 이런 일이 사는게 아니라 원리적으로 여러분이 상대방을 물리량을 측정을 할 때 거기에 영향을 주지 않고 측정할 수 있는 방법은 절대로 존재하지 않는다 합니다 설명하고 양자역학에서 아름다움을 과학자 김창옥 교수 그가 말하는 양자역학과 자연의 예측가능성 주위에\n",
      "들어보시면 아마 지금 방에서 TV를 보고 있을 테니까요 옆에 소파도 보이고 텔레비전도 보이고 손도 보이고요 위에는 전등도 보일 겁니다이 모든 것들은 다 원자로 되어 있습니다 놀라운 일이네요이 모든 것들은 원자로 되어 있습니다 따라서 원자를 아니면 모든 것을 알 수 있다는 뜻이다 양자역학은 원자의 운동을 기술하는 학문입니다 굉장히\n",
      "모든 것을 설명하는 학문입니다 우선 1 잘한 것이 왜 우리가 그걸 못 느끼냐 원자로서 있다고는 하지만 내 눈에 보이는 거는 손이고 내려보이는 계속 탑니다 왜 이렇게 우리가 원자를 느낄 수 없는 하면은 원자는 너무나 자기 때문에 그렇습니다 지난회 김범주 교수님께서 원자를 이루는 기본 물질인 전자의 경우는 크기 자체가 없다고 하셨는데요 원자는 크기가 있다고 하셨죠 원자의 크기를\n",
      "저희가 사용하는 건조한 수학적표현으로 바람에는 10의 마이너스 3승 m 아우디 많으실겁니다 그렇죠 이거는이라고 영을 10개를 쓴 다음에 짝다리 짚고 분의 1 m 이렇게 하실 거예요 100억분의 미터입니다 어떤 뜻일까요 자 여기 동전이 하나 있다고 생각해 보세요 동전도 원자로 되어 있습니다\n",
      "길을 비교해보면 만약에 원자를 여러분이 동전만 하게 뻥 튀겨 가지고 확대했다고 살펴보세요 그림 같은 스케일로 동전도 커질 텐데 그때 동전의 크기는 지구만 하게 됩니다 원자가 얼마나 작은 건지를 상상을 못하시겠지만 짐작을 하실 수 있을 겁니다 그것이 우리의 대상 이고요 따라서이 원자의 본질을 알게 까지에는 굉장히 어려움이 있었습니다 너무 자기 때문에 볼 수가 없는 거지요\n",
      "어떻게 보는지 생각하다 보면 오늘 시간을 다칠 거기 때문에 물리학자들이 걸 볼 수 있는 아주 기가 막힌 방법을 찾다가 말씀드릴게요 그래서 1차에 대한 여러가지 정보를 어떻게 됐는데 그 다음에 할 일은 원자를 일을 하는 거겠죠 근데 원자를이 하려다 보니 아주 괴상한 결론에 도달하게 됩니다 제가 중간과정을 말씀드릴 순 없을 것 같고요 그래서 완전 어떻게 생겼냐 하면 물론 안 보이니까 크게 확대해서 봐야 돼요 크게 확대를 아까 같이\n",
      "동전을 지구 정도로 확대하는 식으로 1절 확대해보면 이제원 작아보입니다 원자는 가운데 원자핵이라는 부분이 있고 원자핵은 양전하를 뛰고 있습니다 그 주위에는 전자라고 부르는 크기를 그렇지 없는 그런 작은 입자들이 돌고 있고요 된다는 말이 이상한 편히 수 있습니다 그것은 음전기를 뛰고 있습니다 여러분이 아시겠지만 양전하와 음전하는 서로 사이에 당기는\n",
      "작용하고 있습니다 그래서 양전하 주위에 전자가 양전하가 전자를 당기면서 돈은 이런 식의 모형 일일텐데 이거는 우리가 살고 있는이 지구 태양계의 모양과 굉장히 의사 합니다 따라서 원자핵을 여기 놓고 전자가 이원자 일주일을 어떻게 보는지 만 설명할 수 있다면 원자를 이해할 수 있다는 거죠 그러면 느끼기에는 케플러의법칙 같은게 있지 않을까 이렇게 생각할 수 있을 것 같아요\n",
      "하지만 놀랍게도이 양성자 또는 원자핵 주위를 도는 전자회의 원자 시스템은 우리가 알고 있던 없던 고전역학으로 설명할 수 없는 식으로 작동한다는 걸 알게 됩니다 그래서 우선 첫 번째 예를 들어 볼게요 전자는 음전하를 뛰고 있는게 전자가 원자핵 주위를 돕니다 이럴 때 제가 지금 설명을 다시 없는 시간이 관계로\n",
      "법칙에 따라서 일반적인 상황이라면 이전 장은 전자기파 너는 왜 제가 PC라고 부르는 것을 외부로 방출하게 합니다 사실 이것이 여러분이 핸드폰을 작동시키는 원리예요 핸드폰을 가지고 여러분이 그 어떤 신호를 보내거나 음성을 보낼 때 핸드폰 안에서는 전자가 가속운동을 합니다 가족이라는 영어의 스카시 절제는 가속운동을 합니다 진동운동을 하게 되죠 그럴 때 전자기파 전파를 발생시키기 때문에 여러분\n",
      "분위기 작동을 합니다 지금 원자핵 주위를 도는 전자는 핸드폰에서 움직이는 진동 운동하는 전자파 똑같은 상태이기 때문에 외부로 전자기파 전파를 발생시켜야 되고요 그러면 물리법칙에 따라서 에너지를 일은 전자가 점점 점점 하게 가까워져서 충돌을 하게 됩니다 따라서 기존의 물 이야기 맞다면 원자는 빠른 시간 내에 소멸되어야 되고요 여러분 몸은 다 언제로 돼 있으니까 여러분의 집값\n",
      "바로 볼 수 있으면 해결하기 위해서 새로운 법칙이 필요할 텐데이 어려움을 극복하는 사람이 첫 번째 중요한 물 약자인데요 리스 보라는 물 약점이다 리스본은 아마 물량 역사상 가장 어처구니 없는 그런 이런 얘기 됩니다 그 사람의 이런 일하는 것이 어떻게 되어 있냐면 원자의 경우 원자핵 주위를 도는 전자는 우리가 알고 있는\n",
      "법칙으로 세 명 되지도 않기 때문에이 녀석은 전자기파를 내지 않는다 사람들이 왜 냈지 아니 걔는 그러면 몰라 이런 일을 만듭니다 이거에 대해서 많은 평들이 있었는데 뭐 없다 어처구니없다 이런 표현들이 있더라고요 그다음에 보험을 한 발짝 더 나갑니다 그러면은 이제는 듣도 보도 못한 상태가 만들어진 건데 전자기파를 발생하지 않는 전자\n",
      "자 이렇게 처음 보는 상태가 만들어지거나 처음 보는 일이 벌어지면 물약 자들도 상당히 이제 머리 아프기 때문에 이럴 때는 보통 저희가 그냥 이름을 하나 주고 해야 합니다 사람들이 이름을 급해서 그러는데 하는 거죠 이런 교회도 이런 상태에다가 보어는 정상상태라는 이름을 중이다 이유는 모르지만 정상상태 있는 전차는 빛을 방출 하지 않는다 끝 여기까지도 마음이 아프지만 이제 더\n",
      "아픈데 두 번째 원리가 나오는데요 두 번째 올리는 실제 원자는 기사입니다 여러분이 지금 저를 보는 것도 제 몸을 이루는 원자들이내는 빛을 보는 거예요 그러면 저는 어떻게 빗을 내릴까 그럼 보호가 설명을 해야 되겠죠 보호의 설명하였습니다 전자가 양이 원자핵 주의 일을 도울 수 있는데 놀랍게도 볼 수 있는 괴도는 쉽게 생각해서 1개도 같은 거 들겠죠 여러분\n",
      "괴도는 어떤 특정한 반지름을 갖는 원 괴도는 가능하지만 예를 들어 1미터 떨어진 곳에서 돈은 전자는 있을 수 있고 2미터 떨어진 곳에 전자가 될 수 있습니다 하지만 1.5 m에는 돌 수가 없어요 즉 정상 상태는 띄엄띄엄 한 위치에만 존재한다는 겁니다 이렇게 위치가 띄엄띄엄 할 때 두부 위치는 서로 다른\n",
      "없습니다 물리적으로 그렇다면 당연히 한 쪽에 있던 전자가 다른 위치로 옮겨 갔을때 에너지 차이가 생기니까 그 에너지보존법칙이 맞다면 에너지는 어둠 걸어가거나 들어와야 됩니다 보는 얘기하죠 그때 들어오나 나가는 PC 원자흡수 방출하는 것이다 말도 안 되는 이런 같지만 이것으로 당시까지 알려진 원작 아내는 모든 빛의 성질 어려운말로 스펙트럼이다 불러요 스펙트럼\n",
      "생각하게 됩니다 이렇게 말도 안되는 이론이 시험을 설명하니까 사람들이 좀 박 않았겠죠 그렇죠 이걸 자기가 보어의 원자모형이라고 부를게 되고요 이와 같이 정상상태가 띄엄띄엄 하게 되어 있는 것을 교회도 전자궤도의 양자화라고 부릅니다 자 여기서 양자라는 이름이 나옵니다 그렇죠 이렇게 띄엄띄엄 하게 되어 있는 것을 저희가 양자라고 그러는 거죠 자 이렇게 해도 괜찮을까요\n",
      "걔도 물량이 괜찮을까요 선물 잘 설명 한다고 했지만 누구도 전자가 왜 그렇게 행동하는지를 모릅니다 더군다나 이런 질문을 하면 전자가 2미터 반지름으로 돌다가 2미터로 이동을 했어요 그러려면은 빗을 외부에서 받아야 됩니다 자 그러면은 2미터 2미터로 갈 때 전자는 어떻게 갔을까 중간에 어딘가를 이렇게 지나가겠죠 제가 여기 있다가 이쪽으로 옮겨\n",
      "다른 얘기는 들어 보니 중간과정을 보지 못했다 할지라도 제가이 사이를 지났다는 거를 여러분이 출근하실 수 있고요 중간 어느 시점에 인간은 제가 중간에 있었을겁니다 하지만 보험을 이렇게 답을 하지요 1.5 m 1.32 중간 지점 어디에도 있을 수 없어요 정상상태가 아니니까 따라서 전자는 반지름 1미터 개조해서 사라져서 2미터 개조에 나타났다\n",
      "라고 얘기하고 지금 표정이 안 좋으신데요 이럴 때 문 약자들 어떻게 한다고요 이름을 있습니다 양자도약이라는 이름을 주게됩니다 다음과 같은 모양으로 설명했다 한가운데 원자핵이 이거 전자는 특정한 반지름을 갖는게 두 개만 존재한다 다른 교회로 이동할 수 있는데 제대로 이동할 때는 강조한다\n",
      "바깥 교대로 이동할 때는 흡수한다 이때 괴도 이동은 한의서 사라져서 다른 교회로에 나타난다 두 개를 미끄러지듯 이동하는 것이 아니라 사라졌다가 나타난다 이러한 현상을 양자도약이라 한다 그래서 보호가 만든 원자를 설명하는 이론은 정상상태와 양자도약 일하는 두 개의 중요한 개념으로\n",
      "하지만 그 이유를 모릅니다 이것이 1910년대 초반에 상황이었습니다 그렇다면 누군가 나타나서이 상황을 빨리 설명을 하거나 최소한 이것을 휴식으로 뜨거운 물 약자의 어 너는 수학 이니까요 후식으로 쓰거나 어떤 시각적인 국민 카드 만들어서 체계를 좀 줘야 되겠죠 그런 사람이 나타나는데요 그 사람은 바로 오후에 이번에 나온지 12년이 지난 후 하이젠\n",
      "가는 사람이 그 일을 하게 됩니다 하이젠베르크가 만들어낸 양자역학을 저희는 오늘날 행렬역학이라고 부르면 돼 사실 얘기가 더 이어지기 때문에 잠깐 8 1 자네는 하이젠베르크라는 사람은 그 우리 말로 하면은 엄청납니다 못 하는게 없는 공무원 공부 음악이면 음악 운동이면 운동해서 하이젠베르크의 고향인 유엔에서는이 친구를 피아니스트로 할 정도로 음악을 합니다 그러니까 절대\n",
      "친구예요 그런 친구한테 양자역학이 딱 걸린 거야 그래서 양자역학의 수학적표현을 만들어내게 되고요 물론 도와 굉장히 긴밀한 관계 속에서 만들기 되는데 오늘 상당히 다른 캐릭터인데요 보는 그 이야기를 하면은 다른 사람들이 되게 이해하기 힘든 인식으로 이야기한다 그래요 되게 철학적이기까지 보셨지만 그냥 이거 다 저거 다 이유는 몰라 이런 스타일 있잖아요 그래서 누가 하는지 모르는데 엄청난 에너지가 열정으로\n",
      "다 할 때까지 한답니다 그래서 시키는 사람이죠 이캐릭터가게 중요한 거는 이제 곧 제가 말씀드릴 양자역학의 기본 개념들이 너무나 비직관적이어서 사람들이 반대를 할 때 보호가 아니었으면 선택할 수 없었을 겁니다 저희 준비되셨죠 자기 양자역학의 핵심원리를 가겠습니다 크는 아까 보호에 이론을 생각해 봤어요 사람들이 그 이유는 싫어하는데 싫어하지만 너무나 잘 맞아요 누군가\n",
      "첫 번째 질문은 몇 시로 할까 사람들이 왜 싫어하냐 하면은 1 m 괴도 반지름의 교회에 있던 전자가 사라져서 2미터의 나타난다는 거는 정말 말이 안 되잖아요 왜 중간 과정에 이렇게 전자가 이동하는 괴도를 설명할 수 없는 걸까 여기서 하이젠베르크가 인류 역사상 가장 놀라운 도약을 하게 됩니다 1925년 7월\n",
      "양자역학을 설명하는 너 이런 문의입니다 그때 그 친구 나이가 24살인데 없고요 24살에 나 이거 단독 저자로 너무 늦습니다 그렇게 쓰지 않았으면 나오지 않았으면 문일 거예요 어떤 기성 과학자도 2일 오후 24시 없었을겁니다 처음에는 뭐라고 물어 보면은 왜 우리는 전자가 1미터 개조해서 2미터 계좌로 갈 때 괴도를 우리가 알 수 있을 거라고 생각을 할까\n",
      "전자를 본 적이 없어요 근데 우리는 왜 보지 못한 전자에 대해서 우리가 보아서 알고 있는 우리 이것이 세계의 운동이 똑같이 적용이 될 거라고 가정 하는 걸까 이상 하셔 따라서 쩜쩜쩜 양자역학에 대해서 우리가 직접 측정으로 알아낼 수 있는 것만 가지고 이론을 구성해 보자 이게 돼야 됩니다 저 혼자 있습니다\n",
      "문제가 안 보여 줘도 안 보여요 여러분이 보험은 언제 하는 저같이 엄청나게 많은 수의 원자가 모임 그런 것들은 보이죠 먼저를 보고 있는 거예요 엄밀하게 여러분이 보는 건 원작을 자체니까 여러분이 보는 것은 원자가 내놓는 핏입니다 그렇죠 원자가 빛을내는 이유는 보호가 얘기한 정상상태를 전자가 넘나들기 때문에 양자 대학을 통해서 거기 때문에 보는 거죠\n",
      "위에 얻을 수 있는게 많지 않습니다 됐죠 그런 생각이 일해요 따라서 전자에 대해서 우리가 위치가 어딘지 속도가 얼마인지를 더 이상 묻지 말라 해 본 적도 없고 본 적도 없는데 왜 물어보는 거야 오늘 지원자는 원자가 내면 되는 이유는 정상상태와 정상상태를 사이를 넘나드는 관계 일본 상태 에너지 이번 상태 에너지\n",
      "1번과 2번을 넘나드는 어떤 비율 확률 1번과 3번 상태 에너지 1번과 3번 4일 넘나드는 이런 식으로 나오는 숫자들 이것들이 집합만 위원장 하는 겁니다 정말 귀하게 이를데없는 피타고라스가 얘기했듯이 우주는 만물은 수달아 그랬는데요 이런 숫자에 집합이 1절 하는 거예요 그래서 이렇게 숫자를 배열 하게 되면 여러분들이 바둑판을 보시면 따뜻하네 눈금이 이렇게 보이고 네모칸이 있잖아요 근데 모카\n",
      "차를 나오신 됩니다 그러면 그 십자들로 돼 있는 바둑판에 숫자 집합이 바로 행렬이라고 부르는 건데 수학에서는 이것이 원자 다 남겨 하이젠베르크의 답이죠 하이젠베르크는 당시 전자 가계도를 돌고 있다는 개념을 과감히 버린다 오로지 측정가능한 물량만 가지고 양자역학을 구성해야 한다고 생각했다 원자로부터 얻을 수 있는 정보는 원자흡수 방출하는 기분이다\n",
      "에너지 그리고 전자가 흡수 방출하는 빛의 진동수로 구성된 수들의 열 바로 하이젠베르크의 행렬역학이다 행렬이란 과열로 이루어진 수들의 배열이다 하이젠베르크는 행렬역학을 통해 보어원자모형의 수학적 기반을 제공했다\n"
     ]
    }
   ],
   "source": [
    "for i in last_list:\n",
    "    kss.split_sentences(i)\n",
    "    print(i)"
   ]
  },
  {
   "cell_type": "code",
   "execution_count": 36,
   "id": "fcfd5256",
   "metadata": {},
   "outputs": [
    {
     "name": "stdout",
     "output_type": "stream",
     "text": [
      "이것은 불가능하다는 입장이다 양자설부터 시작된 양자역학은 아인슈타인 도어 하이젠베르크 슈레딩거 논쟁과 이어졌다 천재 물리학자 리처드 파인만이 양자역학을 완벽히 아는 사람은 아무도 없다고 할 정도로 쉽게 접근하기 어려운 하지만 우리 생활양자역학이 영향을 미치고 있다 핵심적인 질문은 바로 본다는 것이 뭘까 결론은 간다네요 보는 행위가 대상이 영향을 준다는 건데요 오해하시면 안 되는 것이 제가 아침에 지하철 타고 가는데 지하철 타고서 있다 그러면은 아빠 안전 사람 있겠죠 안전 사람에게 노래 보면 그냥 다 될 겁니다\n"
     ]
    }
   ],
   "source": [
    "print(\"이것은 불가능하다는 입장이다 양자설부터 시작된 양자역학은 아인슈타인 도어 하이젠베르크 슈레딩거 논쟁과 이어졌다 천재 물리학자 리처드 파인만이 양자역학을 완벽히 아는 사람은 아무도 없다고 할 정도로 쉽게 접근하기 어려운 하지만 우리 생활양자역학이 영향을 미치고 있다 핵심적인 질문은 바로 본다는 것이 뭘까 결론은 간다네요 보는 행위가 대상이 영향을 준다는 건데요 오해하시면 안 되는 것이 제가 아침에 지하철 타고 가는데 지하철 타고서 있다 그러면은 아빠 안전 사람 있겠죠 안전 사람에게 노래 보면 그냥 다 될 겁니다\")"
   ]
  },
  {
   "cell_type": "code",
   "execution_count": 34,
   "id": "ab0662b0",
   "metadata": {
    "scrolled": true
   },
   "outputs": [
    {
     "name": "stdout",
     "output_type": "stream",
     "text": [
      "이것은 불가능하다는 입장이다\n",
      "양자설부터 시작된 양자역학은 아인슈타인 도어 하이젠베르크 슈레딩거 논쟁과 이어졌다\n",
      "천재 물리학자 리처드 파인만이 양자역학을 완벽히 아는 사람은 아무도 없다고 할 정도로 쉽게 접근하기 어려운 하지만 우리 생활양자역학이 영향을 미치고 있다\n",
      "핵심적인 질문은 바로 본다는 것이 뭘까 결론은 간다네요 보는 행위가 대상이 영향을 준다는 건데요\n",
      "오해하시면 안 되는 것이 제가 아침에 지하철 타고 가는데 지하철 타고서 있다\n",
      "그러면은 아빠 안전 사람 있겠죠\n",
      "안전 사람에게 노래 보면 그냥 다 될 겁니다\n"
     ]
    }
   ],
   "source": [
    "s = \"이것은 불가능하다는 입장이다 양자설부터 시작된 양자역학은 아인슈타인 도어 하이젠베르크 슈레딩거 논쟁과 이어졌다 천재 물리학자 리처드 파인만이 양자역학을 완벽히 아는 사람은 아무도 없다고 할 정도로 쉽게 접근하기 어려운 하지만 우리 생활양자역학이 영향을 미치고 있다 핵심적인 질문은 바로 본다는 것이 뭘까 결론은 간다네요 보는 행위가 대상이 영향을 준다는 건데요 오해하시면 안 되는 것이 제가 아침에 지하철 타고 가는데 지하철 타고서 있다 그러면은 아빠 안전 사람 있겠죠 안전 사람에게 노래 보면 그냥 다 될 겁니다\"\n",
    "for sent in kss.split_sentences(s):\n",
    "    print(sent)"
   ]
  },
  {
   "cell_type": "markdown",
   "id": "ab769b7e",
   "metadata": {},
   "source": [
    "### Konlpy(base환경) 사용"
   ]
  },
  {
   "cell_type": "markdown",
   "id": "c6196913",
   "metadata": {},
   "source": [
    "#### kkm"
   ]
  },
  {
   "cell_type": "code",
   "execution_count": 1,
   "id": "4c427e2e",
   "metadata": {
    "collapsed": true
   },
   "outputs": [
    {
     "name": "stdout",
     "output_type": "stream",
     "text": [
      "Collecting konlpy\n",
      "  Using cached konlpy-0.5.2-py2.py3-none-any.whl (19.4 MB)\n",
      "Requirement already satisfied: numpy>=1.6 in c:\\users\\smhrd\\anaconda3\\envs\\deep_gpu2021\\lib\\site-packages (from konlpy) (1.19.2)\n",
      "Collecting tweepy>=3.7.0\n",
      "  Using cached tweepy-3.10.0-py2.py3-none-any.whl (30 kB)\n",
      "Requirement already satisfied: colorama in c:\\users\\smhrd\\anaconda3\\envs\\deep_gpu2021\\lib\\site-packages (from konlpy) (0.4.4)\n",
      "Collecting JPype1>=0.7.0\n",
      "  Downloading JPype1-1.3.0-cp36-cp36m-win_amd64.whl (361 kB)\n",
      "Collecting lxml>=4.1.0\n",
      "  Downloading lxml-4.6.3-cp36-cp36m-win_amd64.whl (3.5 MB)\n",
      "Collecting beautifulsoup4==4.6.0\n",
      "  Using cached beautifulsoup4-4.6.0-py3-none-any.whl (86 kB)\n",
      "Requirement already satisfied: typing-extensions in c:\\users\\smhrd\\anaconda3\\envs\\deep_gpu2021\\lib\\site-packages (from JPype1>=0.7.0->konlpy) (3.7.4.3)\n",
      "Requirement already satisfied: requests[socks]>=2.11.1 in c:\\users\\smhrd\\anaconda3\\envs\\deep_gpu2021\\lib\\site-packages (from tweepy>=3.7.0->konlpy) (2.25.1)\n",
      "Requirement already satisfied: requests-oauthlib>=0.7.0 in c:\\users\\smhrd\\anaconda3\\envs\\deep_gpu2021\\lib\\site-packages (from tweepy>=3.7.0->konlpy) (1.3.0)\n",
      "Requirement already satisfied: six>=1.10.0 in c:\\users\\smhrd\\anaconda3\\envs\\deep_gpu2021\\lib\\site-packages (from tweepy>=3.7.0->konlpy) (1.15.0)\n",
      "Requirement already satisfied: oauthlib>=3.0.0 in c:\\users\\smhrd\\anaconda3\\envs\\deep_gpu2021\\lib\\site-packages (from requests-oauthlib>=0.7.0->tweepy>=3.7.0->konlpy) (3.1.1)\n",
      "Requirement already satisfied: chardet<5,>=3.0.2 in c:\\users\\smhrd\\anaconda3\\envs\\deep_gpu2021\\lib\\site-packages (from requests[socks]>=2.11.1->tweepy>=3.7.0->konlpy) (4.0.0)\n",
      "Requirement already satisfied: urllib3<1.27,>=1.21.1 in c:\\users\\smhrd\\anaconda3\\envs\\deep_gpu2021\\lib\\site-packages (from requests[socks]>=2.11.1->tweepy>=3.7.0->konlpy) (1.26.6)\n",
      "Requirement already satisfied: idna<3,>=2.5 in c:\\users\\smhrd\\anaconda3\\envs\\deep_gpu2021\\lib\\site-packages (from requests[socks]>=2.11.1->tweepy>=3.7.0->konlpy) (2.10)\n",
      "Requirement already satisfied: certifi>=2017.4.17 in c:\\users\\smhrd\\anaconda3\\envs\\deep_gpu2021\\lib\\site-packages (from requests[socks]>=2.11.1->tweepy>=3.7.0->konlpy) (2021.5.30)\n",
      "Requirement already satisfied: PySocks!=1.5.7,>=1.5.6 in c:\\users\\smhrd\\anaconda3\\envs\\deep_gpu2021\\lib\\site-packages (from requests[socks]>=2.11.1->tweepy>=3.7.0->konlpy) (1.7.1)\n",
      "Installing collected packages: tweepy, lxml, JPype1, beautifulsoup4, konlpy\n",
      "Successfully installed JPype1-1.3.0 beautifulsoup4-4.6.0 konlpy-0.5.2 lxml-4.6.3 tweepy-3.10.0\n"
     ]
    },
    {
     "name": "stderr",
     "output_type": "stream",
     "text": [
      "WARNING: Ignoring invalid distribution -5py (c:\\users\\smhrd\\anaconda3\\envs\\deep_gpu2021\\lib\\site-packages)\n",
      "WARNING: Ignoring invalid distribution -5py (c:\\users\\smhrd\\anaconda3\\envs\\deep_gpu2021\\lib\\site-packages)\n",
      "WARNING: Ignoring invalid distribution -5py (c:\\users\\smhrd\\anaconda3\\envs\\deep_gpu2021\\lib\\site-packages)\n",
      "WARNING: Ignoring invalid distribution -5py (c:\\users\\smhrd\\anaconda3\\envs\\deep_gpu2021\\lib\\site-packages)\n",
      "WARNING: Ignoring invalid distribution -5py (c:\\users\\smhrd\\anaconda3\\envs\\deep_gpu2021\\lib\\site-packages)\n",
      "WARNING: Ignoring invalid distribution -5py (c:\\users\\smhrd\\anaconda3\\envs\\deep_gpu2021\\lib\\site-packages)\n",
      "WARNING: Ignoring invalid distribution -5py (c:\\users\\smhrd\\anaconda3\\envs\\deep_gpu2021\\lib\\site-packages)\n",
      "WARNING: Ignoring invalid distribution -5py (c:\\users\\smhrd\\anaconda3\\envs\\deep_gpu2021\\lib\\site-packages)\n",
      "WARNING: Ignoring invalid distribution -5py (c:\\users\\smhrd\\anaconda3\\envs\\deep_gpu2021\\lib\\site-packages)\n",
      "WARNING: Ignoring invalid distribution -5py (c:\\users\\smhrd\\anaconda3\\envs\\deep_gpu2021\\lib\\site-packages)\n"
     ]
    }
   ],
   "source": [
    "!pip install konlpy"
   ]
  },
  {
   "cell_type": "code",
   "execution_count": 1,
   "id": "f9b59f98",
   "metadata": {},
   "outputs": [],
   "source": [
    "from konlpy.tag import Kkma"
   ]
  },
  {
   "cell_type": "code",
   "execution_count": 2,
   "id": "d5e11c70",
   "metadata": {},
   "outputs": [],
   "source": [
    "kkm=Kkma()"
   ]
  },
  {
   "cell_type": "code",
   "execution_count": 3,
   "id": "647e8b08",
   "metadata": {},
   "outputs": [],
   "source": [
    "word = '18 결국에는 1910년 8월 29일에 발표를 했어요 그래서 8월 29일은 아마 이러면 들어보셨을지 모르겠어요 경술국치일이라고 그래요 경술국치일 그래서 정 수련회 1090년 경실련의 나라의 치욕스러운 날이다 그래서 경술국치 일이라고 하고 가끔 요즘 뭐 그래 달력 볼 일이 별로 없지만 가끔 달력에 보면은 경술국치일'"
   ]
  },
  {
   "cell_type": "code",
   "execution_count": 5,
   "id": "0dbb4c98",
   "metadata": {},
   "outputs": [
    {
     "data": {
      "text/plain": [
       "['18 결국에는 1910년 8월 29일에 발표를 했어요',\n",
       " '그래서 8월 29일은 아마 이러면 들어 보셨을지 모르겠어요',\n",
       " '경술 국치일이라고 그래요 경술 국치일 그래서 정 수련회 1090년 경실련의 나라의 치욕스러운 날이다',\n",
       " '그래서 경술 국치 일이라고 하고 가끔 요즘 뭐 그래 달력 볼 일이 별로 없지만 가끔 달력에 보면 은 경술 국치일']"
      ]
     },
     "execution_count": 5,
     "metadata": {},
     "output_type": "execute_result"
    }
   ],
   "source": [
    "kkm.sentences(word)"
   ]
  },
  {
   "cell_type": "code",
   "execution_count": 43,
   "id": "64d5c3c2",
   "metadata": {},
   "outputs": [
    {
     "data": {
      "text/plain": [
       "['이것',\n",
       " '불가능',\n",
       " '입장',\n",
       " '양자설',\n",
       " '시작',\n",
       " '양자',\n",
       " '양자역학',\n",
       " '역학',\n",
       " '슈타인',\n",
       " '도어',\n",
       " '하',\n",
       " '하이젠베르크',\n",
       " '이젠',\n",
       " '베르크',\n",
       " '슈',\n",
       " '슈레딩',\n",
       " '레',\n",
       " '딩',\n",
       " '논쟁',\n",
       " '천재',\n",
       " '물리학자',\n",
       " '리처드',\n",
       " '파인',\n",
       " '파인만이',\n",
       " '만이',\n",
       " '사람',\n",
       " '아무',\n",
       " '정도',\n",
       " '접근',\n",
       " '우리',\n",
       " '생활']"
      ]
     },
     "execution_count": 43,
     "metadata": {},
     "output_type": "execute_result"
    }
   ],
   "source": [
    "kkm.nouns(last_list[0])"
   ]
  },
  {
   "cell_type": "markdown",
   "id": "8ef45cea",
   "metadata": {},
   "source": [
    "#### okt"
   ]
  },
  {
   "cell_type": "code",
   "execution_count": 44,
   "id": "4d686289",
   "metadata": {},
   "outputs": [],
   "source": [
    "from konlpy.tag import Okt"
   ]
  },
  {
   "cell_type": "code",
   "execution_count": 45,
   "id": "0d3c513b",
   "metadata": {},
   "outputs": [],
   "source": [
    "okt = Okt()"
   ]
  },
  {
   "cell_type": "code",
   "execution_count": 46,
   "id": "ab0ea654",
   "metadata": {},
   "outputs": [
    {
     "data": {
      "text/plain": [
       "[('이', 'Determiner'),\n",
       " ('것', 'Noun'),\n",
       " ('은', 'Josa'),\n",
       " ('불가능하다는', 'Adjective'),\n",
       " ('입장', 'Noun'),\n",
       " ('이다', 'Josa'),\n",
       " ('양자', 'Noun'),\n",
       " ('설', 'Noun'),\n",
       " ('부터', 'Josa'),\n",
       " ('시작', 'Noun'),\n",
       " ('된', 'Verb'),\n",
       " ('양자역학', 'Noun'),\n",
       " ('은', 'Josa'),\n",
       " ('아인슈타인', 'Noun'),\n",
       " ('도어', 'Noun'),\n",
       " ('하이젠베르크', 'Noun'),\n",
       " ('슈', 'Noun'),\n",
       " ('레딩', 'Noun'),\n",
       " ('거', 'Noun'),\n",
       " ('논쟁', 'Noun'),\n",
       " ('과', 'Josa'),\n",
       " ('이어졌다', 'Verb'),\n",
       " ('천재', 'Noun'),\n",
       " ('물리학자', 'Noun'),\n",
       " ('리처드', 'Noun'),\n",
       " ('파인만', 'Noun'),\n",
       " ('이', 'Josa'),\n",
       " ('양자역학', 'Noun'),\n",
       " ('을', 'Josa'),\n",
       " ('완벽히', 'Adjective'),\n",
       " ('아는', 'Verb'),\n",
       " ('사람', 'Noun'),\n",
       " ('은', 'Josa'),\n",
       " ('아무', 'Noun'),\n",
       " ('도', 'Josa'),\n",
       " ('없다고', 'Adjective'),\n",
       " ('할', 'Verb'),\n",
       " ('정도', 'Noun'),\n",
       " ('로', 'Josa'),\n",
       " ('쉽게', 'Verb'),\n",
       " ('접근', 'Noun'),\n",
       " ('하기', 'Verb'),\n",
       " ('어려운', 'Adjective'),\n",
       " ('하지만', 'Conjunction'),\n",
       " ('우리', 'Noun'),\n",
       " ('생활', 'Noun')]"
      ]
     },
     "execution_count": 46,
     "metadata": {},
     "output_type": "execute_result"
    }
   ],
   "source": [
    "okt.pos(last_list[0])"
   ]
  },
  {
   "cell_type": "code",
   "execution_count": 47,
   "id": "f6d8c114",
   "metadata": {
    "collapsed": true
   },
   "outputs": [
    {
     "data": {
      "text/plain": [
       "['것',\n",
       " '입장',\n",
       " '양자',\n",
       " '설',\n",
       " '시작',\n",
       " '양자역학',\n",
       " '아인슈타인',\n",
       " '도어',\n",
       " '하이젠베르크',\n",
       " '슈',\n",
       " '레딩',\n",
       " '거',\n",
       " '논쟁',\n",
       " '천재',\n",
       " '물리학자',\n",
       " '리처드',\n",
       " '파인만',\n",
       " '양자역학',\n",
       " '사람',\n",
       " '아무',\n",
       " '정도',\n",
       " '접근',\n",
       " '우리',\n",
       " '생활']"
      ]
     },
     "execution_count": 47,
     "metadata": {},
     "output_type": "execute_result"
    }
   ],
   "source": [
    "okt.nouns(last_list[0])"
   ]
  },
  {
   "cell_type": "markdown",
   "id": "6164de9c",
   "metadata": {},
   "source": [
    "#### komoran"
   ]
  },
  {
   "cell_type": "code",
   "execution_count": 48,
   "id": "a724e2cb",
   "metadata": {},
   "outputs": [],
   "source": [
    "from konlpy.tag import Komoran\n",
    "komoran = Komoran()"
   ]
  },
  {
   "cell_type": "code",
   "execution_count": 49,
   "id": "98632bd1",
   "metadata": {},
   "outputs": [
    {
     "data": {
      "text/plain": [
       "[('이것', 'NP'),\n",
       " ('은', 'JX'),\n",
       " ('불', 'XPN'),\n",
       " ('가능', 'XR'),\n",
       " ('하', 'XSA'),\n",
       " ('다는', 'ETM'),\n",
       " ('입장', 'NNG'),\n",
       " ('이', 'VCP'),\n",
       " ('다', 'EC'),\n",
       " ('양자', 'NNP'),\n",
       " ('설', 'NNB'),\n",
       " ('부터', 'JX'),\n",
       " ('시작', 'NNG'),\n",
       " ('되', 'XSV'),\n",
       " ('ㄴ', 'ETM'),\n",
       " ('양자역학', 'NNP'),\n",
       " ('은', 'JX'),\n",
       " ('아인슈타인', 'NNP'),\n",
       " ('도어', 'NNP'),\n",
       " ('하이', 'NNP'),\n",
       " ('젠', 'NNP'),\n",
       " ('베르', 'NNP'),\n",
       " ('크', 'VV'),\n",
       " ('슈레딩거', 'NA'),\n",
       " ('논쟁', 'NNG'),\n",
       " ('과', 'JC'),\n",
       " ('이어지', 'VV'),\n",
       " ('었', 'EP'),\n",
       " ('다', 'EC'),\n",
       " ('천재', 'NNP'),\n",
       " ('물리학자', 'NNP'),\n",
       " ('리처드 파인만', 'NNP'),\n",
       " ('이', 'JKS'),\n",
       " ('양자역학', 'NNP'),\n",
       " ('을', 'JKO'),\n",
       " ('완벽히', 'MAG'),\n",
       " ('알', 'VV'),\n",
       " ('는', 'ETM'),\n",
       " ('사람', 'NNG'),\n",
       " ('은', 'JX'),\n",
       " ('아무도', 'NNP'),\n",
       " ('없', 'VA'),\n",
       " ('다고', 'EC'),\n",
       " ('하', 'VV'),\n",
       " ('ㄹ', 'ETM'),\n",
       " ('정도', 'NNG'),\n",
       " ('로', 'JKB'),\n",
       " ('쉽', 'VA'),\n",
       " ('게', 'EC'),\n",
       " ('접근', 'NNG'),\n",
       " ('하', 'XSV'),\n",
       " ('기', 'ETN'),\n",
       " ('어렵', 'VA'),\n",
       " ('ㄴ', 'ETM'),\n",
       " ('하지만', 'MAJ'),\n",
       " ('우리', 'NP'),\n",
       " ('생활', 'NNG')]"
      ]
     },
     "execution_count": 49,
     "metadata": {},
     "output_type": "execute_result"
    }
   ],
   "source": [
    "komoran.pos(last_list[0])"
   ]
  },
  {
   "cell_type": "markdown",
   "id": "ce768f83",
   "metadata": {},
   "source": [
    "# 워드 임베딩"
   ]
  },
  {
   "cell_type": "code",
   "execution_count": 10,
   "id": "6812d1ef",
   "metadata": {},
   "outputs": [],
   "source": [
    "from tensorflow.keras.layers import Embedding"
   ]
  },
  {
   "cell_type": "code",
   "execution_count": null,
   "id": "25dd045d",
   "metadata": {},
   "outputs": [],
   "source": []
  }
 ],
 "metadata": {
  "kernelspec": {
   "display_name": "Python 3",
   "language": "python",
   "name": "python3"
  },
  "language_info": {
   "codemirror_mode": {
    "name": "ipython",
    "version": 3
   },
   "file_extension": ".py",
   "mimetype": "text/x-python",
   "name": "python",
   "nbconvert_exporter": "python",
   "pygments_lexer": "ipython3",
   "version": "3.6.13"
  }
 },
 "nbformat": 4,
 "nbformat_minor": 5
}
